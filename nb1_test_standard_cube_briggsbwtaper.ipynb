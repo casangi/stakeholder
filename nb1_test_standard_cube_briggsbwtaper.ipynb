{
 "cells": [
  {
   "cell_type": "markdown",
   "metadata": {
    "id": "csR4T9cbEu1o"
   },
   "source": [
    "## Fetch Stakeholder Repository"
   ]
  },
  {
   "cell_type": "code",
   "execution_count": null,
   "metadata": {
    "id": "bSr3sYyghZ17"
   },
   "outputs": [],
   "source": [
    "#import os\n",
    "\n",
    "#if os.path.exists('./stakeholder') is True:\n",
    "#    os.system('rm -rf ./stakeholder/')\n",
    "\n",
    "#!git clone https://github.com/casangi/stakeholder.git"
   ]
  },
  {
   "cell_type": "markdown",
   "metadata": {},
   "source": [
    "## Certify and install required python modules."
   ]
  },
  {
   "cell_type": "code",
   "execution_count": 1,
   "metadata": {},
   "outputs": [],
   "source": [
    "import os\n",
    "import sys\n",
    "import subprocess\n",
    "import pkg_resources\n",
    "\n",
    "__require = {'casatools', 'casatasks', 'casatestutils', 'panel', 'astropy', 'matplotlib', 'numpy'}\n",
    "__installed = {pkg.key for pkg in pkg_resources.working_set}\n",
    "    \n",
    "__missing = __require - __installed\n",
    "\n",
    "\n",
    "if len(__missing) > 0:\n",
    "    subprocess.check_call([sys.executable, '-m', 'pip', 'install', *__missing], stdout=subprocess.DEVNULL)"
   ]
  },
  {
   "cell_type": "code",
   "execution_count": null,
   "metadata": {
    "id": "VlBxKASNqblr"
   },
   "outputs": [],
   "source": [
    "!python3 -m casatools --update-user-data"
   ]
  },
  {
   "cell_type": "markdown",
   "metadata": {
    "id": "Y5_Y1wfXFMoo"
   },
   "source": [
    "## Utility Functions"
   ]
  },
  {
   "cell_type": "code",
   "execution_count": 2,
   "metadata": {
    "colab": {
     "base_uri": "https://localhost:8080/"
    },
    "id": "SsZH-VzmYs8P",
    "outputId": "1ac54b27-ed61-4818-a3d5-13c738434e77"
   },
   "outputs": [],
   "source": [
    "def clean_data():\n",
    "    import os\n",
    "    \n",
    "    os.system('rm -rf standard_cube* *.log *.png *.html')"
   ]
  },
  {
   "cell_type": "markdown",
   "metadata": {
    "id": "J88MWrnHFXZP"
   },
   "source": [
    "## Stakeholder Datasets"
   ]
  },
  {
   "cell_type": "markdown",
   "metadata": {
    "id": "qkRyVmChIil2"
   },
   "source": [
    "```\n",
    "Datasets (MOUS)\n",
    "E2E6.1.00034.S (uid://A002/Xcff05c/X1ec)\n",
    "2018.1.00879.S (uid://A001/X133d/X169f)\n",
    "E2E6.1.00020.S (uid://A002/Xcff05c/Xe5)\n",
    "2017.1.00750.T (uid://A001/X131b/X57)\n",
    "\n",
    "Test list - 22 total\n",
    "1a.  Single field(SF) cube with perchanweightdensity=False(pcwdF), weighting=briggs - E2E6.1.00034.S\n",
    "1b.  SF cube with pcwdT, weighting=briggs - E2E6.1.00034.S\n",
    "1c.  SF cube with pcwdT, weighting=briggsbwtaper - E2E6.1.00034.S\n",
    "2.   SF MFS - E2E6.1.00020.S\n",
    "3.   SF mtmfs - E2E6.1.00020.S\n",
    "4a.  SF ephemeris cube (multi-EB) with pcwdF+briggs - 2017.1.00750.T\n",
    "4b.  SF ephemeris cube (multi-EB) with pcwdT+briggs - 2017.1.00750.T\n",
    "4c.  SF ephemeris cube (multi-EB) with pcwdT+briggsbwtaper - 2017.1.00750.T\n",
    "5.   SF ephemeris MFS - 2018.1.00879.S\n",
    "6.   SF ephemeris mtmfs - 2018.1.00879.S\n",
    "7.   SF Calibrator - E2E6.1.00034.S\n",
    "8.   SF ephemeris Calibrator - 2018.1.00879.S\n",
    "9a.  Mosaic cube with pcwdF, briggs- E2E6.1.00034.S\n",
    "9b.  Mosaic cube with pcwdT+brigs- E2E6.1.00034.S\n",
    "9c.  Mosaic cube with pcwdT+briggsbwtaper- E2E6.1.00034.S\n",
    "10.  Mosaic MFS - E2E6.1.00020.S\n",
    "11.  Mosaic mtmfs - E2E6.1.00020.S\n",
    "12a. Mosaic ephemeris cube with pcwdF- 2018.1.00879.S\n",
    "12b. Mosaic ephemeris cube with pcwdT+briggs - 2018.1.00879.S\n",
    "12c. Mosaic ephemeris cube with pcwdT+briggsbwtaper - 2018.1.00879.S\n",
    "13.  Mosaic ephemeris MFS - 2018.1.00879.S\n",
    "14.  Mosaic ephemeris mtmfs - 2018.1.00879.S\n",
    "\n",
    "Each test stores reference values in dictionaries for the metrics\n",
    "to be tested and these dictionaries are stored in a single nested dictionary\n",
    "in a json file located in the casatestdata repository. \n",
    "The path of json file is stored in the variable, \n",
    "       self.expdict_jsonfile  \n",
    "in test_tclean_base.setUp(). \n",
    "\n",
    "* NOTE for updating the tests and fiducial values in json file *\n",
    "When the json file is updated and its 'casa_version'\n",
    "could also be updated then self.refversion in the setUp() needs to be updated to\n",
    "match with the 'casa_version' as defined in the json file otherwise \n",
    "almastkteestutils.read_testcase_expdicts() print an error message.\n",
    "\n",
    "The fudicial metric values for a specific image are stored with the following keys.\n",
    " \n",
    "For the standard tests, default sets are:\n",
    "    exp_im_stats, exp_mask_stats, exp_pb_stats, exp_psf_stats,\n",
    "    exp_model_stats, exp_resid_stats, exp_sumwt_stats\n",
    "For mosaic tests, the ones above and\n",
    "    exp_wt_stats (for mosaic)\n",
    "Additionally, for cube imaging (if self.parallel=True),\n",
    "    exp_bmin_dict, exp_bmaj_dict, exp_pa_dict\n",
    "And for mtmfs\n",
    "    exp_im1_stats, exp_model1_stats, exp_resid1_stats, exp_sumwt1_stats\n",
    "```"
   ]
  },
  {
   "cell_type": "markdown",
   "metadata": {
    "id": "5omVbUilFTK6"
   },
   "source": [
    "## Stakeholder Modular Test Breakdown"
   ]
  },
  {
   "cell_type": "markdown",
   "metadata": {
    "id": "BmvVLkArJHh5"
   },
   "source": [
    "Load the stakeholder test as a module. The `Test_standard()` class has been modularized into the following general pieces:\n",
    "\n",
    "\n",
    "\n",
    "*   `tclean_base.set_file_path()` : This is a new method in the base class that is used to set the stakeholder data path in a way that is accesible when running in modular mode.\n",
    "*   `tclean_base.prepData()` | `tclean_base.getExpdicts()`: Both of these functions are traditionally called when the test class is instantiated.\n",
    "*   `tclean_base.setUp()`: This method is normally called with the test class instantiation but due to needing to set the data path in colab manually, for modular operation, it is called separately.\n",
    "*   `Test_standard.test_standard_cube()`: This is the standard cube test method. A check is done to determine whether the method is being called as a part of the standard unittest suite or modular by the user. The `inspect` module is used to determine the method that called standard cube test.\n",
    "*   `tclean_base.clean()`: For standard operation the tclean tests are called in the normal way using the method `Test_standard.standard_cube_clean()` but for modular operation a tclean wrapper function has been added to the base class allowing the user to call tclean with their choice of input parameters.\n",
    "*   `Test_standard.standard_cube_report()`: This method contains the code to generate the user test reports and moment plots. It is called in both use cases."
   ]
  },
  {
   "cell_type": "markdown",
   "metadata": {
    "id": "RfDJlKvqGFKj"
   },
   "source": [
    "## Load Stakeholder Data"
   ]
  },
  {
   "cell_type": "code",
   "execution_count": 4,
   "metadata": {
    "colab": {
     "base_uri": "https://localhost:8080/"
    },
    "id": "9vDBSCKw2a2h",
    "outputId": "72320507-413d-44ab-ce5f-6838b4646451"
   },
   "outputs": [
    {
     "name": "stdout",
     "output_type": "stream",
     "text": [
      "--2021-12-16 15:20:16--  https://www.cv.nrao.edu/~jhoskins/E2E6.1.00034.S_tclean.ms.tar\n",
      "Resolving www.cv.nrao.edu (www.cv.nrao.edu)... 192.33.115.129\n",
      "Connecting to www.cv.nrao.edu (www.cv.nrao.edu)|192.33.115.129|:443... connected.\n",
      "HTTP request sent, awaiting response... 200 OK\n",
      "Length: 195870720 (187M) [application/x-tar]\n",
      "Saving to: ‘E2E6.1.00034.S_tclean.ms.tar’\n",
      "\n",
      "E2E6.1.00034.S_tcle 100%[===================>] 186.80M   111MB/s    in 1.7s    \n",
      "\n",
      "2021-12-16 15:20:19 (111 MB/s) - ‘E2E6.1.00034.S_tclean.ms.tar’ saved [195870720/195870720]\n",
      "\n",
      "FINISHED --2021-12-16 15:20:19--\n",
      "Total wall clock time: 3.1s\n",
      "Downloaded: 1 files, 187M in 1.7s (111 MB/s)\n",
      "E2E6.1.00034.S_tclean.ms/\n",
      "E2E6.1.00034.S_tclean.ms/ANTENNA/\n",
      "E2E6.1.00034.S_tclean.ms/ANTENNA/table.dat\n",
      "E2E6.1.00034.S_tclean.ms/ANTENNA/table.f0\n",
      "E2E6.1.00034.S_tclean.ms/ANTENNA/table.info\n",
      "E2E6.1.00034.S_tclean.ms/ANTENNA/table.lock\n",
      "E2E6.1.00034.S_tclean.ms/ASDM_ANTENNA/\n",
      "E2E6.1.00034.S_tclean.ms/ASDM_ANTENNA/table.dat\n",
      "E2E6.1.00034.S_tclean.ms/ASDM_ANTENNA/table.f0\n",
      "E2E6.1.00034.S_tclean.ms/ASDM_ANTENNA/table.f0i\n",
      "E2E6.1.00034.S_tclean.ms/ASDM_ANTENNA/table.info\n",
      "E2E6.1.00034.S_tclean.ms/ASDM_ANTENNA/table.lock\n",
      "E2E6.1.00034.S_tclean.ms/ASDM_CALATMOSPHERE/\n",
      "E2E6.1.00034.S_tclean.ms/ASDM_CALATMOSPHERE/table.dat\n",
      "E2E6.1.00034.S_tclean.ms/ASDM_CALATMOSPHERE/table.f0\n",
      "E2E6.1.00034.S_tclean.ms/ASDM_CALATMOSPHERE/table.f0i\n",
      "E2E6.1.00034.S_tclean.ms/ASDM_CALATMOSPHERE/table.info\n",
      "E2E6.1.00034.S_tclean.ms/ASDM_CALATMOSPHERE/table.lock\n",
      "E2E6.1.00034.S_tclean.ms/ASDM_CALPOINTING/\n",
      "E2E6.1.00034.S_tclean.ms/ASDM_CALPOINTING/table.dat\n",
      "E2E6.1.00034.S_tclean.ms/ASDM_CALPOINTING/table.f0\n",
      "E2E6.1.00034.S_tclean.ms/ASDM_CALPOINTING/table.f0i\n",
      "E2E6.1.00034.S_tclean.ms/ASDM_CALPOINTING/table.info\n",
      "E2E6.1.00034.S_tclean.ms/ASDM_CALPOINTING/table.lock\n",
      "E2E6.1.00034.S_tclean.ms/ASDM_CALWVR/\n",
      "E2E6.1.00034.S_tclean.ms/ASDM_CALWVR/table.dat\n",
      "E2E6.1.00034.S_tclean.ms/ASDM_CALWVR/table.f0\n",
      "E2E6.1.00034.S_tclean.ms/ASDM_CALWVR/table.f0i\n",
      "E2E6.1.00034.S_tclean.ms/ASDM_CALWVR/table.info\n",
      "E2E6.1.00034.S_tclean.ms/ASDM_CALWVR/table.lock\n",
      "E2E6.1.00034.S_tclean.ms/ASDM_EXECBLOCK/\n",
      "E2E6.1.00034.S_tclean.ms/ASDM_EXECBLOCK/table.dat\n",
      "E2E6.1.00034.S_tclean.ms/ASDM_EXECBLOCK/table.f0\n",
      "E2E6.1.00034.S_tclean.ms/ASDM_EXECBLOCK/table.info\n",
      "E2E6.1.00034.S_tclean.ms/ASDM_EXECBLOCK/table.lock\n",
      "E2E6.1.00034.S_tclean.ms/ASDM_RECEIVER/\n",
      "E2E6.1.00034.S_tclean.ms/ASDM_RECEIVER/table.dat\n",
      "E2E6.1.00034.S_tclean.ms/ASDM_RECEIVER/table.f0\n",
      "E2E6.1.00034.S_tclean.ms/ASDM_RECEIVER/table.f0i\n",
      "E2E6.1.00034.S_tclean.ms/ASDM_RECEIVER/table.info\n",
      "E2E6.1.00034.S_tclean.ms/ASDM_RECEIVER/table.lock\n",
      "E2E6.1.00034.S_tclean.ms/table.dat\n",
      "E2E6.1.00034.S_tclean.ms/table.f1\n",
      "E2E6.1.00034.S_tclean.ms/table.f10\n",
      "E2E6.1.00034.S_tclean.ms/table.f11\n",
      "E2E6.1.00034.S_tclean.ms/table.f12\n",
      "E2E6.1.00034.S_tclean.ms/table.f13\n",
      "E2E6.1.00034.S_tclean.ms/table.f14\n",
      "E2E6.1.00034.S_tclean.ms/table.f15\n",
      "E2E6.1.00034.S_tclean.ms/table.f16\n",
      "E2E6.1.00034.S_tclean.ms/table.f17\n",
      "E2E6.1.00034.S_tclean.ms/table.f17_TSM1\n",
      "E2E6.1.00034.S_tclean.ms/table.f18\n",
      "E2E6.1.00034.S_tclean.ms/table.f19\n",
      "E2E6.1.00034.S_tclean.ms/table.f19_TSM0\n",
      "E2E6.1.00034.S_tclean.ms/table.f2\n",
      "E2E6.1.00034.S_tclean.ms/table.f20\n",
      "E2E6.1.00034.S_tclean.ms/table.f20_TSM1\n",
      "E2E6.1.00034.S_tclean.ms/table.f21\n",
      "E2E6.1.00034.S_tclean.ms/table.f21_TSM1\n",
      "E2E6.1.00034.S_tclean.ms/table.f22\n",
      "E2E6.1.00034.S_tclean.ms/table.f22_TSM1\n",
      "E2E6.1.00034.S_tclean.ms/table.f3\n",
      "E2E6.1.00034.S_tclean.ms/table.f4\n",
      "E2E6.1.00034.S_tclean.ms/table.f5\n",
      "E2E6.1.00034.S_tclean.ms/table.f6\n",
      "E2E6.1.00034.S_tclean.ms/table.f7\n",
      "E2E6.1.00034.S_tclean.ms/table.f8\n",
      "E2E6.1.00034.S_tclean.ms/table.f9\n",
      "E2E6.1.00034.S_tclean.ms/table.info\n",
      "E2E6.1.00034.S_tclean.ms/table.lock\n",
      "E2E6.1.00034.S_tclean.ms/ASDM_SBSUMMARY/\n",
      "E2E6.1.00034.S_tclean.ms/ASDM_SBSUMMARY/table.dat\n",
      "E2E6.1.00034.S_tclean.ms/ASDM_SBSUMMARY/table.f0\n",
      "E2E6.1.00034.S_tclean.ms/ASDM_SBSUMMARY/table.f0i\n",
      "E2E6.1.00034.S_tclean.ms/ASDM_SBSUMMARY/table.info\n",
      "E2E6.1.00034.S_tclean.ms/ASDM_SBSUMMARY/table.lock\n",
      "E2E6.1.00034.S_tclean.ms/ASDM_SOURCE/\n",
      "E2E6.1.00034.S_tclean.ms/ASDM_SOURCE/table.dat\n",
      "E2E6.1.00034.S_tclean.ms/ASDM_SOURCE/table.f0\n",
      "E2E6.1.00034.S_tclean.ms/ASDM_SOURCE/table.f0i\n",
      "E2E6.1.00034.S_tclean.ms/ASDM_SOURCE/table.info\n",
      "E2E6.1.00034.S_tclean.ms/ASDM_SOURCE/table.lock\n",
      "E2E6.1.00034.S_tclean.ms/ASDM_STATION/\n",
      "E2E6.1.00034.S_tclean.ms/ASDM_STATION/table.dat\n",
      "E2E6.1.00034.S_tclean.ms/ASDM_STATION/table.f0\n",
      "E2E6.1.00034.S_tclean.ms/ASDM_STATION/table.f0i\n",
      "E2E6.1.00034.S_tclean.ms/ASDM_STATION/table.info\n",
      "E2E6.1.00034.S_tclean.ms/ASDM_STATION/table.lock\n",
      "E2E6.1.00034.S_tclean.ms/CALDEVICE/\n",
      "E2E6.1.00034.S_tclean.ms/CALDEVICE/table.dat\n",
      "E2E6.1.00034.S_tclean.ms/CALDEVICE/table.f0\n",
      "E2E6.1.00034.S_tclean.ms/CALDEVICE/table.f0i\n",
      "E2E6.1.00034.S_tclean.ms/CALDEVICE/table.info\n",
      "E2E6.1.00034.S_tclean.ms/CALDEVICE/table.lock\n",
      "E2E6.1.00034.S_tclean.ms/DATA_DESCRIPTION/\n",
      "E2E6.1.00034.S_tclean.ms/DATA_DESCRIPTION/table.dat\n",
      "E2E6.1.00034.S_tclean.ms/DATA_DESCRIPTION/table.f0\n",
      "E2E6.1.00034.S_tclean.ms/DATA_DESCRIPTION/table.info\n",
      "E2E6.1.00034.S_tclean.ms/DATA_DESCRIPTION/table.lock\n",
      "E2E6.1.00034.S_tclean.ms/FEED/\n",
      "E2E6.1.00034.S_tclean.ms/FEED/table.dat\n",
      "E2E6.1.00034.S_tclean.ms/FEED/table.f0\n",
      "E2E6.1.00034.S_tclean.ms/FEED/table.f0i\n",
      "E2E6.1.00034.S_tclean.ms/FEED/table.info\n",
      "E2E6.1.00034.S_tclean.ms/FEED/table.lock\n",
      "E2E6.1.00034.S_tclean.ms/FIELD/\n",
      "E2E6.1.00034.S_tclean.ms/FIELD/table.dat\n",
      "E2E6.1.00034.S_tclean.ms/FIELD/table.f0\n",
      "E2E6.1.00034.S_tclean.ms/FIELD/table.f0i\n",
      "E2E6.1.00034.S_tclean.ms/FIELD/table.info\n",
      "E2E6.1.00034.S_tclean.ms/FIELD/table.lock\n",
      "E2E6.1.00034.S_tclean.ms/FLAG_CMD/\n",
      "E2E6.1.00034.S_tclean.ms/FLAG_CMD/table.dat\n",
      "E2E6.1.00034.S_tclean.ms/FLAG_CMD/table.f0\n",
      "E2E6.1.00034.S_tclean.ms/FLAG_CMD/table.info\n",
      "E2E6.1.00034.S_tclean.ms/FLAG_CMD/table.lock\n",
      "E2E6.1.00034.S_tclean.ms/HISTORY/\n",
      "E2E6.1.00034.S_tclean.ms/HISTORY/table.dat\n",
      "E2E6.1.00034.S_tclean.ms/HISTORY/table.f0\n",
      "E2E6.1.00034.S_tclean.ms/HISTORY/table.info\n",
      "E2E6.1.00034.S_tclean.ms/HISTORY/table.lock\n",
      "E2E6.1.00034.S_tclean.ms/OBSERVATION/\n",
      "E2E6.1.00034.S_tclean.ms/OBSERVATION/table.dat\n",
      "E2E6.1.00034.S_tclean.ms/OBSERVATION/table.f0\n",
      "E2E6.1.00034.S_tclean.ms/OBSERVATION/table.info\n",
      "E2E6.1.00034.S_tclean.ms/OBSERVATION/table.lock\n",
      "E2E6.1.00034.S_tclean.ms/POINTING/\n",
      "E2E6.1.00034.S_tclean.ms/POINTING/table.dat\n",
      "E2E6.1.00034.S_tclean.ms/POINTING/table.f0\n",
      "E2E6.1.00034.S_tclean.ms/POINTING/table.f0i\n",
      "E2E6.1.00034.S_tclean.ms/POINTING/table.info\n",
      "E2E6.1.00034.S_tclean.ms/POINTING/table.lock\n",
      "E2E6.1.00034.S_tclean.ms/POLARIZATION/\n",
      "E2E6.1.00034.S_tclean.ms/POLARIZATION/table.dat\n",
      "E2E6.1.00034.S_tclean.ms/POLARIZATION/table.f0\n",
      "E2E6.1.00034.S_tclean.ms/POLARIZATION/table.f0i\n",
      "E2E6.1.00034.S_tclean.ms/POLARIZATION/table.info\n",
      "E2E6.1.00034.S_tclean.ms/POLARIZATION/table.lock\n",
      "E2E6.1.00034.S_tclean.ms/PROCESSOR/\n",
      "E2E6.1.00034.S_tclean.ms/PROCESSOR/table.dat\n",
      "E2E6.1.00034.S_tclean.ms/PROCESSOR/table.f0\n",
      "E2E6.1.00034.S_tclean.ms/PROCESSOR/table.info\n",
      "E2E6.1.00034.S_tclean.ms/PROCESSOR/table.lock\n",
      "E2E6.1.00034.S_tclean.ms/SOURCE/\n",
      "E2E6.1.00034.S_tclean.ms/SOURCE/table.dat\n",
      "E2E6.1.00034.S_tclean.ms/SOURCE/table.f0\n",
      "E2E6.1.00034.S_tclean.ms/SOURCE/table.f0i\n",
      "E2E6.1.00034.S_tclean.ms/SOURCE/table.info\n",
      "E2E6.1.00034.S_tclean.ms/SOURCE/table.lock\n",
      "E2E6.1.00034.S_tclean.ms/SPECTRAL_WINDOW/\n",
      "E2E6.1.00034.S_tclean.ms/SPECTRAL_WINDOW/table.dat\n",
      "E2E6.1.00034.S_tclean.ms/SPECTRAL_WINDOW/table.f0\n",
      "E2E6.1.00034.S_tclean.ms/SPECTRAL_WINDOW/table.f0i\n",
      "E2E6.1.00034.S_tclean.ms/SPECTRAL_WINDOW/table.info\n",
      "E2E6.1.00034.S_tclean.ms/SPECTRAL_WINDOW/table.lock\n",
      "E2E6.1.00034.S_tclean.ms/STATE/\n",
      "E2E6.1.00034.S_tclean.ms/STATE/table.dat\n",
      "E2E6.1.00034.S_tclean.ms/STATE/table.f0\n",
      "E2E6.1.00034.S_tclean.ms/STATE/table.info\n",
      "E2E6.1.00034.S_tclean.ms/STATE/table.lock\n",
      "E2E6.1.00034.S_tclean.ms/SYSCAL/\n",
      "E2E6.1.00034.S_tclean.ms/SYSCAL/table.dat\n",
      "E2E6.1.00034.S_tclean.ms/SYSCAL/table.f0\n",
      "E2E6.1.00034.S_tclean.ms/SYSCAL/table.f0i\n",
      "E2E6.1.00034.S_tclean.ms/SYSCAL/table.info\n",
      "E2E6.1.00034.S_tclean.ms/SYSCAL/table.lock\n",
      "E2E6.1.00034.S_tclean.ms/SYSPOWER/\n",
      "E2E6.1.00034.S_tclean.ms/SYSPOWER/table.dat\n",
      "E2E6.1.00034.S_tclean.ms/SYSPOWER/table.f0\n",
      "E2E6.1.00034.S_tclean.ms/SYSPOWER/table.f0i\n",
      "E2E6.1.00034.S_tclean.ms/SYSPOWER/table.info\n",
      "E2E6.1.00034.S_tclean.ms/SYSPOWER/table.lock\n",
      "E2E6.1.00034.S_tclean.ms/WEATHER/\n",
      "E2E6.1.00034.S_tclean.ms/WEATHER/table.dat\n",
      "E2E6.1.00034.S_tclean.ms/WEATHER/table.f0\n",
      "E2E6.1.00034.S_tclean.ms/WEATHER/table.info\n",
      "E2E6.1.00034.S_tclean.ms/WEATHER/table.lock\n"
     ]
    },
    {
     "name": "stdout",
     "output_type": "stream",
     "text": [
      "--2021-12-16 15:20:20--  https://www.cv.nrao.edu/~jhoskins/test_stk_alma_pipeline_imaging_exp_dicts.json\n",
      "Resolving www.cv.nrao.edu (www.cv.nrao.edu)... 192.33.115.129\n",
      "Connecting to www.cv.nrao.edu (www.cv.nrao.edu)|192.33.115.129|:443... connected.\n",
      "HTTP request sent, awaiting response... 200 OK\n",
      "Length: 726297 (709K) [application/json]\n",
      "Saving to: ‘test_stk_alma_pipeline_imaging_exp_dicts.json’\n",
      "\n",
      "test_stk_alma_pipel 100%[===================>] 709.27K  --.-KB/s    in 0.007s  \n",
      "\n",
      "2021-12-16 15:20:20 (106 MB/s) - ‘test_stk_alma_pipeline_imaging_exp_dicts.json’ saved [726297/726297]\n",
      "\n",
      "FINISHED --2021-12-16 15:20:20--\n",
      "Total wall clock time: 0.06s\n",
      "Downloaded: 1 files, 709K in 0.007s (106 MB/s)\n"
     ]
    },
    {
     "data": {
      "text/plain": [
       "0"
      ]
     },
     "execution_count": 4,
     "metadata": {},
     "output_type": "execute_result"
    }
   ],
   "source": [
    "!wget -r -np -nH --cut-dirs=4 --reject \"index.html*\" https://www.cv.nrao.edu/~jhoskins/E2E6.1.00034.S_tclean.ms.tar\n",
    "!tar -xvf E2E6.1.00034.S_tclean.ms.tar\n",
    "os.system('mv E2E6.1.00034.S_tclean.ms data/')\n",
    "\n",
    "!wget -r -np -nH --cut-dirs=4 --reject \"index.html*\" https://www.cv.nrao.edu/~jhoskins/test_stk_alma_pipeline_imaging_exp_dicts.json\n",
    "os.system('cp test_stk_alma_pipeline_imaging_exp_dicts.json ./data/')    "
   ]
  },
  {
   "cell_type": "markdown",
   "metadata": {},
   "source": [
    "## Enable mpi"
   ]
  },
  {
   "cell_type": "code",
   "execution_count": 5,
   "metadata": {},
   "outputs": [],
   "source": [
    "parallel = True"
   ]
  },
  {
   "cell_type": "markdown",
   "metadata": {
    "id": "rcdI_4s_Fusc"
   },
   "source": [
    "## Import Required Dependencies"
   ]
  },
  {
   "cell_type": "code",
   "execution_count": 6,
   "metadata": {
    "colab": {
     "base_uri": "https://localhost:8080/",
     "height": 34
    },
    "id": "BZv81A02X5DX",
    "outputId": "701e9c11-c24d-487c-9c9d-b7f6f7855211"
   },
   "outputs": [
    {
     "data": {
      "application/javascript": [
       "\n",
       "(function(root) {\n",
       "  function now() {\n",
       "    return new Date();\n",
       "  }\n",
       "\n",
       "  var force = true;\n",
       "\n",
       "  if (typeof root._bokeh_onload_callbacks === \"undefined\" || force === true) {\n",
       "    root._bokeh_onload_callbacks = [];\n",
       "    root._bokeh_is_loading = undefined;\n",
       "  }\n",
       "\n",
       "  if (typeof (root._bokeh_timeout) === \"undefined\" || force === true) {\n",
       "    root._bokeh_timeout = Date.now() + 5000;\n",
       "    root._bokeh_failed_load = false;\n",
       "  }\n",
       "\n",
       "  function run_callbacks() {\n",
       "    try {\n",
       "      root._bokeh_onload_callbacks.forEach(function(callback) {\n",
       "        if (callback != null)\n",
       "          callback();\n",
       "      });\n",
       "    } finally {\n",
       "      delete root._bokeh_onload_callbacks\n",
       "    }\n",
       "    console.debug(\"Bokeh: all callbacks have finished\");\n",
       "  }\n",
       "\n",
       "  function load_libs(css_urls, js_urls, js_modules, callback) {\n",
       "    if (css_urls == null) css_urls = [];\n",
       "    if (js_urls == null) js_urls = [];\n",
       "    if (js_modules == null) js_modules = [];\n",
       "\n",
       "    root._bokeh_onload_callbacks.push(callback);\n",
       "    if (root._bokeh_is_loading > 0) {\n",
       "      console.debug(\"Bokeh: BokehJS is being loaded, scheduling callback at\", now());\n",
       "      return null;\n",
       "    }\n",
       "    if (js_urls.length === 0 && js_modules.length === 0) {\n",
       "      run_callbacks();\n",
       "      return null;\n",
       "    }\n",
       "    console.debug(\"Bokeh: BokehJS not loaded, scheduling load and callback at\", now());\n",
       "    root._bokeh_is_loading = css_urls.length + js_urls.length + js_modules.length;\n",
       "\n",
       "    function on_load() {\n",
       "      root._bokeh_is_loading--;\n",
       "      if (root._bokeh_is_loading === 0) {\n",
       "        console.debug(\"Bokeh: all BokehJS libraries/stylesheets loaded\");\n",
       "        run_callbacks()\n",
       "      }\n",
       "    }\n",
       "\n",
       "    function on_error() {\n",
       "      console.error(\"failed to load \" + url);\n",
       "    }\n",
       "\n",
       "    for (var i = 0; i < css_urls.length; i++) {\n",
       "      var url = css_urls[i];\n",
       "      const element = document.createElement(\"link\");\n",
       "      element.onload = on_load;\n",
       "      element.onerror = on_error;\n",
       "      element.rel = \"stylesheet\";\n",
       "      element.type = \"text/css\";\n",
       "      element.href = url;\n",
       "      console.debug(\"Bokeh: injecting link tag for BokehJS stylesheet: \", url);\n",
       "      document.body.appendChild(element);\n",
       "    }\n",
       "\n",
       "    var skip = [];\n",
       "    if (window.requirejs) {\n",
       "      window.requirejs.config({'paths': {'tabulator': 'https://unpkg.com/tabulator-tables@4.9.3/dist/js/tabulator', 'moment': 'https://unpkg.com/moment@2.27.0/moment'}, 'shim': {}});\n",
       "      \n",
       "      require([\"tabulator\"], function(Tabulator) {\n",
       "\twindow.Tabulator = Tabulator\n",
       "      })\n",
       "      \n",
       "      require([\"moment\"], function(moment) {\n",
       "\twindow.moment = moment\n",
       "      })\n",
       "      \n",
       "    }\n",
       "    if (((window['Tabulator'] !== undefined) && (!(window['Tabulator'] instanceof HTMLElement))) || window.requirejs) {\n",
       "      var urls = ['https://unpkg.com/tabulator-tables@4.9.3/dist/js/tabulator.js'];\n",
       "      for (var i = 0; i < urls.length; i++) {\n",
       "        skip.push(urls[i])\n",
       "      }\n",
       "    }\n",
       "    if (((window['moment'] !== undefined) && (!(window['moment'] instanceof HTMLElement))) || window.requirejs) {\n",
       "      var urls = ['https://unpkg.com/moment@2.27.0/moment.js'];\n",
       "      for (var i = 0; i < urls.length; i++) {\n",
       "        skip.push(urls[i])\n",
       "      }\n",
       "    }\n",
       "    for (var i = 0; i < js_urls.length; i++) {\n",
       "      var url = js_urls[i];\n",
       "      if (skip.indexOf(url) >= 0) { on_load(); continue; }\n",
       "      var element = document.createElement('script');\n",
       "      element.onload = on_load;\n",
       "      element.onerror = on_error;\n",
       "      element.async = false;\n",
       "      element.src = url;\n",
       "      console.debug(\"Bokeh: injecting script tag for BokehJS library: \", url);\n",
       "      document.head.appendChild(element);\n",
       "    }\n",
       "    for (var i = 0; i < js_modules.length; i++) {\n",
       "      var url = js_modules[i];\n",
       "      if (skip.indexOf(url) >= 0) { on_load(); continue; }\n",
       "      var element = document.createElement('script');\n",
       "      element.onload = on_load;\n",
       "      element.onerror = on_error;\n",
       "      element.async = false;\n",
       "      element.src = url;\n",
       "      element.type = \"module\";\n",
       "      console.debug(\"Bokeh: injecting script tag for BokehJS library: \", url);\n",
       "      document.head.appendChild(element);\n",
       "    }\n",
       "    if (!js_urls.length && !js_modules.length) {\n",
       "      on_load()\n",
       "    }\n",
       "  };\n",
       "\n",
       "  function inject_raw_css(css) {\n",
       "    const element = document.createElement(\"style\");\n",
       "    element.appendChild(document.createTextNode(css));\n",
       "    document.body.appendChild(element);\n",
       "  }\n",
       "\n",
       "  var js_urls = [\"https://unpkg.com/tabulator-tables@4.9.3/dist/js/tabulator.js\", \"https://unpkg.com/moment@2.27.0/moment.js\", \"https://cdn.bokeh.org/bokeh/release/bokeh-2.3.3.min.js\", \"https://cdn.bokeh.org/bokeh/release/bokeh-widgets-2.3.3.min.js\", \"https://cdn.bokeh.org/bokeh/release/bokeh-tables-2.3.3.min.js\", \"https://unpkg.com/@holoviz/panel@0.12.0/dist/panel.min.js\"];\n",
       "  var js_modules = [];\n",
       "  var css_urls = [\"https://unpkg.com/tabulator-tables@4.9.3/dist/css/tabulator_simple.min.css\", \"https://unpkg.com/@holoviz/panel@0.12.0/dist/css/json.css\", \"https://unpkg.com/@holoviz/panel@0.12.0/dist/css/alerts.css\", \"https://unpkg.com/@holoviz/panel@0.12.0/dist/css/card.css\", \"https://unpkg.com/@holoviz/panel@0.12.0/dist/css/widgets.css\", \"https://unpkg.com/@holoviz/panel@0.12.0/dist/css/loading.css\", \"https://unpkg.com/@holoviz/panel@0.12.0/dist/css/markdown.css\", \"https://unpkg.com/@holoviz/panel@0.12.0/dist/css/dataframe.css\"];\n",
       "  var inline_js = [\n",
       "    function(Bokeh) {\n",
       "      inject_raw_css(\"\\n    .bk.pn-loading.arcs:before {\\n      background-image: url(\\\"data:image/svg+xml;base64,PHN2ZyB4bWxucz0iaHR0cDovL3d3dy53My5vcmcvMjAwMC9zdmciIHhtbG5zOnhsaW5rPSJodHRwOi8vd3d3LnczLm9yZy8xOTk5L3hsaW5rIiBzdHlsZT0ibWFyZ2luOiBhdXRvOyBiYWNrZ3JvdW5kOiBub25lOyBkaXNwbGF5OiBibG9jazsgc2hhcGUtcmVuZGVyaW5nOiBhdXRvOyIgdmlld0JveD0iMCAwIDEwMCAxMDAiIHByZXNlcnZlQXNwZWN0UmF0aW89InhNaWRZTWlkIj4gIDxjaXJjbGUgY3g9IjUwIiBjeT0iNTAiIHI9IjMyIiBzdHJva2Utd2lkdGg9IjgiIHN0cm9rZT0iI2MzYzNjMyIgc3Ryb2tlLWRhc2hhcnJheT0iNTAuMjY1NDgyNDU3NDM2NjkgNTAuMjY1NDgyNDU3NDM2NjkiIGZpbGw9Im5vbmUiIHN0cm9rZS1saW5lY2FwPSJyb3VuZCI+ICAgIDxhbmltYXRlVHJhbnNmb3JtIGF0dHJpYnV0ZU5hbWU9InRyYW5zZm9ybSIgdHlwZT0icm90YXRlIiByZXBlYXRDb3VudD0iaW5kZWZpbml0ZSIgZHVyPSIxcyIga2V5VGltZXM9IjA7MSIgdmFsdWVzPSIwIDUwIDUwOzM2MCA1MCA1MCI+PC9hbmltYXRlVHJhbnNmb3JtPiAgPC9jaXJjbGU+PC9zdmc+\\\")\\n    }\\n    \");\n",
       "    },\n",
       "    function(Bokeh) {\n",
       "      Bokeh.set_log_level(\"info\");\n",
       "    },\n",
       "    function(Bokeh) {} // ensure no trailing comma for IE\n",
       "  ];\n",
       "\n",
       "  function run_inline_js() {\n",
       "    if ((root.Bokeh !== undefined) || (force === true)) {\n",
       "      for (var i = 0; i < inline_js.length; i++) {\n",
       "        inline_js[i].call(root, root.Bokeh);\n",
       "      }} else if (Date.now() < root._bokeh_timeout) {\n",
       "      setTimeout(run_inline_js, 100);\n",
       "    } else if (!root._bokeh_failed_load) {\n",
       "      console.log(\"Bokeh: BokehJS failed to load within specified timeout.\");\n",
       "      root._bokeh_failed_load = true;\n",
       "    }\n",
       "  }\n",
       "\n",
       "  if (root._bokeh_is_loading === 0) {\n",
       "    console.debug(\"Bokeh: BokehJS loaded, going straight to plotting\");\n",
       "    run_inline_js();\n",
       "  } else {\n",
       "    load_libs(css_urls, js_urls, js_modules, function() {\n",
       "      console.debug(\"Bokeh: BokehJS plotting callback run at\", now());\n",
       "      run_inline_js();\n",
       "    });\n",
       "  }\n",
       "}(window));"
      ],
      "application/vnd.holoviews_load.v0+json": "\n(function(root) {\n  function now() {\n    return new Date();\n  }\n\n  var force = true;\n\n  if (typeof root._bokeh_onload_callbacks === \"undefined\" || force === true) {\n    root._bokeh_onload_callbacks = [];\n    root._bokeh_is_loading = undefined;\n  }\n\n  if (typeof (root._bokeh_timeout) === \"undefined\" || force === true) {\n    root._bokeh_timeout = Date.now() + 5000;\n    root._bokeh_failed_load = false;\n  }\n\n  function run_callbacks() {\n    try {\n      root._bokeh_onload_callbacks.forEach(function(callback) {\n        if (callback != null)\n          callback();\n      });\n    } finally {\n      delete root._bokeh_onload_callbacks\n    }\n    console.debug(\"Bokeh: all callbacks have finished\");\n  }\n\n  function load_libs(css_urls, js_urls, js_modules, callback) {\n    if (css_urls == null) css_urls = [];\n    if (js_urls == null) js_urls = [];\n    if (js_modules == null) js_modules = [];\n\n    root._bokeh_onload_callbacks.push(callback);\n    if (root._bokeh_is_loading > 0) {\n      console.debug(\"Bokeh: BokehJS is being loaded, scheduling callback at\", now());\n      return null;\n    }\n    if (js_urls.length === 0 && js_modules.length === 0) {\n      run_callbacks();\n      return null;\n    }\n    console.debug(\"Bokeh: BokehJS not loaded, scheduling load and callback at\", now());\n    root._bokeh_is_loading = css_urls.length + js_urls.length + js_modules.length;\n\n    function on_load() {\n      root._bokeh_is_loading--;\n      if (root._bokeh_is_loading === 0) {\n        console.debug(\"Bokeh: all BokehJS libraries/stylesheets loaded\");\n        run_callbacks()\n      }\n    }\n\n    function on_error() {\n      console.error(\"failed to load \" + url);\n    }\n\n    for (var i = 0; i < css_urls.length; i++) {\n      var url = css_urls[i];\n      const element = document.createElement(\"link\");\n      element.onload = on_load;\n      element.onerror = on_error;\n      element.rel = \"stylesheet\";\n      element.type = \"text/css\";\n      element.href = url;\n      console.debug(\"Bokeh: injecting link tag for BokehJS stylesheet: \", url);\n      document.body.appendChild(element);\n    }\n\n    var skip = [];\n    if (window.requirejs) {\n      window.requirejs.config({'paths': {'tabulator': 'https://unpkg.com/tabulator-tables@4.9.3/dist/js/tabulator', 'moment': 'https://unpkg.com/moment@2.27.0/moment'}, 'shim': {}});\n      \n      require([\"tabulator\"], function(Tabulator) {\n\twindow.Tabulator = Tabulator\n      })\n      \n      require([\"moment\"], function(moment) {\n\twindow.moment = moment\n      })\n      \n    }\n    if (((window['Tabulator'] !== undefined) && (!(window['Tabulator'] instanceof HTMLElement))) || window.requirejs) {\n      var urls = ['https://unpkg.com/tabulator-tables@4.9.3/dist/js/tabulator.js'];\n      for (var i = 0; i < urls.length; i++) {\n        skip.push(urls[i])\n      }\n    }\n    if (((window['moment'] !== undefined) && (!(window['moment'] instanceof HTMLElement))) || window.requirejs) {\n      var urls = ['https://unpkg.com/moment@2.27.0/moment.js'];\n      for (var i = 0; i < urls.length; i++) {\n        skip.push(urls[i])\n      }\n    }\n    for (var i = 0; i < js_urls.length; i++) {\n      var url = js_urls[i];\n      if (skip.indexOf(url) >= 0) { on_load(); continue; }\n      var element = document.createElement('script');\n      element.onload = on_load;\n      element.onerror = on_error;\n      element.async = false;\n      element.src = url;\n      console.debug(\"Bokeh: injecting script tag for BokehJS library: \", url);\n      document.head.appendChild(element);\n    }\n    for (var i = 0; i < js_modules.length; i++) {\n      var url = js_modules[i];\n      if (skip.indexOf(url) >= 0) { on_load(); continue; }\n      var element = document.createElement('script');\n      element.onload = on_load;\n      element.onerror = on_error;\n      element.async = false;\n      element.src = url;\n      element.type = \"module\";\n      console.debug(\"Bokeh: injecting script tag for BokehJS library: \", url);\n      document.head.appendChild(element);\n    }\n    if (!js_urls.length && !js_modules.length) {\n      on_load()\n    }\n  };\n\n  function inject_raw_css(css) {\n    const element = document.createElement(\"style\");\n    element.appendChild(document.createTextNode(css));\n    document.body.appendChild(element);\n  }\n\n  var js_urls = [\"https://unpkg.com/tabulator-tables@4.9.3/dist/js/tabulator.js\", \"https://unpkg.com/moment@2.27.0/moment.js\", \"https://cdn.bokeh.org/bokeh/release/bokeh-2.3.3.min.js\", \"https://cdn.bokeh.org/bokeh/release/bokeh-widgets-2.3.3.min.js\", \"https://cdn.bokeh.org/bokeh/release/bokeh-tables-2.3.3.min.js\", \"https://unpkg.com/@holoviz/panel@0.12.0/dist/panel.min.js\"];\n  var js_modules = [];\n  var css_urls = [\"https://unpkg.com/tabulator-tables@4.9.3/dist/css/tabulator_simple.min.css\", \"https://unpkg.com/@holoviz/panel@0.12.0/dist/css/json.css\", \"https://unpkg.com/@holoviz/panel@0.12.0/dist/css/alerts.css\", \"https://unpkg.com/@holoviz/panel@0.12.0/dist/css/card.css\", \"https://unpkg.com/@holoviz/panel@0.12.0/dist/css/widgets.css\", \"https://unpkg.com/@holoviz/panel@0.12.0/dist/css/loading.css\", \"https://unpkg.com/@holoviz/panel@0.12.0/dist/css/markdown.css\", \"https://unpkg.com/@holoviz/panel@0.12.0/dist/css/dataframe.css\"];\n  var inline_js = [\n    function(Bokeh) {\n      inject_raw_css(\"\\n    .bk.pn-loading.arcs:before {\\n      background-image: url(\\\"data:image/svg+xml;base64,PHN2ZyB4bWxucz0iaHR0cDovL3d3dy53My5vcmcvMjAwMC9zdmciIHhtbG5zOnhsaW5rPSJodHRwOi8vd3d3LnczLm9yZy8xOTk5L3hsaW5rIiBzdHlsZT0ibWFyZ2luOiBhdXRvOyBiYWNrZ3JvdW5kOiBub25lOyBkaXNwbGF5OiBibG9jazsgc2hhcGUtcmVuZGVyaW5nOiBhdXRvOyIgdmlld0JveD0iMCAwIDEwMCAxMDAiIHByZXNlcnZlQXNwZWN0UmF0aW89InhNaWRZTWlkIj4gIDxjaXJjbGUgY3g9IjUwIiBjeT0iNTAiIHI9IjMyIiBzdHJva2Utd2lkdGg9IjgiIHN0cm9rZT0iI2MzYzNjMyIgc3Ryb2tlLWRhc2hhcnJheT0iNTAuMjY1NDgyNDU3NDM2NjkgNTAuMjY1NDgyNDU3NDM2NjkiIGZpbGw9Im5vbmUiIHN0cm9rZS1saW5lY2FwPSJyb3VuZCI+ICAgIDxhbmltYXRlVHJhbnNmb3JtIGF0dHJpYnV0ZU5hbWU9InRyYW5zZm9ybSIgdHlwZT0icm90YXRlIiByZXBlYXRDb3VudD0iaW5kZWZpbml0ZSIgZHVyPSIxcyIga2V5VGltZXM9IjA7MSIgdmFsdWVzPSIwIDUwIDUwOzM2MCA1MCA1MCI+PC9hbmltYXRlVHJhbnNmb3JtPiAgPC9jaXJjbGU+PC9zdmc+\\\")\\n    }\\n    \");\n    },\n    function(Bokeh) {\n      Bokeh.set_log_level(\"info\");\n    },\n    function(Bokeh) {} // ensure no trailing comma for IE\n  ];\n\n  function run_inline_js() {\n    if ((root.Bokeh !== undefined) || (force === true)) {\n      for (var i = 0; i < inline_js.length; i++) {\n        inline_js[i].call(root, root.Bokeh);\n      }} else if (Date.now() < root._bokeh_timeout) {\n      setTimeout(run_inline_js, 100);\n    } else if (!root._bokeh_failed_load) {\n      console.log(\"Bokeh: BokehJS failed to load within specified timeout.\");\n      root._bokeh_failed_load = true;\n    }\n  }\n\n  if (root._bokeh_is_loading === 0) {\n    console.debug(\"Bokeh: BokehJS loaded, going straight to plotting\");\n    run_inline_js();\n  } else {\n    load_libs(css_urls, js_urls, js_modules, function() {\n      console.debug(\"Bokeh: BokehJS plotting callback run at\", now());\n      run_inline_js();\n    });\n  }\n}(window));"
     },
     "metadata": {},
     "output_type": "display_data"
    },
    {
     "data": {
      "application/javascript": [
       "\n",
       "if ((window.PyViz === undefined) || (window.PyViz instanceof HTMLElement)) {\n",
       "  window.PyViz = {comms: {}, comm_status:{}, kernels:{}, receivers: {}, plot_index: []}\n",
       "}\n",
       "\n",
       "\n",
       "    function JupyterCommManager() {\n",
       "    }\n",
       "\n",
       "    JupyterCommManager.prototype.register_target = function(plot_id, comm_id, msg_handler) {\n",
       "      if (window.comm_manager || ((window.Jupyter !== undefined) && (Jupyter.notebook.kernel != null))) {\n",
       "        var comm_manager = window.comm_manager || Jupyter.notebook.kernel.comm_manager;\n",
       "        comm_manager.register_target(comm_id, function(comm) {\n",
       "          comm.on_msg(msg_handler);\n",
       "        });\n",
       "      } else if ((plot_id in window.PyViz.kernels) && (window.PyViz.kernels[plot_id])) {\n",
       "        window.PyViz.kernels[plot_id].registerCommTarget(comm_id, function(comm) {\n",
       "          comm.onMsg = msg_handler;\n",
       "        });\n",
       "      } else if (typeof google != 'undefined' && google.colab.kernel != null) {\n",
       "        google.colab.kernel.comms.registerTarget(comm_id, (comm) => {\n",
       "          var messages = comm.messages[Symbol.asyncIterator]();\n",
       "          function processIteratorResult(result) {\n",
       "            var message = result.value;\n",
       "            console.log(message)\n",
       "            var content = {data: message.data, comm_id};\n",
       "            var buffers = []\n",
       "            for (var buffer of message.buffers || []) {\n",
       "              buffers.push(new DataView(buffer))\n",
       "            }\n",
       "            var metadata = message.metadata || {};\n",
       "            var msg = {content, buffers, metadata}\n",
       "            msg_handler(msg);\n",
       "            return messages.next().then(processIteratorResult);\n",
       "          }\n",
       "          return messages.next().then(processIteratorResult);\n",
       "        })\n",
       "      }\n",
       "    }\n",
       "\n",
       "    JupyterCommManager.prototype.get_client_comm = function(plot_id, comm_id, msg_handler) {\n",
       "      if (comm_id in window.PyViz.comms) {\n",
       "        return window.PyViz.comms[comm_id];\n",
       "      } else if (window.comm_manager || ((window.Jupyter !== undefined) && (Jupyter.notebook.kernel != null))) {\n",
       "        var comm_manager = window.comm_manager || Jupyter.notebook.kernel.comm_manager;\n",
       "        var comm = comm_manager.new_comm(comm_id, {}, {}, {}, comm_id);\n",
       "        if (msg_handler) {\n",
       "          comm.on_msg(msg_handler);\n",
       "        }\n",
       "      } else if ((plot_id in window.PyViz.kernels) && (window.PyViz.kernels[plot_id])) {\n",
       "        var comm = window.PyViz.kernels[plot_id].connectToComm(comm_id);\n",
       "        comm.open();\n",
       "        if (msg_handler) {\n",
       "          comm.onMsg = msg_handler;\n",
       "        }\n",
       "      } else if (typeof google != 'undefined' && google.colab.kernel != null) {\n",
       "        var comm_promise = google.colab.kernel.comms.open(comm_id)\n",
       "        comm_promise.then((comm) => {\n",
       "          window.PyViz.comms[comm_id] = comm;\n",
       "          if (msg_handler) {\n",
       "            var messages = comm.messages[Symbol.asyncIterator]();\n",
       "            function processIteratorResult(result) {\n",
       "              var message = result.value;\n",
       "              var content = {data: message.data};\n",
       "              var metadata = message.metadata || {comm_id};\n",
       "              var msg = {content, metadata}\n",
       "              msg_handler(msg);\n",
       "              return messages.next().then(processIteratorResult);\n",
       "            }\n",
       "            return messages.next().then(processIteratorResult);\n",
       "          }\n",
       "        }) \n",
       "        var sendClosure = (data, metadata, buffers, disposeOnDone) => {\n",
       "          return comm_promise.then((comm) => {\n",
       "            comm.send(data, metadata, buffers, disposeOnDone);\n",
       "          });\n",
       "        };\n",
       "        var comm = {\n",
       "          send: sendClosure\n",
       "        };\n",
       "      }\n",
       "      window.PyViz.comms[comm_id] = comm;\n",
       "      return comm;\n",
       "    }\n",
       "    window.PyViz.comm_manager = new JupyterCommManager();\n",
       "    \n",
       "\n",
       "\n",
       "var JS_MIME_TYPE = 'application/javascript';\n",
       "var HTML_MIME_TYPE = 'text/html';\n",
       "var EXEC_MIME_TYPE = 'application/vnd.holoviews_exec.v0+json';\n",
       "var CLASS_NAME = 'output';\n",
       "\n",
       "/**\n",
       " * Render data to the DOM node\n",
       " */\n",
       "function render(props, node) {\n",
       "  var div = document.createElement(\"div\");\n",
       "  var script = document.createElement(\"script\");\n",
       "  node.appendChild(div);\n",
       "  node.appendChild(script);\n",
       "}\n",
       "\n",
       "/**\n",
       " * Handle when a new output is added\n",
       " */\n",
       "function handle_add_output(event, handle) {\n",
       "  var output_area = handle.output_area;\n",
       "  var output = handle.output;\n",
       "  if ((output.data == undefined) || (!output.data.hasOwnProperty(EXEC_MIME_TYPE))) {\n",
       "    return\n",
       "  }\n",
       "  var id = output.metadata[EXEC_MIME_TYPE][\"id\"];\n",
       "  var toinsert = output_area.element.find(\".\" + CLASS_NAME.split(' ')[0]);\n",
       "  if (id !== undefined) {\n",
       "    var nchildren = toinsert.length;\n",
       "    var html_node = toinsert[nchildren-1].children[0];\n",
       "    html_node.innerHTML = output.data[HTML_MIME_TYPE];\n",
       "    var scripts = [];\n",
       "    var nodelist = html_node.querySelectorAll(\"script\");\n",
       "    for (var i in nodelist) {\n",
       "      if (nodelist.hasOwnProperty(i)) {\n",
       "        scripts.push(nodelist[i])\n",
       "      }\n",
       "    }\n",
       "\n",
       "    scripts.forEach( function (oldScript) {\n",
       "      var newScript = document.createElement(\"script\");\n",
       "      var attrs = [];\n",
       "      var nodemap = oldScript.attributes;\n",
       "      for (var j in nodemap) {\n",
       "        if (nodemap.hasOwnProperty(j)) {\n",
       "          attrs.push(nodemap[j])\n",
       "        }\n",
       "      }\n",
       "      attrs.forEach(function(attr) { newScript.setAttribute(attr.name, attr.value) });\n",
       "      newScript.appendChild(document.createTextNode(oldScript.innerHTML));\n",
       "      oldScript.parentNode.replaceChild(newScript, oldScript);\n",
       "    });\n",
       "    if (JS_MIME_TYPE in output.data) {\n",
       "      toinsert[nchildren-1].children[1].textContent = output.data[JS_MIME_TYPE];\n",
       "    }\n",
       "    output_area._hv_plot_id = id;\n",
       "    if ((window.Bokeh !== undefined) && (id in Bokeh.index)) {\n",
       "      window.PyViz.plot_index[id] = Bokeh.index[id];\n",
       "    } else {\n",
       "      window.PyViz.plot_index[id] = null;\n",
       "    }\n",
       "  } else if (output.metadata[EXEC_MIME_TYPE][\"server_id\"] !== undefined) {\n",
       "    var bk_div = document.createElement(\"div\");\n",
       "    bk_div.innerHTML = output.data[HTML_MIME_TYPE];\n",
       "    var script_attrs = bk_div.children[0].attributes;\n",
       "    for (var i = 0; i < script_attrs.length; i++) {\n",
       "      toinsert[toinsert.length - 1].childNodes[1].setAttribute(script_attrs[i].name, script_attrs[i].value);\n",
       "    }\n",
       "    // store reference to server id on output_area\n",
       "    output_area._bokeh_server_id = output.metadata[EXEC_MIME_TYPE][\"server_id\"];\n",
       "  }\n",
       "}\n",
       "\n",
       "/**\n",
       " * Handle when an output is cleared or removed\n",
       " */\n",
       "function handle_clear_output(event, handle) {\n",
       "  var id = handle.cell.output_area._hv_plot_id;\n",
       "  var server_id = handle.cell.output_area._bokeh_server_id;\n",
       "  if (((id === undefined) || !(id in PyViz.plot_index)) && (server_id !== undefined)) { return; }\n",
       "  var comm = window.PyViz.comm_manager.get_client_comm(\"hv-extension-comm\", \"hv-extension-comm\", function () {});\n",
       "  if (server_id !== null) {\n",
       "    comm.send({event_type: 'server_delete', 'id': server_id});\n",
       "    return;\n",
       "  } else if (comm !== null) {\n",
       "    comm.send({event_type: 'delete', 'id': id});\n",
       "  }\n",
       "  delete PyViz.plot_index[id];\n",
       "  if ((window.Bokeh !== undefined) & (id in window.Bokeh.index)) {\n",
       "    var doc = window.Bokeh.index[id].model.document\n",
       "    doc.clear();\n",
       "    const i = window.Bokeh.documents.indexOf(doc);\n",
       "    if (i > -1) {\n",
       "      window.Bokeh.documents.splice(i, 1);\n",
       "    }\n",
       "  }\n",
       "}\n",
       "\n",
       "/**\n",
       " * Handle kernel restart event\n",
       " */\n",
       "function handle_kernel_cleanup(event, handle) {\n",
       "  delete PyViz.comms[\"hv-extension-comm\"];\n",
       "  window.PyViz.plot_index = {}\n",
       "}\n",
       "\n",
       "/**\n",
       " * Handle update_display_data messages\n",
       " */\n",
       "function handle_update_output(event, handle) {\n",
       "  handle_clear_output(event, {cell: {output_area: handle.output_area}})\n",
       "  handle_add_output(event, handle)\n",
       "}\n",
       "\n",
       "function register_renderer(events, OutputArea) {\n",
       "  function append_mime(data, metadata, element) {\n",
       "    // create a DOM node to render to\n",
       "    var toinsert = this.create_output_subarea(\n",
       "    metadata,\n",
       "    CLASS_NAME,\n",
       "    EXEC_MIME_TYPE\n",
       "    );\n",
       "    this.keyboard_manager.register_events(toinsert);\n",
       "    // Render to node\n",
       "    var props = {data: data, metadata: metadata[EXEC_MIME_TYPE]};\n",
       "    render(props, toinsert[0]);\n",
       "    element.append(toinsert);\n",
       "    return toinsert\n",
       "  }\n",
       "\n",
       "  events.on('output_added.OutputArea', handle_add_output);\n",
       "  events.on('output_updated.OutputArea', handle_update_output);\n",
       "  events.on('clear_output.CodeCell', handle_clear_output);\n",
       "  events.on('delete.Cell', handle_clear_output);\n",
       "  events.on('kernel_ready.Kernel', handle_kernel_cleanup);\n",
       "\n",
       "  OutputArea.prototype.register_mime_type(EXEC_MIME_TYPE, append_mime, {\n",
       "    safe: true,\n",
       "    index: 0\n",
       "  });\n",
       "}\n",
       "\n",
       "if (window.Jupyter !== undefined) {\n",
       "  try {\n",
       "    var events = require('base/js/events');\n",
       "    var OutputArea = require('notebook/js/outputarea').OutputArea;\n",
       "    if (OutputArea.prototype.mime_types().indexOf(EXEC_MIME_TYPE) == -1) {\n",
       "      register_renderer(events, OutputArea);\n",
       "    }\n",
       "  } catch(err) {\n",
       "  }\n",
       "}\n"
      ],
      "application/vnd.holoviews_load.v0+json": "\nif ((window.PyViz === undefined) || (window.PyViz instanceof HTMLElement)) {\n  window.PyViz = {comms: {}, comm_status:{}, kernels:{}, receivers: {}, plot_index: []}\n}\n\n\n    function JupyterCommManager() {\n    }\n\n    JupyterCommManager.prototype.register_target = function(plot_id, comm_id, msg_handler) {\n      if (window.comm_manager || ((window.Jupyter !== undefined) && (Jupyter.notebook.kernel != null))) {\n        var comm_manager = window.comm_manager || Jupyter.notebook.kernel.comm_manager;\n        comm_manager.register_target(comm_id, function(comm) {\n          comm.on_msg(msg_handler);\n        });\n      } else if ((plot_id in window.PyViz.kernels) && (window.PyViz.kernels[plot_id])) {\n        window.PyViz.kernels[plot_id].registerCommTarget(comm_id, function(comm) {\n          comm.onMsg = msg_handler;\n        });\n      } else if (typeof google != 'undefined' && google.colab.kernel != null) {\n        google.colab.kernel.comms.registerTarget(comm_id, (comm) => {\n          var messages = comm.messages[Symbol.asyncIterator]();\n          function processIteratorResult(result) {\n            var message = result.value;\n            console.log(message)\n            var content = {data: message.data, comm_id};\n            var buffers = []\n            for (var buffer of message.buffers || []) {\n              buffers.push(new DataView(buffer))\n            }\n            var metadata = message.metadata || {};\n            var msg = {content, buffers, metadata}\n            msg_handler(msg);\n            return messages.next().then(processIteratorResult);\n          }\n          return messages.next().then(processIteratorResult);\n        })\n      }\n    }\n\n    JupyterCommManager.prototype.get_client_comm = function(plot_id, comm_id, msg_handler) {\n      if (comm_id in window.PyViz.comms) {\n        return window.PyViz.comms[comm_id];\n      } else if (window.comm_manager || ((window.Jupyter !== undefined) && (Jupyter.notebook.kernel != null))) {\n        var comm_manager = window.comm_manager || Jupyter.notebook.kernel.comm_manager;\n        var comm = comm_manager.new_comm(comm_id, {}, {}, {}, comm_id);\n        if (msg_handler) {\n          comm.on_msg(msg_handler);\n        }\n      } else if ((plot_id in window.PyViz.kernels) && (window.PyViz.kernels[plot_id])) {\n        var comm = window.PyViz.kernels[plot_id].connectToComm(comm_id);\n        comm.open();\n        if (msg_handler) {\n          comm.onMsg = msg_handler;\n        }\n      } else if (typeof google != 'undefined' && google.colab.kernel != null) {\n        var comm_promise = google.colab.kernel.comms.open(comm_id)\n        comm_promise.then((comm) => {\n          window.PyViz.comms[comm_id] = comm;\n          if (msg_handler) {\n            var messages = comm.messages[Symbol.asyncIterator]();\n            function processIteratorResult(result) {\n              var message = result.value;\n              var content = {data: message.data};\n              var metadata = message.metadata || {comm_id};\n              var msg = {content, metadata}\n              msg_handler(msg);\n              return messages.next().then(processIteratorResult);\n            }\n            return messages.next().then(processIteratorResult);\n          }\n        }) \n        var sendClosure = (data, metadata, buffers, disposeOnDone) => {\n          return comm_promise.then((comm) => {\n            comm.send(data, metadata, buffers, disposeOnDone);\n          });\n        };\n        var comm = {\n          send: sendClosure\n        };\n      }\n      window.PyViz.comms[comm_id] = comm;\n      return comm;\n    }\n    window.PyViz.comm_manager = new JupyterCommManager();\n    \n\n\nvar JS_MIME_TYPE = 'application/javascript';\nvar HTML_MIME_TYPE = 'text/html';\nvar EXEC_MIME_TYPE = 'application/vnd.holoviews_exec.v0+json';\nvar CLASS_NAME = 'output';\n\n/**\n * Render data to the DOM node\n */\nfunction render(props, node) {\n  var div = document.createElement(\"div\");\n  var script = document.createElement(\"script\");\n  node.appendChild(div);\n  node.appendChild(script);\n}\n\n/**\n * Handle when a new output is added\n */\nfunction handle_add_output(event, handle) {\n  var output_area = handle.output_area;\n  var output = handle.output;\n  if ((output.data == undefined) || (!output.data.hasOwnProperty(EXEC_MIME_TYPE))) {\n    return\n  }\n  var id = output.metadata[EXEC_MIME_TYPE][\"id\"];\n  var toinsert = output_area.element.find(\".\" + CLASS_NAME.split(' ')[0]);\n  if (id !== undefined) {\n    var nchildren = toinsert.length;\n    var html_node = toinsert[nchildren-1].children[0];\n    html_node.innerHTML = output.data[HTML_MIME_TYPE];\n    var scripts = [];\n    var nodelist = html_node.querySelectorAll(\"script\");\n    for (var i in nodelist) {\n      if (nodelist.hasOwnProperty(i)) {\n        scripts.push(nodelist[i])\n      }\n    }\n\n    scripts.forEach( function (oldScript) {\n      var newScript = document.createElement(\"script\");\n      var attrs = [];\n      var nodemap = oldScript.attributes;\n      for (var j in nodemap) {\n        if (nodemap.hasOwnProperty(j)) {\n          attrs.push(nodemap[j])\n        }\n      }\n      attrs.forEach(function(attr) { newScript.setAttribute(attr.name, attr.value) });\n      newScript.appendChild(document.createTextNode(oldScript.innerHTML));\n      oldScript.parentNode.replaceChild(newScript, oldScript);\n    });\n    if (JS_MIME_TYPE in output.data) {\n      toinsert[nchildren-1].children[1].textContent = output.data[JS_MIME_TYPE];\n    }\n    output_area._hv_plot_id = id;\n    if ((window.Bokeh !== undefined) && (id in Bokeh.index)) {\n      window.PyViz.plot_index[id] = Bokeh.index[id];\n    } else {\n      window.PyViz.plot_index[id] = null;\n    }\n  } else if (output.metadata[EXEC_MIME_TYPE][\"server_id\"] !== undefined) {\n    var bk_div = document.createElement(\"div\");\n    bk_div.innerHTML = output.data[HTML_MIME_TYPE];\n    var script_attrs = bk_div.children[0].attributes;\n    for (var i = 0; i < script_attrs.length; i++) {\n      toinsert[toinsert.length - 1].childNodes[1].setAttribute(script_attrs[i].name, script_attrs[i].value);\n    }\n    // store reference to server id on output_area\n    output_area._bokeh_server_id = output.metadata[EXEC_MIME_TYPE][\"server_id\"];\n  }\n}\n\n/**\n * Handle when an output is cleared or removed\n */\nfunction handle_clear_output(event, handle) {\n  var id = handle.cell.output_area._hv_plot_id;\n  var server_id = handle.cell.output_area._bokeh_server_id;\n  if (((id === undefined) || !(id in PyViz.plot_index)) && (server_id !== undefined)) { return; }\n  var comm = window.PyViz.comm_manager.get_client_comm(\"hv-extension-comm\", \"hv-extension-comm\", function () {});\n  if (server_id !== null) {\n    comm.send({event_type: 'server_delete', 'id': server_id});\n    return;\n  } else if (comm !== null) {\n    comm.send({event_type: 'delete', 'id': id});\n  }\n  delete PyViz.plot_index[id];\n  if ((window.Bokeh !== undefined) & (id in window.Bokeh.index)) {\n    var doc = window.Bokeh.index[id].model.document\n    doc.clear();\n    const i = window.Bokeh.documents.indexOf(doc);\n    if (i > -1) {\n      window.Bokeh.documents.splice(i, 1);\n    }\n  }\n}\n\n/**\n * Handle kernel restart event\n */\nfunction handle_kernel_cleanup(event, handle) {\n  delete PyViz.comms[\"hv-extension-comm\"];\n  window.PyViz.plot_index = {}\n}\n\n/**\n * Handle update_display_data messages\n */\nfunction handle_update_output(event, handle) {\n  handle_clear_output(event, {cell: {output_area: handle.output_area}})\n  handle_add_output(event, handle)\n}\n\nfunction register_renderer(events, OutputArea) {\n  function append_mime(data, metadata, element) {\n    // create a DOM node to render to\n    var toinsert = this.create_output_subarea(\n    metadata,\n    CLASS_NAME,\n    EXEC_MIME_TYPE\n    );\n    this.keyboard_manager.register_events(toinsert);\n    // Render to node\n    var props = {data: data, metadata: metadata[EXEC_MIME_TYPE]};\n    render(props, toinsert[0]);\n    element.append(toinsert);\n    return toinsert\n  }\n\n  events.on('output_added.OutputArea', handle_add_output);\n  events.on('output_updated.OutputArea', handle_update_output);\n  events.on('clear_output.CodeCell', handle_clear_output);\n  events.on('delete.Cell', handle_clear_output);\n  events.on('kernel_ready.Kernel', handle_kernel_cleanup);\n\n  OutputArea.prototype.register_mime_type(EXEC_MIME_TYPE, append_mime, {\n    safe: true,\n    index: 0\n  });\n}\n\nif (window.Jupyter !== undefined) {\n  try {\n    var events = require('base/js/events');\n    var OutputArea = require('notebook/js/outputarea').OutputArea;\n    if (OutputArea.prototype.mime_types().indexOf(EXEC_MIME_TYPE) == -1) {\n      register_renderer(events, OutputArea);\n    }\n  } catch(err) {\n  }\n}\n"
     },
     "metadata": {},
     "output_type": "display_data"
    }
   ],
   "source": [
    "import casatasks\n",
    "import casatools\n",
    "import panel as pn\n",
    "\n",
    "from astropy.io import fits\n",
    "from astropy.wcs import WCS\n",
    "\n",
    "import pylab as pl\n",
    "import numpy as np\n",
    "\n",
    "import nb1.test_standard_cube_briggsbwtaper as stk\n",
    "import stk_utils.stats_table as stk_table\n",
    "\n",
    "pn.extension('tabulator')"
   ]
  },
  {
   "cell_type": "markdown",
   "metadata": {
    "id": "tzhuhki9F6ds"
   },
   "source": [
    "## Modular Test Suite"
   ]
  },
  {
   "cell_type": "code",
   "execution_count": 7,
   "metadata": {
    "id": "dbRcWT9Aa9GS"
   },
   "outputs": [],
   "source": [
    "standard = stk.Test_standard()"
   ]
  },
  {
   "cell_type": "code",
   "execution_count": 8,
   "metadata": {
    "colab": {
     "base_uri": "https://localhost:8080/"
    },
    "id": "tBIHqgLviFO-",
    "outputId": "6fffa30d-7201-4628-f606-f6ad09e933c1"
   },
   "outputs": [
    {
     "name": "stdout",
     "output_type": "stream",
     "text": [
      "Setting data_path: /export/home/fornax/jhoskins/Development/stakeholder/data/\n"
     ]
    }
   ],
   "source": [
    "standard.set_file_path(path=os.getcwd()+\"/data/\")"
   ]
  },
  {
   "cell_type": "code",
   "execution_count": 9,
   "metadata": {
    "id": "rj3N1wT7cVHE"
   },
   "outputs": [],
   "source": [
    "standard.setUp()"
   ]
  },
  {
   "cell_type": "code",
   "execution_count": 10,
   "metadata": {
    "id": "z2Stn3MBcYfE"
   },
   "outputs": [],
   "source": [
    "standard.test_standard_cube_briggsbwtaper()"
   ]
  },
  {
   "cell_type": "code",
   "execution_count": 13,
   "metadata": {
    "colab": {
     "base_uri": "https://localhost:8080/"
    },
    "id": "PijniNbycfPc",
    "outputId": "8e9b4a7b-91ad-4781-a618-30e8ff29c52f"
   },
   "outputs": [
    {
     "name": "stdout",
     "output_type": "stream",
     "text": [
      "Copying iter0 files to iter1\n"
     ]
    }
   ],
   "source": [
    "msfile = standard.data_path + 'E2E6.1.00034.S_tclean.ms'\n",
    "\n",
    "casatasks.tclean(vis=msfile, \n",
    "                 imagename=standard.file_name+'0', \n",
    "                 field='1',\n",
    "                 spw=['0'], \n",
    "                 imsize=[80, 80], \n",
    "                 antenna=['0,1,2,3,4,5,6,7,8'], \n",
    "                 scan=['8,12,16'], \n",
    "                 intent='OBSERVE_TARGET#ON_SOURCE',\n",
    "                 datacolumn='data', \n",
    "                 cell=['1.1arcsec'], \n",
    "                 phasecenter='ICRS 00:45:54.3836 -073.15.29.413', \n",
    "                 stokes='I', \n",
    "                 specmode='cube',\n",
    "                 nchan=508, \n",
    "                 start='220.2526743594GHz', \n",
    "                 width='0.2441741MHz',\n",
    "                 outframe='LSRK', \n",
    "                 pblimit=0.2, \n",
    "                 perchanweightdensity=True,\n",
    "                 gridder='standard', \n",
    "                 mosweight=False,\n",
    "                 deconvolver='hogbom', \n",
    "                 usepointing=False, \n",
    "                 restoration=False,\n",
    "                 pbcor=False, \n",
    "                 weighting='briggsbwtaper', \n",
    "                 restoringbeam='common',\n",
    "                 robust=0.5, npixels=0, \n",
    "                 niter=0, \n",
    "                 threshold='0.0mJy', \n",
    "                 nsigma=0.0,\n",
    "                 interactive=0, \n",
    "                 usemask='auto-multithresh',\n",
    "                 sidelobethreshold=1.25, \n",
    "                 noisethreshold=5.0,\n",
    "                 lownoisethreshold=2.0, \n",
    "                 negativethreshold=0.0, \n",
    "                 minbeamfrac=0.1,\n",
    "                 growiterations=75, \n",
    "                 dogrowprune=True, \n",
    "                 minpercentchange=1.0,\n",
    "                 fastnoise=False, \n",
    "                 savemodel='none', \n",
    "                 parallel=parallel,\n",
    "                 verbose=True)\n",
    "\n",
    "print('Copying iter0 files to iter1')\n",
    "standard.copy_products(standard.file_name+'0', standard.file_name+'1')"
   ]
  },
  {
   "cell_type": "code",
   "execution_count": 14,
   "metadata": {
    "colab": {
     "base_uri": "https://localhost:8080/"
    },
    "id": "s8EX0CndzHQM",
    "outputId": "a14a7aaa-9c33-4ff0-bd80-3fc4dfc470fc"
   },
   "outputs": [
    {
     "data": {
      "text/plain": [
       "{'blc': array([0, 0, 0, 0]),\n",
       " 'blcf': '00:46:04.574, -73.16.13.397, I, 2.202527e+11Hz',\n",
       " 'max': array([1.]),\n",
       " 'maxpos': array([40, 40,  0,  0]),\n",
       " 'maxposf': '00:45:54.384, -73.15.29.413, I, 2.202527e+11Hz',\n",
       " 'mean': array([0.00213068]),\n",
       " 'medabsdevmed': array([0.06809951]),\n",
       " 'median': array([-0.03720173]),\n",
       " 'min': array([-0.20378327]),\n",
       " 'minpos': array([  7,  13,   0, 473]),\n",
       " 'minposf': '00:46:02.789, -73.15.59.102, I, 2.203682e+11Hz',\n",
       " 'npts': array([3251200.]),\n",
       " 'q1': array([-0.09263814]),\n",
       " 'q3': array([0.06073105]),\n",
       " 'quartile': array([0.15336919]),\n",
       " 'rms': array([0.13685789]),\n",
       " 'sigma': array([0.13684132]),\n",
       " 'sum': array([6927.26572989]),\n",
       " 'sumsq': array([60895.2410615]),\n",
       " 'trc': array([ 79,  79,   0, 507]),\n",
       " 'trcf': '00:45:44.462, -73.14.46.498, I, 2.203765e+11Hz'}"
      ]
     },
     "execution_count": 14,
     "metadata": {},
     "output_type": "execute_result"
    }
   ],
   "source": [
    "casatasks.imstat(standard.file_name + '0.psf')"
   ]
  },
  {
   "cell_type": "code",
   "execution_count": 15,
   "metadata": {
    "colab": {
     "base_uri": "https://localhost:8080/"
    },
    "id": "Pv_7DKiQcd90",
    "outputId": "644d185c-e17d-4a5b-e9aa-2104d04634cf"
   },
   "outputs": [
    {
     "data": {
      "text/plain": [
       "{'cleanstate': 'running',\n",
       " 'cyclefactor': 1.0,\n",
       " 'cycleiterdone': 0,\n",
       " 'cycleniter': 20000,\n",
       " 'cyclethreshold': 0.1810014843940735,\n",
       " 'interactiveiterdone': 19,\n",
       " 'interactivemode': False,\n",
       " 'interactiveniter': 0,\n",
       " 'interactivethreshold': 0.0,\n",
       " 'iterdone': 32,\n",
       " 'loopgain': 0.10000000149011612,\n",
       " 'maxpsffraction': 0.800000011920929,\n",
       " 'maxpsfsidelobe': 0.509247362613678,\n",
       " 'minpsffraction': 0.05000000074505806,\n",
       " 'niter': 20000,\n",
       " 'nmajordone': 2,\n",
       " 'nsigma': 0.0,\n",
       " 'stopcode': 2,\n",
       " 'summarymajor': array([15, 32]),\n",
       " 'summaryminor': array([[  9.        ,  24.        ,  25.        ,  42.        ],\n",
       "        [  0.51566607,   0.49087879,   0.35147971,   0.35124114],\n",
       "        [  0.65050554,   0.43279624,   1.6620127 ,   1.08244705],\n",
       "        [  0.51891911,   0.51891911,   0.354     ,   0.354     ],\n",
       "        [  0.        ,   0.        ,   0.        ,   0.        ],\n",
       "        [254.        , 256.        , 254.        , 256.        ]]),\n",
       " 'threshold': 0.3540000021457672}"
      ]
     },
     "execution_count": 15,
     "metadata": {},
     "output_type": "execute_result"
    }
   ],
   "source": [
    "casatasks.tclean(vis=msfile, \n",
    "                 imagename=standard.file_name+'1', \n",
    "                 field='1',\n",
    "                 spw=['0'], \n",
    "                 imsize=[80, 80], \n",
    "                 antenna=['0,1,2,3,4,5,6,7,8'],\n",
    "                 scan=['8,12,16'], \n",
    "                 intent='OBSERVE_TARGET#ON_SOURCE',\n",
    "                 datacolumn='data', \n",
    "                 cell=['1.1arcsec'], \n",
    "                 phasecenter='ICRS 00:45:54.3836 -073.15.29.413', \n",
    "                 stokes='I', \n",
    "                 specmode='cube',\n",
    "                 nchan=508, \n",
    "                 start='220.2526743594GHz', \n",
    "                 width='0.2441741MHz',\n",
    "                 outframe='LSRK', \n",
    "                 perchanweightdensity=True,\n",
    "                 usepointing=False, \n",
    "                 pblimit=0.2, \n",
    "                 nsigma=0.0,\n",
    "                 gridder='standard', \n",
    "                 mosweight=False, \n",
    "                 deconvolver='hogbom', \n",
    "                 restoration=True, \n",
    "                 restoringbeam='common', \n",
    "                 pbcor=True, \n",
    "                 weighting='briggsbwtaper', \n",
    "                 robust=0.5, \n",
    "                 npixels=0, \n",
    "                 niter=20000,\n",
    "                 threshold='0.354Jy', \n",
    "                 interactive=0, \n",
    "                 usemask='auto-multithresh', \n",
    "                 sidelobethreshold=1.25, \n",
    "                 noisethreshold=5.0, \n",
    "                 lownoisethreshold=2.0, \n",
    "                 negativethreshold=0.0,\n",
    "                 minbeamfrac=0.08, \n",
    "                 growiterations=75, \n",
    "                 dogrowprune=True,\n",
    "                 minpercentchange=1.0, \n",
    "                 fastnoise=False, \n",
    "                 restart=True, \n",
    "                 calcres=False, \n",
    "                 calcpsf=False, \n",
    "                 savemodel='none',\n",
    "                 parallel=parallel, \n",
    "                 verbose=True)"
   ]
  },
  {
   "cell_type": "markdown",
   "metadata": {
    "id": "6t2vW9TAGOnf"
   },
   "source": [
    "## Produce Standard Cube Report"
   ]
  },
  {
   "cell_type": "markdown",
   "metadata": {
    "id": "OyXwWoMYRILb"
   },
   "source": [
    "\n"
   ]
  },
  {
   "cell_type": "code",
   "execution_count": 16,
   "metadata": {
    "id": "dfM5kNB7ckkN",
    "scrolled": false
   },
   "outputs": [
    {
     "name": "stdout",
     "output_type": "stream",
     "text": [
      "pstr after checkims = [ check_ims ] Image made : ['/export/home/fornax/jhoskins/Development/stakeholder/standard_cube_briggsbwtaper.iter1.psf', '/export/home/fornax/jhoskins/Development/stakeholder/standard_cube_briggsbwtaper.iter1.residual', '/export/home/fornax/jhoskins/Development/stakeholder/standard_cube_briggsbwtaper.iter1.image', '/export/home/fornax/jhoskins/Development/stakeholder/standard_cube_briggsbwtaper.iter1.image.pbcor', '/export/home/fornax/jhoskins/Development/stakeholder/standard_cube_briggsbwtaper.iter1.mask', '/export/home/fornax/jhoskins/Development/stakeholder/standard_cube_briggsbwtaper.iter1.pb', '/export/home/fornax/jhoskins/Development/stakeholder/standard_cube_briggsbwtaper.iter1.model', '/export/home/fornax/jhoskins/Development/stakeholder/standard_cube_briggsbwtaper.iter1.sumwt'] =  [True, True, True, True, True, True, True, True] ( Pass : should all be True )\n",
      "\n",
      "pstr after check_keywords = [ check_ims ] Image made : ['/export/home/fornax/jhoskins/Development/stakeholder/standard_cube_briggsbwtaper.iter1.psf', '/export/home/fornax/jhoskins/Development/stakeholder/standard_cube_briggsbwtaper.iter1.residual', '/export/home/fornax/jhoskins/Development/stakeholder/standard_cube_briggsbwtaper.iter1.image', '/export/home/fornax/jhoskins/Development/stakeholder/standard_cube_briggsbwtaper.iter1.image.pbcor', '/export/home/fornax/jhoskins/Development/stakeholder/standard_cube_briggsbwtaper.iter1.mask', '/export/home/fornax/jhoskins/Development/stakeholder/standard_cube_briggsbwtaper.iter1.pb', '/export/home/fornax/jhoskins/Development/stakeholder/standard_cube_briggsbwtaper.iter1.model', '/export/home/fornax/jhoskins/Development/stakeholder/standard_cube_briggsbwtaper.iter1.sumwt'] =  [True, True, True, True, True, True, True, True] ( Pass : should all be True )\n",
      "All expected keywords in imageinfo, miscinfo, and coords found. (check_keywords)\n",
      "\n",
      "pstr after check_history = [ check_ims ] Image made : ['/export/home/fornax/jhoskins/Development/stakeholder/standard_cube_briggsbwtaper.iter1.psf', '/export/home/fornax/jhoskins/Development/stakeholder/standard_cube_briggsbwtaper.iter1.residual', '/export/home/fornax/jhoskins/Development/stakeholder/standard_cube_briggsbwtaper.iter1.image', '/export/home/fornax/jhoskins/Development/stakeholder/standard_cube_briggsbwtaper.iter1.image.pbcor', '/export/home/fornax/jhoskins/Development/stakeholder/standard_cube_briggsbwtaper.iter1.mask', '/export/home/fornax/jhoskins/Development/stakeholder/standard_cube_briggsbwtaper.iter1.pb', '/export/home/fornax/jhoskins/Development/stakeholder/standard_cube_briggsbwtaper.iter1.model', '/export/home/fornax/jhoskins/Development/stakeholder/standard_cube_briggsbwtaper.iter1.sumwt'] =  [True, True, True, True, True, True, True, True] ( Pass : should all be True )\n",
      "All expected keywords in imageinfo, miscinfo, and coords found. (check_keywords)\n",
      "[check_history] All expected history entries found. (Pass)\n",
      "\n",
      "Saving %s dictionaries 10\n"
     ]
    },
    {
     "data": {
      "image/png": "[encoded data removed]",
      "text/plain": [
       "<Figure size 432x288 with 1 Axes>"
      ]
     },
     "metadata": {
      "needs_background": "light"
     },
     "output_type": "display_data"
    }
   ],
   "source": [
    "standard.standard_cube_report()"
   ]
  },
  {
   "cell_type": "code",
   "execution_count": null,
   "metadata": {
    "id": "cua3-_0FpCPA"
   },
   "outputs": [],
   "source": [
    "table = stk_table.StatsTable(\n",
    "    json_expected='data/test_stk_alma_pipeline_imaging_exp_dicts.json', \n",
    "    json_measured='test_standard_cube_briggsbwtaper_cur_stats_6.3.0.48.json',\n",
    "    stakeholder_test='test_standard_cube_briggsbwtaper'\n",
    ")\n",
    "\n",
    "table.stats_table()"
   ]
  },
  {
   "cell_type": "code",
   "execution_count": null,
   "metadata": {
    "id": "zeXWnU54qYHK"
   },
   "outputs": [],
   "source": [
    "table.json_measured"
   ]
  },
  {
   "cell_type": "markdown",
   "metadata": {},
   "source": [
    "## Clean Data\n",
    "Uncomment this if you want to clean the working files out of the directory."
   ]
  },
  {
   "cell_type": "code",
   "execution_count": 17,
   "metadata": {
    "id": "a7pr5trR1QqJ"
   },
   "outputs": [],
   "source": [
    "clean_data()"
   ]
  },
  {
   "cell_type": "code",
   "execution_count": null,
   "metadata": {},
   "outputs": [],
   "source": []
  }
 ],
 "metadata": {
  "colab": {
   "collapsed_sections": [
    "J88MWrnHFXZP",
    "5omVbUilFTK6"
   ],
   "name": "stakeholder.ipynb",
   "provenance": []
  },
  "kernelspec": {
   "display_name": "Python 3",
   "language": "python",
   "name": "python3"
  },
  "language_info": {
   "codemirror_mode": {
    "name": "ipython",
    "version": 3
   },
   "file_extension": ".py",
   "mimetype": "text/x-python",
   "name": "python",
   "nbconvert_exporter": "python",
   "pygments_lexer": "ipython3",
   "version": "3.6.8"
  }
 },
 "nbformat": 4,
 "nbformat_minor": 1
}
