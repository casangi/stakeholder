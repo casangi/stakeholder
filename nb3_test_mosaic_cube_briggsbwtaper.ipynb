{
 "cells": [
  {
   "cell_type": "markdown",
   "metadata": {
    "id": "csR4T9cbEu1o"
   },
   "source": [
    "## Fetch Stakeholder Repository"
   ]
  },
  {
   "cell_type": "code",
   "execution_count": null,
   "metadata": {
    "id": "bSr3sYyghZ17"
   },
   "outputs": [],
   "source": [
    "#import os\n",
    "\n",
    "#if os.path.exists('./stakeholder') is True:\n",
    "#    os.system('rm -rf ./stakeholder/')\n",
    "\n",
    "#!git clone https://github.com/casangi/stakeholder.git"
   ]
  },
  {
   "cell_type": "markdown",
   "metadata": {},
   "source": [
    "## Certify and install required python modules."
   ]
  },
  {
   "cell_type": "code",
   "execution_count": null,
   "metadata": {},
   "outputs": [],
   "source": [
    "import os\n",
    "import sys\n",
    "import subprocess\n",
    "import pkg_resources\n",
    "\n",
    "__require = {'casatools', 'casatasks', 'casatestutils', 'panel', 'astropy', 'matplotlib', 'numpy'}\n",
    "__installed = {pkg.key for pkg in pkg_resources.working_set}\n",
    "    \n",
    "__missing = __require - __installed\n",
    "\n",
    "\n",
    "if len(__missing) > 0:\n",
    "    subprocess.check_call([sys.executable, '-m', 'pip', 'install', *__missing], stdout=subprocess.DEVNULL)"
   ]
  },
  {
   "cell_type": "code",
   "execution_count": null,
   "metadata": {
    "id": "VlBxKASNqblr"
   },
   "outputs": [],
   "source": [
    "!python3 -m casatools --update-user-data"
   ]
  },
  {
   "cell_type": "markdown",
   "metadata": {
    "id": "Y5_Y1wfXFMoo"
   },
   "source": [
    "## Utility Functions"
   ]
  },
  {
   "cell_type": "code",
   "execution_count": null,
   "metadata": {
    "colab": {
     "base_uri": "https://localhost:8080/"
    },
    "id": "SsZH-VzmYs8P",
    "outputId": "1ac54b27-ed61-4818-a3d5-13c738434e77"
   },
   "outputs": [],
   "source": [
    "def clean_data():\n",
    "    import os\n",
    "    \n",
    "    os.system('rm -rf mosaic_cube* *.log *.png *.html')"
   ]
  },
  {
   "cell_type": "markdown",
   "metadata": {
    "id": "J88MWrnHFXZP"
   },
   "source": [
    "## Stakeholder Datasets"
   ]
  },
  {
   "cell_type": "markdown",
   "metadata": {
    "id": "qkRyVmChIil2"
   },
   "source": [
    "```\n",
    "Datasets (MOUS)\n",
    "E2E6.1.00034.S (uid://A002/Xcff05c/X1ec)\n",
    "2018.1.00879.S (uid://A001/X133d/X169f)\n",
    "E2E6.1.00020.S (uid://A002/Xcff05c/Xe5)\n",
    "2017.1.00750.T (uid://A001/X131b/X57)\n",
    "\n",
    "Test list - 22 total\n",
    "1a.  Single field(SF) cube with perchanweightdensity=False(pcwdF), weighting=briggs - E2E6.1.00034.S\n",
    "1b.  SF cube with pcwdT, weighting=briggs - E2E6.1.00034.S\n",
    "1c.  SF cube with pcwdT, weighting=briggsbwtaper - E2E6.1.00034.S\n",
    "2.   SF MFS - E2E6.1.00020.S\n",
    "3.   SF mtmfs - E2E6.1.00020.S\n",
    "4a.  SF ephemeris cube (multi-EB) with pcwdF+briggs - 2017.1.00750.T\n",
    "4b.  SF ephemeris cube (multi-EB) with pcwdT+briggs - 2017.1.00750.T\n",
    "4c.  SF ephemeris cube (multi-EB) with pcwdT+briggsbwtaper - 2017.1.00750.T\n",
    "5.   SF ephemeris MFS - 2018.1.00879.S\n",
    "6.   SF ephemeris mtmfs - 2018.1.00879.S\n",
    "7.   SF Calibrator - E2E6.1.00034.S\n",
    "8.   SF ephemeris Calibrator - 2018.1.00879.S\n",
    "9a.  Mosaic cube with pcwdF, briggs- E2E6.1.00034.S\n",
    "9b.  Mosaic cube with pcwdT+brigs- E2E6.1.00034.S\n",
    "9c.  Mosaic cube with pcwdT+briggsbwtaper- E2E6.1.00034.S\n",
    "10.  Mosaic MFS - E2E6.1.00020.S\n",
    "11.  Mosaic mtmfs - E2E6.1.00020.S\n",
    "12a. Mosaic ephemeris cube with pcwdF- 2018.1.00879.S\n",
    "12b. Mosaic ephemeris cube with pcwdT+briggs - 2018.1.00879.S\n",
    "12c. Mosaic ephemeris cube with pcwdT+briggsbwtaper - 2018.1.00879.S\n",
    "13.  Mosaic ephemeris MFS - 2018.1.00879.S\n",
    "14.  Mosaic ephemeris mtmfs - 2018.1.00879.S\n",
    "\n",
    "Each test stores reference values in dictionaries for the metrics\n",
    "to be tested and these dictionaries are stored in a single nested dictionary\n",
    "in a json file located in the casatestdata repository. \n",
    "The path of json file is stored in the variable, \n",
    "       self.expdict_jsonfile  \n",
    "in test_tclean_base.setUp(). \n",
    "\n",
    "* NOTE for updating the tests and fiducial values in json file *\n",
    "When the json file is updated and its 'casa_version'\n",
    "could also be updated then self.refversion in the setUp() needs to be updated to\n",
    "match with the 'casa_version' as defined in the json file otherwise \n",
    "almastkteestutils.read_testcase_expdicts() print an error message.\n",
    "\n",
    "The fudicial metric values for a specific image are stored with the following keys.\n",
    " \n",
    "For the standard tests, default sets are:\n",
    "    exp_im_stats, exp_mask_stats, exp_pb_stats, exp_psf_stats,\n",
    "    exp_model_stats, exp_resid_stats, exp_sumwt_stats\n",
    "For mosaic tests, the ones above and\n",
    "    exp_wt_stats (for mosaic)\n",
    "Additionally, for cube imaging (if self.parallel=True),\n",
    "    exp_bmin_dict, exp_bmaj_dict, exp_pa_dict\n",
    "And for mtmfs\n",
    "    exp_im1_stats, exp_model1_stats, exp_resid1_stats, exp_sumwt1_stats\n",
    "```"
   ]
  },
  {
   "cell_type": "markdown",
   "metadata": {
    "id": "5omVbUilFTK6"
   },
   "source": [
    "## Stakeholder Modular Test Breakdown"
   ]
  },
  {
   "cell_type": "markdown",
   "metadata": {
    "id": "BmvVLkArJHh5"
   },
   "source": [
    "Load the stakeholder test as a module. The `Test_standard()` class has been modularized into the following general pieces:\n",
    "\n",
    "\n",
    "\n",
    "*   `tclean_base.set_file_path()` : This is a new method in the base class that is used to set the stakeholder data path in a way that is accesible when running in modular mode.\n",
    "*   `tclean_base.prepData()` | `tclean_base.getExpdicts()`: Both of these functions are traditionally called when the test class is instantiated.\n",
    "*   `tclean_base.setUp()`: This method is normally called with the test class instantiation but due to needing to set the data path in colab manually, for modular operation, it is called separately.\n",
    "*   `Test_standard.test_standard_cube()`: This is the standard cube test method. A check is done to determine whether the method is being called as a part of the standard unittest suite or modular by the user. The `inspect` module is used to determine the method that called standard cube test.\n",
    "*   `tclean_base.clean()`: For standard operation the tclean tests are called in the normal way using the method `Test_standard.standard_cube_clean()` but for modular operation a tclean wrapper function has been added to the base class allowing the user to call tclean with their choice of input parameters.\n",
    "*   `Test_standard.standard_cube_report()`: This method contains the code to generate the user test reports and moment plots. It is called in both use cases."
   ]
  },
  {
   "cell_type": "markdown",
   "metadata": {
    "id": "RfDJlKvqGFKj"
   },
   "source": [
    "## Load Stakeholder Data"
   ]
  },
  {
   "cell_type": "code",
   "execution_count": null,
   "metadata": {
    "colab": {
     "base_uri": "https://localhost:8080/"
    },
    "id": "9vDBSCKw2a2h",
    "outputId": "72320507-413d-44ab-ce5f-6838b4646451"
   },
   "outputs": [],
   "source": [
    "!wget -r -np -nH --cut-dirs=4 --reject \"index.html*\" https://www.cv.nrao.edu/~jhoskins/E2E6.1.00034.S_tclean.ms.tar\n",
    "!tar -xvf E2E6.1.00034.S_tclean.ms.tar\n",
    "os.system('mv E2E6.1.00034.S_tclean.ms data/')\n",
    "\n",
    "!wget -r -np -nH --cut-dirs=4 --reject \"index.html*\" https://www.cv.nrao.edu/~jhoskins/test_stk_alma_pipeline_imaging_exp_dicts.json\n",
    "os.system('mv test_stk_alma_pipeline_imaging_exp_dicts.json ./data/')"
   ]
  },
  {
   "cell_type": "markdown",
   "metadata": {},
   "source": [
    "## Enable mpi"
   ]
  },
  {
   "cell_type": "code",
   "execution_count": null,
   "metadata": {},
   "outputs": [],
   "source": [
    "parallel = True"
   ]
  },
  {
   "cell_type": "markdown",
   "metadata": {
    "id": "rcdI_4s_Fusc"
   },
   "source": [
    "## Import Required Dependencies"
   ]
  },
  {
   "cell_type": "code",
   "execution_count": null,
   "metadata": {
    "colab": {
     "base_uri": "https://localhost:8080/",
     "height": 34
    },
    "id": "BZv81A02X5DX",
    "outputId": "701e9c11-c24d-487c-9c9d-b7f6f7855211"
   },
   "outputs": [],
   "source": [
    "import casatasks\n",
    "import casatools\n",
    "import panel as pn\n",
    "\n",
    "from astropy.io import fits\n",
    "from astropy.wcs import WCS\n",
    "\n",
    "import pylab as pl\n",
    "import numpy as np\n",
    "\n",
    "import nb3.test_mosaic_cube_briggsbwtaper as stk\n",
    "import stk_utils.stats_table as stk_table\n",
    "\n",
    "pn.extension('tabulator')"
   ]
  },
  {
   "cell_type": "markdown",
   "metadata": {
    "id": "tzhuhki9F6ds"
   },
   "source": [
    "## Modular Test Suite"
   ]
  },
  {
   "cell_type": "code",
   "execution_count": null,
   "metadata": {
    "id": "dbRcWT9Aa9GS"
   },
   "outputs": [],
   "source": [
    "standard = stk.Test_standard()"
   ]
  },
  {
   "cell_type": "code",
   "execution_count": null,
   "metadata": {
    "colab": {
     "base_uri": "https://localhost:8080/"
    },
    "id": "tBIHqgLviFO-",
    "outputId": "6fffa30d-7201-4628-f606-f6ad09e933c1"
   },
   "outputs": [],
   "source": [
    "standard.set_file_path(path=os.getcwd()+\"/data/\")"
   ]
  },
  {
   "cell_type": "code",
   "execution_count": null,
   "metadata": {
    "id": "rj3N1wT7cVHE"
   },
   "outputs": [],
   "source": [
    "standard.setUp()"
   ]
  },
  {
   "cell_type": "code",
   "execution_count": null,
   "metadata": {
    "id": "z2Stn3MBcYfE"
   },
   "outputs": [],
   "source": [
    "standard.test_mosaic_cube_briggsbwtaper()"
   ]
  },
  {
   "cell_type": "code",
   "execution_count": null,
   "metadata": {
    "colab": {
     "base_uri": "https://localhost:8080/"
    },
    "id": "PijniNbycfPc",
    "outputId": "8e9b4a7b-91ad-4781-a618-30e8ff29c52f"
   },
   "outputs": [],
   "source": [
    "msfile = standard.data_path + './E2E6.1.00034.S_tclean.ms'\n",
    "\n",
    "casatasks.tclean(vis=msfile, field='SMIDGE_NWCloud', spw=['0'], \\\n",
    "            antenna=['0,1,2,3,4,5,6,7,8'], scan=['8,12,16'], \\\n",
    "            intent='OBSERVE_TARGET#ON_SOURCE', datacolumn='data', \\\n",
    "            imagename=standard.file_name+'0', imsize=[108, 108], cell=['1.1arcsec'], \\\n",
    "            phasecenter='ICRS 00:45:54.3836 -073.15.29.413', stokes='I', \\\n",
    "            specmode='cube', nchan=508, start='220.2526743594GHz', \\\n",
    "            width='0.2441741MHz', outframe='LSRK', \\\n",
    "            perchanweightdensity=True, gridder='mosaic', \\\n",
    "            mosweight=True, usepointing=False, pblimit=0.2, \\\n",
    "            deconvolver='hogbom', restoration=False, restoringbeam='common', \\\n",
    "            pbcor=False, weighting='briggsbwtaper', robust=0.5, npixels=0, niter=0, \\\n",
    "            threshold='0.0mJy', interactive=0, usemask='auto-multithresh', \\\n",
    "            sidelobethreshold=1.25, noisethreshold=5.0, \\\n",
    "            lownoisethreshold=2.0, negativethreshold=0.0, minbeamfrac=0.1, \\\n",
    "            growiterations=75, dogrowprune=True, minpercentchange=1.0, \\\n",
    "            fastnoise=False, savemodel='none', parallel=parallel,\n",
    "            verbose=True)\n",
    "\n",
    "print('Copying iter0 files to iter1')\n",
    "standard.copy_products(standard.file_name+'0', standard.file_name+'1')"
   ]
  },
  {
   "cell_type": "code",
   "execution_count": null,
   "metadata": {
    "colab": {
     "base_uri": "https://localhost:8080/"
    },
    "id": "s8EX0CndzHQM",
    "outputId": "a14a7aaa-9c33-4ff0-bd80-3fc4dfc470fc"
   },
   "outputs": [],
   "source": [
    "casatasks.imstat(standard.file_name + '0.psf')"
   ]
  },
  {
   "cell_type": "code",
   "execution_count": null,
   "metadata": {
    "colab": {
     "base_uri": "https://localhost:8080/"
    },
    "id": "Pv_7DKiQcd90",
    "outputId": "644d185c-e17d-4a5b-e9aa-2104d04634cf"
   },
   "outputs": [],
   "source": [
    "casatasks.tclean(vis=msfile, field='SMIDGE_NWCloud', spw=['0'], \\\n",
    "            antenna=['0,1,2,3,4,5,6,7,8'],scan=['8,12,16'], \\\n",
    "            intent='OBSERVE_TARGET#ON_SOURCE', datacolumn='data', \\\n",
    "            imagename=standard.file_name+'1', imsize=[108, 108], \\\n",
    "            cell=['1.1arcsec'], phasecenter='ICRS 00:45:54.3836'\n",
    "            ' -073.15.29.413', stokes='I', specmode='cube', nchan=508, \\\n",
    "            start='220.2526743594GHz', width='0.2441741MHz', \\\n",
    "            outframe='LSRK', perchanweightdensity=True, \\\n",
    "            gridder='mosaic', mosweight=True, \\\n",
    "            usepointing=False, pblimit=0.2, deconvolver='hogbom', \\\n",
    "            restoration=True, restoringbeam='common', \\\n",
    "            pbcor=True, weighting='briggsbwtaper', robust=0.5,\\\n",
    "            npixels=0, niter=20000, threshold='0.354Jy', nsigma=0.0, \\\n",
    "            interactive=0, usemask='auto-multithresh', \\\n",
    "            sidelobethreshold=1.25, noisethreshold=5.0, \\\n",
    "            lownoisethreshold=2.0, negativethreshold=0.0, \\\n",
    "            minbeamfrac=0.1, growiterations=75, dogrowprune=True, \\\n",
    "            minpercentchange=1.0, fastnoise=False, restart=True, \\\n",
    "            savemodel='none', calcres=False, calcpsf=False, \\\n",
    "            parallel=parallel, verbose=True)"
   ]
  },
  {
   "cell_type": "markdown",
   "metadata": {
    "id": "6t2vW9TAGOnf"
   },
   "source": [
    "## Produce Standard Cube Report"
   ]
  },
  {
   "cell_type": "markdown",
   "metadata": {
    "id": "OyXwWoMYRILb"
   },
   "source": [
    "\n"
   ]
  },
  {
   "cell_type": "code",
   "execution_count": null,
   "metadata": {
    "id": "dfM5kNB7ckkN"
   },
   "outputs": [],
   "source": [
    "standard.standard_cube_report()"
   ]
  },
  {
   "cell_type": "code",
   "execution_count": null,
   "metadata": {
    "id": "cua3-_0FpCPA"
   },
   "outputs": [],
   "source": [
    "#table = stk_table.StatsTable(\n",
    "#    json_expected='data/test_stk_alma_pipeline_imaging_exp_dicts.json', \n",
    "#    json_measured='test_standard_cube_cur_stats_'+pkg_resources.get_distribution('casatasks').version+'.json'\n",
    "#)\n",
    "\n",
    "#table.stats_table()"
   ]
  },
  {
   "cell_type": "code",
   "execution_count": null,
   "metadata": {
    "id": "zeXWnU54qYHK"
   },
   "outputs": [],
   "source": [
    "#table.json_measured"
   ]
  },
  {
   "cell_type": "markdown",
   "metadata": {},
   "source": [
    "## Clean Data\n",
    "Uncomment this if you want to clean the working files out of the directory."
   ]
  },
  {
   "cell_type": "code",
   "execution_count": null,
   "metadata": {
    "id": "a7pr5trR1QqJ"
   },
   "outputs": [],
   "source": [
    "#clean_data()"
   ]
  }
 ],
 "metadata": {
  "colab": {
   "collapsed_sections": [
    "J88MWrnHFXZP",
    "5omVbUilFTK6"
   ],
   "name": "stakeholder.ipynb",
   "provenance": []
  },
  "kernelspec": {
   "display_name": "Python 3",
   "language": "python",
   "name": "python3"
  },
  "language_info": {
   "codemirror_mode": {
    "name": "ipython",
    "version": 3
   },
   "file_extension": ".py",
   "mimetype": "text/x-python",
   "name": "python",
   "nbconvert_exporter": "python",
   "pygments_lexer": "ipython3",
   "version": "3.6.8"
  }
 },
 "nbformat": 4,
 "nbformat_minor": 1
}
