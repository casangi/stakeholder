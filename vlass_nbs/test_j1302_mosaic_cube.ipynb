{
  "nbformat": 4,
  "nbformat_minor": 0,
  "metadata": {
    "colab": {
      "name": "test_j1302_mosaic_cube.ipynb",
      "provenance": [],
      "collapsed_sections": []
    },
    "kernelspec": {
      "name": "python3",
      "display_name": "Python 3"
    },
    "language_info": {
      "name": "python"
    }
  },
  "cells": [
    {
      "cell_type": "markdown",
      "source": [
        "Set up the notebook"
      ],
      "metadata": {
        "id": "FVRdSBw-hLj3"
      }
    },
    {
      "cell_type": "code",
      "execution_count": null,
      "metadata": {
        "id": "CwiCaqLzfYEA"
      },
      "outputs": [],
      "source": [
        "# imports and whatever...."
      ]
    },
    {
      "cell_type": "markdown",
      "source": [
        "Set local variables\n",
        "In the unittest, the way these are set will be different."
      ],
      "metadata": {
        "id": "GI-fkZghhQwT"
      }
    },
    {
      "cell_type": "code",
      "source": [
        "tstobj = test_j1302()\n",
        "setattr(tstobj, _testMethodName, 'test_j1302_mosaic_cube')\n",
        "# tstobj.setup() # is this necessary?"
      ],
      "metadata": {
        "id": "kIUbFEkNgaIH"
      },
      "execution_count": null,
      "outputs": []
    },
    {
      "cell_type": "markdown",
      "source": [
        "More local variables...\n",
        "These variables are common to both the notebook and the unittest."
      ],
      "metadata": {
        "id": "Y0CFbttVhePk"
      }
    },
    {
      "cell_type": "code",
      "source": [
        "# %% Set local vars [test_j1302_mosaic_cube] start @\n",
        "\n",
        "#previous steps in the pipeline would have created mask files from catalogs and images that were created as an \n",
        "#intermediate pipeline step.\n",
        "tstobj.data_path_dir  = 'J1302/Stakeholder-test-mosaic-cube-data'\n",
        "tstobj.prepData()\n",
        "# rundir = \"/users/bbean/dev/CAS-12427/src/casalith/build-casalith/work/linux/test_vlass_j1302_cube_unittest\"\n",
        "# os.system(f\"mv {rundir}/run_results/VLASS* {rundir}/nosedir/test_vlass_1v2/\")\n",
        "\n",
        "# reference frequence to use per spectral window (spw)\n",
        "refFreqDict  = {\n",
        "    '2' :  '2.028GHz',\n",
        "    '3' :  '2.156GHz',\n",
        "    '4' :  '2.284GHz',\n",
        "    '5' :  '2.412GHz',\n",
        "    '6' :  '2.540GHz',\n",
        "    '7' :  '2.668GHz',\n",
        "    '8' :  '2.796GHz',\n",
        "    '9' :  '2.924GHz',\n",
        "    '10':  '3.052GHz',\n",
        "    '11':  '3.180GHz',\n",
        "    '12':  '3.308GHz',\n",
        "    '13':  '3.436GHz',\n",
        "    '14':  '3.564GHz',\n",
        "    '15':  '3.692GHz',\n",
        "    '16':  '3.820GHz',\n",
        "    '17':  '3.948GHz'\n",
        "}\n",
        "\n",
        "# %% Set local vars [test_j1302_mosaic_cube] end @"
      ],
      "metadata": {
        "id": "TE4ZDil_g0bi"
      },
      "execution_count": null,
      "outputs": []
    },
    {
      "cell_type": "markdown",
      "source": [
        "Run the tclean parts of the test as their own section (slow)."
      ],
      "metadata": {
        "id": "uT-4qpLYhpXa"
      }
    },
    {
      "cell_type": "code",
      "source": [
        "# %% Run tclean [test_j1302_mosaic_cube] start   @\n",
        "\n",
        "def iname(image_iter, spw, stokes): # imagename=imagename_base+image_iter+'_'+spw.replace('~','-')+'_'+stokes\n",
        "    return 'J1302_'+image_iter+'_'+spw.replace('~','-')+'_'+stokes\n",
        "\n",
        "def run_tclean(vis=tstobj.vis, field='',spw='', uvrange='<12km', imsize=4000, antenna='', scan='', stokes='I', intent='OBSERVE_TARGET#UNSPECIFIED', cell='0.6arcsec', datacolumn='data',\n",
        "               imagename=None, niter=None, compare_tclean_pars=None,\n",
        "               phasecenter=tstobj.phasecenter, reffreq='3.0GHz', deconvolver='mtmfs',\n",
        "               gridder='mosaic', restoringbeam=[], specmode='mfs', nchan=-1,\n",
        "               outframe='LSRK', perchanweightdensity=True, mask='', usemask=\"user\",\n",
        "               pbmask=0.0, wprojplanes=1, mosweight=False, conjbeams=False,\n",
        "               usepointing=False, rotatepastep=5.0, pblimit=0.1, scales=[0],\n",
        "               nterms=1, pbcor=False, weighting='briggs', smallscalebias=0.4,\n",
        "               robust=1.0, uvtaper=[''], gain=0.1, npixels=0, threshold=0.0,\n",
        "               nsigma=2.0, cycleniter=500, cyclefactor=3, interactive=0,\n",
        "               fastnoise=True, calcres=True, calcpsf=True, restoration=True,\n",
        "               savemodel='none', parallel=False):\n",
        "    params = locals()\n",
        "    params = {k:params[k] for k in filter(lambda x: x not in ['tstobj'], params.keys())}\n",
        "    tstobj._run_tclean(**params)\n",
        "\n",
        "spws         = [ '2','8','14']\n",
        "stokesParams = ['IQUV']\n",
        "spwstats     = { '2':  {'freq': 2.028, 'IQUV': np.array([0.0,0.0,0.0,0.0]), 'beam': np.array([0.0,0.0,0.0])},\n",
        "                 '8':  {'freq': 2.796, 'IQUV': np.array([0.0,0.0,0.0,0.0]), 'beam': np.array([0.0,0.0,0.0])},\n",
        "                 '14': {'freq': 3.594, 'IQUV': np.array([0.0,0.0,0.0,0.0]), 'beam': np.array([0.0,0.0,0.0])} }\n",
        "\n",
        "script_pars_vals_0 = {\n",
        "    '2':  { 'IQUV': tstobj.get_params_as_dict(vis='J1302-12fields.ms', selectdata=True, field='', spw='2', timerange='', uvrange='<12km', antenna='', scan='', observation='', intent='OBSERVE_TARGET#UNSPECIFIED', datacolumn='corrected', imagename='J1302_iter2_2_IQUV', imsize=4000, cell='0.6arcsec', phasecenter='13:03:13.874 -10.51.16.73', stokes='IQUV', projection='SIN', startmodel='', specmode='mfs', reffreq='2.028GHz', nchan=-1, start='', width='', outframe='LSRK', veltype='radio', restfreq=[], interpolation='linear', perchanweightdensity=True, gridder='mosaic', facets=1, psfphasecenter='', chanchunks=1, wprojplanes=1, vptable='', mosweight=False, aterm=True, psterm=False, wbawp=True, conjbeams=False, cfcache='', usepointing=False, computepastep=360.0, rotatepastep=5.0, pointingoffsetsigdev=[], pblimit=0.1, normtype='flatnoise', deconvolver='mtmfs', scales=[0], nterms=1, smallscalebias=0.4, restoration=True, restoringbeam=[], pbcor=False, outlierfile='', weighting='briggs', robust=1.0, noise='1.0Jy', npixels=0, uvtaper=[''], niter=0, gain=0.1, threshold=0.0, nsigma=2.0, cycleniter=500, cyclefactor=3.0, minpsffraction=0.05, maxpsffraction=0.8, interactive=False, usemask='user', mask='', pbmask=0.0, sidelobethreshold=3.0, noisethreshold=5.0, lownoisethreshold=1.5, negativethreshold=0.0, smoothfactor=1.0, minbeamfrac=0.3, cutthreshold=0.01, growiterations=75, dogrowprune=True, minpercentchange=-1.0, verbose=False, fastnoise=True, restart=True, savemodel='none', calcres=True, calcpsf=True, parallel=False) },\n",
        "    '8':  { 'IQUV': tstobj.get_params_as_dict(vis='J1302-12fields.ms', selectdata=True, field='', spw='8', timerange='', uvrange='<12km', antenna='', scan='', observation='', intent='OBSERVE_TARGET#UNSPECIFIED', datacolumn='corrected', imagename='J1302_iter2_8_IQUV', imsize=4000, cell='0.6arcsec', phasecenter='13:03:13.874 -10.51.16.73', stokes='IQUV', projection='SIN', startmodel='', specmode='mfs', reffreq='2.796GHz', nchan=-1, start='', width='', outframe='LSRK', veltype='radio', restfreq=[], interpolation='linear', perchanweightdensity=True, gridder='mosaic', facets=1, psfphasecenter='', chanchunks=1, wprojplanes=1, vptable='', mosweight=False, aterm=True, psterm=False, wbawp=True, conjbeams=False, cfcache='', usepointing=False, computepastep=360.0, rotatepastep=5.0, pointingoffsetsigdev=[], pblimit=0.1, normtype='flatnoise', deconvolver='mtmfs', scales=[0], nterms=1, smallscalebias=0.4, restoration=True, restoringbeam=[], pbcor=False, outlierfile='', weighting='briggs', robust=1.0, noise='1.0Jy', npixels=0, uvtaper=[''], niter=0, gain=0.1, threshold=0.0, nsigma=2.0, cycleniter=500, cyclefactor=3.0, minpsffraction=0.05, maxpsffraction=0.8, interactive=False, usemask='user', mask='', pbmask=0.0, sidelobethreshold=3.0, noisethreshold=5.0, lownoisethreshold=1.5, negativethreshold=0.0, smoothfactor=1.0, minbeamfrac=0.3, cutthreshold=0.01, growiterations=75, dogrowprune=True, minpercentchange=-1.0, verbose=False, fastnoise=True, restart=True, savemodel='none', calcres=True, calcpsf=True, parallel=False) },\n",
        "    '14': { 'IQUV': tstobj.get_params_as_dict(vis='J1302-12fields.ms', selectdata=True, field='', spw='14', timerange='', uvrange='<12km', antenna='', scan='', observation='', intent='OBSERVE_TARGET#UNSPECIFIED', datacolumn='corrected', imagename='J1302_iter2_14_IQUV', imsize=4000, cell='0.6arcsec', phasecenter='13:03:13.874 -10.51.16.73', stokes='IQUV', projection='SIN', startmodel='', specmode='mfs', reffreq='3.564GHz', nchan=-1, start='', width='', outframe='LSRK', veltype='radio', restfreq=[], interpolation='linear', perchanweightdensity=True, gridder='mosaic', facets=1, psfphasecenter='', chanchunks=1, wprojplanes=1, vptable='', mosweight=False, aterm=True, psterm=False, wbawp=True, conjbeams=False, cfcache='', usepointing=False, computepastep=360.0, rotatepastep=5.0, pointingoffsetsigdev=[], pblimit=0.1, normtype='flatnoise', deconvolver='mtmfs', scales=[0], nterms=1, smallscalebias=0.4, restoration=True, restoringbeam=[], pbcor=False, outlierfile='', weighting='briggs', robust=1.0, noise='1.0Jy', npixels=0, uvtaper=[''], niter=0, gain=0.1, threshold=0.0, nsigma=2.0, cycleniter=500, cyclefactor=3.0, minpsffraction=0.05, maxpsffraction=0.8, interactive=False, usemask='user', mask='', pbmask=0.0, sidelobethreshold=3.0, noisethreshold=5.0, lownoisethreshold=1.5, negativethreshold=0.0, smoothfactor=1.0, minbeamfrac=0.3, cutthreshold=0.01, growiterations=75, dogrowprune=True, minpercentchange=-1.0, verbose=False, fastnoise=True, restart=True, savemodel='none', calcres=True, calcpsf=True, parallel=False) },\n",
        "}\n",
        "script_pars_vals_1 = {\n",
        "    '2':  { 'IQUV': tstobj.get_params_as_dict(vis='J1302-12fields.ms', selectdata=True, field='', spw='2', timerange='', uvrange='<12km', antenna='', scan='', observation='', intent='OBSERVE_TARGET#UNSPECIFIED', datacolumn='corrected', imagename='J1302_iter2_2_IQUV', imsize=4000, cell='0.6arcsec', phasecenter='13:03:13.874 -10.51.16.73', stokes='IQUV', projection='SIN', startmodel='', specmode='mfs', reffreq='2.028GHz', nchan=-1, start='', width='', outframe='LSRK', veltype='radio', restfreq=[], interpolation='linear', perchanweightdensity=True, gridder='mosaic', facets=1, psfphasecenter='', chanchunks=1, wprojplanes=1, vptable='', mosweight=False, aterm=True, psterm=False, wbawp=True, conjbeams=False, cfcache='', usepointing=False, computepastep=360.0, rotatepastep=5.0, pointingoffsetsigdev=[], pblimit=0.1, normtype='flatnoise', deconvolver='mtmfs', scales=[0, 5, 12], nterms=1, smallscalebias=0.4, restoration=True, restoringbeam=[], pbcor=False, outlierfile='', weighting='briggs', robust=1.0, noise='1.0Jy', npixels=0, uvtaper=[''], niter=20000, gain=0.1, threshold=0.0, nsigma=3.0, cycleniter=500, cyclefactor=3.0, minpsffraction=0.05, maxpsffraction=0.8, interactive=False, usemask='user', mask='QLcatmask.mask', pbmask=0.0, sidelobethreshold=3.0, noisethreshold=5.0, lownoisethreshold=1.5, negativethreshold=0.0, smoothfactor=1.0, minbeamfrac=0.3, cutthreshold=0.01, growiterations=75, dogrowprune=True, minpercentchange=-1.0, verbose=False, fastnoise=True, restart=True, savemodel='none', calcres=False, calcpsf=False, parallel=False) },\n",
        "    '8':  { 'IQUV': tstobj.get_params_as_dict(vis='J1302-12fields.ms', selectdata=True, field='', spw='8', timerange='', uvrange='<12km', antenna='', scan='', observation='', intent='OBSERVE_TARGET#UNSPECIFIED', datacolumn='corrected', imagename='J1302_iter2_8_IQUV', imsize=4000, cell='0.6arcsec', phasecenter='13:03:13.874 -10.51.16.73', stokes='IQUV', projection='SIN', startmodel='', specmode='mfs', reffreq='2.796GHz', nchan=-1, start='', width='', outframe='LSRK', veltype='radio', restfreq=[], interpolation='linear', perchanweightdensity=True, gridder='mosaic', facets=1, psfphasecenter='', chanchunks=1, wprojplanes=1, vptable='', mosweight=False, aterm=True, psterm=False, wbawp=True, conjbeams=False, cfcache='', usepointing=False, computepastep=360.0, rotatepastep=5.0, pointingoffsetsigdev=[], pblimit=0.1, normtype='flatnoise', deconvolver='mtmfs', scales=[0, 5, 12], nterms=1, smallscalebias=0.4, restoration=True, restoringbeam=[], pbcor=False, outlierfile='', weighting='briggs', robust=1.0, noise='1.0Jy', npixels=0, uvtaper=[''], niter=20000, gain=0.1, threshold=0.0, nsigma=3.0, cycleniter=500, cyclefactor=3.0, minpsffraction=0.05, maxpsffraction=0.8, interactive=False, usemask='user', mask='QLcatmask.mask', pbmask=0.0, sidelobethreshold=3.0, noisethreshold=5.0, lownoisethreshold=1.5, negativethreshold=0.0, smoothfactor=1.0, minbeamfrac=0.3, cutthreshold=0.01, growiterations=75, dogrowprune=True, minpercentchange=-1.0, verbose=False, fastnoise=True, restart=True, savemodel='none', calcres=False, calcpsf=False, parallel=False) },\n",
        "    '14': { 'IQUV': tstobj.get_params_as_dict(vis='J1302-12fields.ms', selectdata=True, field='', spw='14', timerange='', uvrange='<12km', antenna='', scan='', observation='', intent='OBSERVE_TARGET#UNSPECIFIED', datacolumn='corrected', imagename='J1302_iter2_14_IQUV', imsize=4000, cell='0.6arcsec', phasecenter='13:03:13.874 -10.51.16.73', stokes='IQUV', projection='SIN', startmodel='', specmode='mfs', reffreq='3.564GHz', nchan=-1, start='', width='', outframe='LSRK', veltype='radio', restfreq=[], interpolation='linear', perchanweightdensity=True, gridder='mosaic', facets=1, psfphasecenter='', chanchunks=1, wprojplanes=1, vptable='', mosweight=False, aterm=True, psterm=False, wbawp=True, conjbeams=False, cfcache='', usepointing=False, computepastep=360.0, rotatepastep=5.0, pointingoffsetsigdev=[], pblimit=0.1, normtype='flatnoise', deconvolver='mtmfs', scales=[0, 5, 12], nterms=1, smallscalebias=0.4, restoration=True, restoringbeam=[], pbcor=False, outlierfile='', weighting='briggs', robust=1.0, noise='1.0Jy', npixels=0, uvtaper=[''], niter=20000, gain=0.1, threshold=0.0, nsigma=3.0, cycleniter=500, cyclefactor=3.0, minpsffraction=0.05, maxpsffraction=0.8, interactive=False, usemask='user', mask='QLcatmask.mask', pbmask=0.0, sidelobethreshold=3.0, noisethreshold=5.0, lownoisethreshold=1.5, negativethreshold=0.0, smoothfactor=1.0, minbeamfrac=0.3, cutthreshold=0.01, growiterations=75, dogrowprune=True, minpercentchange=-1.0, verbose=False, fastnoise=True, restart=True, savemodel='none', calcres=False, calcpsf=False, parallel=False) },\n",
        "}\n",
        "script_pars_vals_2 = {\n",
        "    '2':  { 'IQUV': tstobj.get_params_as_dict(vis='J1302-12fields.ms', selectdata=True, field='', spw='2', timerange='', uvrange='<12km', antenna='', scan='', observation='', intent='OBSERVE_TARGET#UNSPECIFIED', datacolumn='corrected', imagename='J1302_iter2_2_IQUV', imsize=4000, cell='0.6arcsec', phasecenter='13:03:13.874 -10.51.16.73', stokes='IQUV', projection='SIN', startmodel='', specmode='mfs', reffreq='2.028GHz', nchan=-1, start='', width='', outframe='LSRK', veltype='radio', restfreq=[], interpolation='linear', perchanweightdensity=True, gridder='mosaic', facets=1, psfphasecenter='', chanchunks=1, wprojplanes=1, vptable='', mosweight=False, aterm=True, psterm=False, wbawp=True, conjbeams=False, cfcache='', usepointing=False, computepastep=360.0, rotatepastep=5.0, pointingoffsetsigdev=[], pblimit=0.1, normtype='flatnoise', deconvolver='mtmfs', scales=[0, 5, 12], nterms=1, smallscalebias=0.4, restoration=True, restoringbeam=[], pbcor=False, outlierfile='', weighting='briggs', robust=1.0, noise='1.0Jy', npixels=0, uvtaper=[''], niter=20000, gain=0.1, threshold=0.0, nsigma=3.0, cycleniter=500, cyclefactor=3.0, minpsffraction=0.05, maxpsffraction=0.8, interactive=False, usemask='user', mask='combined.mask', pbmask=0.0, sidelobethreshold=3.0, noisethreshold=5.0, lownoisethreshold=1.5, negativethreshold=0.0, smoothfactor=1.0, minbeamfrac=0.3, cutthreshold=0.01, growiterations=75, dogrowprune=True, minpercentchange=-1.0, verbose=False, fastnoise=True, restart=True, savemodel='none', calcres=False, calcpsf=False, parallel=False) },\n",
        "    '8':  { 'IQUV': tstobj.get_params_as_dict(vis='J1302-12fields.ms', selectdata=True, field='', spw='8', timerange='', uvrange='<12km', antenna='', scan='', observation='', intent='OBSERVE_TARGET#UNSPECIFIED', datacolumn='corrected', imagename='J1302_iter2_8_IQUV', imsize=4000, cell='0.6arcsec', phasecenter='13:03:13.874 -10.51.16.73', stokes='IQUV', projection='SIN', startmodel='', specmode='mfs', reffreq='2.796GHz', nchan=-1, start='', width='', outframe='LSRK', veltype='radio', restfreq=[], interpolation='linear', perchanweightdensity=True, gridder='mosaic', facets=1, psfphasecenter='', chanchunks=1, wprojplanes=1, vptable='', mosweight=False, aterm=True, psterm=False, wbawp=True, conjbeams=False, cfcache='', usepointing=False, computepastep=360.0, rotatepastep=5.0, pointingoffsetsigdev=[], pblimit=0.1, normtype='flatnoise', deconvolver='mtmfs', scales=[0, 5, 12], nterms=1, smallscalebias=0.4, restoration=True, restoringbeam=[], pbcor=False, outlierfile='', weighting='briggs', robust=1.0, noise='1.0Jy', npixels=0, uvtaper=[''], niter=20000, gain=0.1, threshold=0.0, nsigma=3.0, cycleniter=500, cyclefactor=3.0, minpsffraction=0.05, maxpsffraction=0.8, interactive=False, usemask='user', mask='combined.mask', pbmask=0.0, sidelobethreshold=3.0, noisethreshold=5.0, lownoisethreshold=1.5, negativethreshold=0.0, smoothfactor=1.0, minbeamfrac=0.3, cutthreshold=0.01, growiterations=75, dogrowprune=True, minpercentchange=-1.0, verbose=False, fastnoise=True, restart=True, savemodel='none', calcres=False, calcpsf=False, parallel=False) },\n",
        "    '14': { 'IQUV': tstobj.get_params_as_dict(vis='J1302-12fields.ms', selectdata=True, field='', spw='14', timerange='', uvrange='<12km', antenna='', scan='', observation='', intent='OBSERVE_TARGET#UNSPECIFIED', datacolumn='corrected', imagename='J1302_iter2_14_IQUV', imsize=4000, cell='0.6arcsec', phasecenter='13:03:13.874 -10.51.16.73', stokes='IQUV', projection='SIN', startmodel='', specmode='mfs', reffreq='3.564GHz', nchan=-1, start='', width='', outframe='LSRK', veltype='radio', restfreq=[], interpolation='linear', perchanweightdensity=True, gridder='mosaic', facets=1, psfphasecenter='', chanchunks=1, wprojplanes=1, vptable='', mosweight=False, aterm=True, psterm=False, wbawp=True, conjbeams=False, cfcache='', usepointing=False, computepastep=360.0, rotatepastep=5.0, pointingoffsetsigdev=[], pblimit=0.1, normtype='flatnoise', deconvolver='mtmfs', scales=[0, 5, 12], nterms=1, smallscalebias=0.4, restoration=True, restoringbeam=[], pbcor=False, outlierfile='', weighting='briggs', robust=1.0, noise='1.0Jy', npixels=0, uvtaper=[''], niter=20000, gain=0.1, threshold=0.0, nsigma=3.0, cycleniter=500, cyclefactor=3.0, minpsffraction=0.05, maxpsffraction=0.8, interactive=False, usemask='user', mask='combined.mask', pbmask=0.0, sidelobethreshold=3.0, noisethreshold=5.0, lownoisethreshold=1.5, negativethreshold=0.0, smoothfactor=1.0, minbeamfrac=0.3, cutthreshold=0.01, growiterations=75, dogrowprune=True, minpercentchange=-1.0, verbose=False, fastnoise=True, restart=True, savemodel='none', calcres=False, calcpsf=False, parallel=False) },\n",
        "}\n",
        "script_pars_vals_3 = {\n",
        "    '2':  { 'IQUV': tstobj.get_params_as_dict(vis='J1302-12fields.ms', selectdata=True, field='', spw='2', timerange='', uvrange='<12km', antenna='', scan='', observation='', intent='OBSERVE_TARGET#UNSPECIFIED', datacolumn='corrected', imagename='J1302_iter2_2_IQUV', imsize=4000, cell='0.6arcsec', phasecenter='13:03:13.874 -10.51.16.73', stokes='IQUV', projection='SIN', startmodel='', specmode='mfs', reffreq='2.028GHz', nchan=-1, start='', width='', outframe='LSRK', veltype='radio', restfreq=[], interpolation='linear', perchanweightdensity=True, gridder='mosaic', facets=1, psfphasecenter='', chanchunks=1, wprojplanes=1, vptable='', mosweight=False, aterm=True, psterm=False, wbawp=True, conjbeams=False, cfcache='', usepointing=False, computepastep=360.0, rotatepastep=5.0, pointingoffsetsigdev=[], pblimit=0.1, normtype='flatnoise', deconvolver='mtmfs', scales=[0, 5, 12], nterms=1, smallscalebias=0.4, restoration=True, restoringbeam=[], pbcor=False, outlierfile='', weighting='briggs', robust=1.0, noise='1.0Jy', npixels=0, uvtaper=[''], niter=20000, gain=0.1, threshold=0.0, nsigma=4.5, cycleniter=100, cyclefactor=3.0, minpsffraction=0.05, maxpsffraction=0.8, interactive=False, usemask='pb', mask='', pbmask=0.4, sidelobethreshold=3.0, noisethreshold=5.0, lownoisethreshold=1.5, negativethreshold=0.0, smoothfactor=1.0, minbeamfrac=0.3, cutthreshold=0.01, growiterations=75, dogrowprune=True, minpercentchange=-1.0, verbose=False, fastnoise=True, restart=True, savemodel='none', calcres=False, calcpsf=False, parallel=False) },\n",
        "    '8':  { 'IQUV': tstobj.get_params_as_dict(vis='J1302-12fields.ms', selectdata=True, field='', spw='8', timerange='', uvrange='<12km', antenna='', scan='', observation='', intent='OBSERVE_TARGET#UNSPECIFIED', datacolumn='corrected', imagename='J1302_iter2_8_IQUV', imsize=4000, cell='0.6arcsec', phasecenter='13:03:13.874 -10.51.16.73', stokes='IQUV', projection='SIN', startmodel='', specmode='mfs', reffreq='2.796GHz', nchan=-1, start='', width='', outframe='LSRK', veltype='radio', restfreq=[], interpolation='linear', perchanweightdensity=True, gridder='mosaic', facets=1, psfphasecenter='', chanchunks=1, wprojplanes=1, vptable='', mosweight=False, aterm=True, psterm=False, wbawp=True, conjbeams=False, cfcache='', usepointing=False, computepastep=360.0, rotatepastep=5.0, pointingoffsetsigdev=[], pblimit=0.1, normtype='flatnoise', deconvolver='mtmfs', scales=[0, 5, 12], nterms=1, smallscalebias=0.4, restoration=True, restoringbeam=[], pbcor=False, outlierfile='', weighting='briggs', robust=1.0, noise='1.0Jy', npixels=0, uvtaper=[''], niter=20000, gain=0.1, threshold=0.0, nsigma=4.5, cycleniter=100, cyclefactor=3.0, minpsffraction=0.05, maxpsffraction=0.8, interactive=False, usemask='pb', mask='', pbmask=0.4, sidelobethreshold=3.0, noisethreshold=5.0, lownoisethreshold=1.5, negativethreshold=0.0, smoothfactor=1.0, minbeamfrac=0.3, cutthreshold=0.01, growiterations=75, dogrowprune=True, minpercentchange=-1.0, verbose=False, fastnoise=True, restart=True, savemodel='none', calcres=False, calcpsf=False, parallel=False) },\n",
        "    '14': { 'IQUV': tstobj.get_params_as_dict(vis='J1302-12fields.ms', selectdata=True, field='', spw='14', timerange='', uvrange='<12km', antenna='', scan='', observation='', intent='OBSERVE_TARGET#UNSPECIFIED', datacolumn='corrected', imagename='J1302_iter2_14_IQUV', imsize=4000, cell='0.6arcsec', phasecenter='13:03:13.874 -10.51.16.73', stokes='IQUV', projection='SIN', startmodel='', specmode='mfs', reffreq='3.564GHz', nchan=-1, start='', width='', outframe='LSRK', veltype='radio', restfreq=[], interpolation='linear', perchanweightdensity=True, gridder='mosaic', facets=1, psfphasecenter='', chanchunks=1, wprojplanes=1, vptable='', mosweight=False, aterm=True, psterm=False, wbawp=True, conjbeams=False, cfcache='', usepointing=False, computepastep=360.0, rotatepastep=5.0, pointingoffsetsigdev=[], pblimit=0.1, normtype='flatnoise', deconvolver='mtmfs', scales=[0, 5, 12], nterms=1, smallscalebias=0.4, restoration=True, restoringbeam=[], pbcor=False, outlierfile='', weighting='briggs', robust=1.0, noise='1.0Jy', npixels=0, uvtaper=[''], niter=20000, gain=0.1, threshold=0.0, nsigma=4.5, cycleniter=100, cyclefactor=3.0, minpsffraction=0.05, maxpsffraction=0.8, interactive=False, usemask='pb', mask='', pbmask=0.4, sidelobethreshold=3.0, noisethreshold=5.0, lownoisethreshold=1.5, negativethreshold=0.0, smoothfactor=1.0, minbeamfrac=0.3, cutthreshold=0.01, growiterations=75, dogrowprune=True, minpercentchange=-1.0, verbose=False, fastnoise=True, restart=True, savemodel='none', calcres=False, calcpsf=False, parallel=False) },\n",
        "}\n",
        "\n",
        "for spw in spws:\n",
        "   for stokes in stokesParams:\n",
        "      # initialize iter2, no cleaning\n",
        "      image_iter='iter2'\n",
        "      imagename = iname(image_iter, spw, stokes)\n",
        "      run_tclean( imagename=imagename, datacolumn='corrected', niter=0, spw=spw,\n",
        "                  stokes=stokes, reffreq=refFreqDict[spw], compare_tclean_pars=script_pars_vals_0[spw][stokes] )\n",
        "\n",
        "      # # resume iter2 with QL mask\n",
        "      run_tclean( imagename=imagename, datacolumn='corrected', scales=[0,5,12], nsigma=3.0, niter=20000, cycleniter=500,   \n",
        "                  mask=\"QLcatmask.mask\", calcres=False, calcpsf=False, spw=spw,\n",
        "                  stokes=stokes, reffreq=refFreqDict[spw], compare_tclean_pars=script_pars_vals_1[spw][stokes] )\n",
        "\n",
        "      # resume iter2 with combined mask\n",
        "      os.system('rm -rf *.workdirectory')\n",
        "      os.system('rm -rf *iter2*.mask')\n",
        "      run_tclean( imagename=imagename, datacolumn='corrected', scales=[0,5,12], nsigma=3.0, niter=20000, cycleniter=500,\n",
        "                  mask=\"combined.mask\", calcres=False, calcpsf=False, spw=spw,\n",
        "                  stokes=stokes, reffreq=refFreqDict[spw], compare_tclean_pars=script_pars_vals_2[spw][stokes])\n",
        "\n",
        "      # os.system('rm -rf iter2*.mask')\n",
        "      run_tclean( imagename=imagename, datacolumn='corrected', scales=[0,5,12], nsigma=4.5, niter=20000, cycleniter=100,\n",
        "                  mask=\"\", calcres=False, calcpsf=False, usemask='pb', pbmask=0.4, spw=spw,\n",
        "                  stokes=stokes, reffreq=refFreqDict[spw], compare_tclean_pars=script_pars_vals_3[spw][stokes] )\n",
        "\n",
        "      tt0statsI=imstat(imagename=imagename+'.image.tt0',box='2000,2000,2000,2000',stokes='I')\n",
        "      tt0statsQ=imstat(imagename=imagename+'.image.tt0',box='2000,2000,2000,2000',stokes='Q')\n",
        "      tt0statsU=imstat(imagename=imagename+'.image.tt0',box='2000,2000,2000,2000',stokes='U')\n",
        "      tt0statsV=imstat(imagename=imagename+'.image.tt0',box='2000,2000,2000,2000',stokes='V')\n",
        "      spwstats[spw]['IQUV']=np.array([tt0statsI['max'],tt0statsQ['max'],tt0statsU['max'],tt0statsV['max']])\n",
        "      rmstt0statsI=imstat(imagename=imagename+'.residual.tt0',stokes='I')\n",
        "      rmstt0statsQ=imstat(imagename=imagename+'.residual.tt0',stokes='Q')\n",
        "      rmstt0statsU=imstat(imagename=imagename+'.residual.tt0',stokes='U')\n",
        "      rmstt0statsV=imstat(imagename=imagename+'.residual.tt0',stokes='V')\n",
        "      spwstats[spw]['IQUV']=np.array([tt0statsI['max'],tt0statsQ['max'],tt0statsU['max'],tt0statsV['max']])\n",
        "      spwstats[spw]['rmsIQUV']=np.array([rmstt0statsI['rms'],rmstt0statsQ['rms'],rmstt0statsU['rms'],rmstt0statsV['rms']])\n",
        "      spwstats[spw]['SNR']=((spwstats[spw]['IQUV']/spwstats[spw]['rmsIQUV'])**2)**0.5\n",
        "\n",
        "      header = imhead(imagename+'.psf.tt0')\n",
        "      beam   = header['perplanebeams']['beams']['*0']['*0']\n",
        "      beamstats = np.array([ beam['major']['value'], beam['minor']['value'], beam['positionangle']['value'] ])\n",
        "      spwstats[spw]['beam'] = beamstats\n",
        "\n",
        "# %% Run tclean [test_j1302_mosaic_cube] end       @"
      ],
      "metadata": {
        "id": "lLUAnADUg5hi"
      },
      "execution_count": null,
      "outputs": []
    },
    {
      "cell_type": "markdown",
      "source": [
        "Some math stuff having to do with getting values to compare to expected values..."
      ],
      "metadata": {
        "id": "uwJyzrlDzsoB"
      }
    },
    {
      "cell_type": "code",
      "source": [
        "# %% Math stuff [test_j1302_mosaic_cube] start   @\n",
        "\n",
        "spwlist=list(spwstats.keys())\n",
        "nspws=len(spwlist)\n",
        "freqs=np.zeros(nspws)\n",
        "fluxes=np.zeros(nspws)\n",
        "for i in range(nspws):\n",
        "   freqs[i]=spwstats[spwlist[i]]['freq']\n",
        "   fluxes[i]=spwstats[spwlist[i]]['IQUV'][0]\n",
        "\n",
        "logfreqs=np.log10(freqs)\n",
        "logfluxes=np.log10(fluxes)\n",
        "\n",
        "from scipy.optimize import curve_fit\n",
        "\n",
        "def func(x, a, b):\n",
        "   nu_0=3.0\n",
        "   return a*(x-np.log10(nu_0))+b\n",
        "\n",
        "popt, pcov = curve_fit(func, logfreqs, logfluxes)\n",
        "perr = np.sqrt(np.diag(pcov))\n",
        "\n",
        "# %% Math stuff [test_j1302_mosaic_cube] end       @"
      ],
      "metadata": {
        "id": "2-COGMWTztNO"
      },
      "execution_count": null,
      "outputs": []
    },
    {
      "cell_type": "markdown",
      "source": [
        "Check that this version of CASA gets results within the expected tollerances.\n",
        "What's good enough?\n",
        "\n",
        "*   flux density: 5% goal, 10% ok\n",
        "*   spectral index: 0.1 goal, 0.2 ok\n",
        "\n",
        "From https://drive.google.com/file/d/1zw6UeDEoXoxM05oFg3rir0hrCMEJMxkH/view and https://open-confluence.nrao.edu/display/VLASS/Updated+VLASS+survey+science+requirements+and+parameters"
      ],
      "metadata": {
        "id": "UOiyl5Snh3NS"
      }
    },
    {
      "cell_type": "code",
      "source": [
        "# %% Compare Expected Values [test_j1302_mosaic_cube] start @\n",
        "\n",
        "# (l) Ensure intermediate products exist, pbcor images, RMS image (made by imdev), and cutouts (.subim) from imsubimage\n",
        "# N/A: no pbcore, rms, or subim images are created for this test\n",
        "\n",
        "# (g) Fit F_nu0 and Alpha from three cube planes and compare: 6.1.3, on-axis\n",
        "# compare to alpha (ground truth), and 6.1.3 (fitted for spws 2, 8, 14 from mosaic gridder in CASA 6.1.3)\n",
        "alpha = popt[0]\n",
        "f_nu0 = 10**popt[1]\n",
        "currentstats      = np.squeeze(np.array([f_nu0,alpha])) # [flux density, alpha]\n",
        "onaxis_stats      = np.array([0.3337,-0.0476])\n",
        "success1, report1 = tstobj.check_fracdiff(curr_stats, onaxis_stats, valname=\"Frac Diff F_nu, alpha (on-axis)\")\n",
        "casa613_stats     = np.array([0.3127,0.04134])\n",
        "success2, report2 = tstobj.check_fracdiff(curr_stats, casa613_stats, valname=\"Frac Diff F_nu, alpha (6.1.3 image)\")\n",
        "\n",
        "spwstats_613={\n",
        "  '2': {'IQUV': np.array([[ 0.3024486 ],\n",
        "         [-0.00169682],\n",
        "         [-0.00040808],\n",
        "         [-0.00172231]]),\n",
        "  'beam': np.array([4.63033438, 3.7626121 , 8.42547607]),\n",
        "  'rmsIQUV': np.array([[0.00058096],\n",
        "         [0.00053226],\n",
        "         [0.00052702],\n",
        "         [0.00055715]]),\n",
        "  'SNR': np.array([[520.60473159],\n",
        "         [  3.18793882],\n",
        "         [  0.77430771],\n",
        "         [  3.09130732]]),\n",
        "  'freq': 2.028},\n",
        "  '8': {'IQUV': np.array([[ 3.24606597e-01],\n",
        "         [-1.02521779e-04],\n",
        "         [-2.74724560e-04],\n",
        "         [-9.82215162e-04]]),\n",
        "  'beam': np.array([ 3.31582212,  2.81106067, 12.23698997]),\n",
        "  'rmsIQUV': np.array([[0.00060875],\n",
        "         [0.00056557],\n",
        "         [0.00056437],\n",
        "         [0.00058742]]),\n",
        "  'SNR': np.array([[5.33232366e+02],\n",
        "         [1.81271795e-01],\n",
        "         [4.86780379e-01],\n",
        "         [1.67209226e+00]]),\n",
        "  'freq': 2.796},\n",
        "  '14': {'IQUV': np.array([[ 0.30785725],\n",
        "         [ 0.00112553],\n",
        "         [-0.00233958],\n",
        "         [-0.00072553]]),\n",
        "  'beam': np.array([2.06845379, 1.62075114, 8.15380859]),\n",
        "  'rmsIQUV': np.array([[0.00120004],\n",
        "         [0.00096465],\n",
        "         [0.00095693],\n",
        "         [0.00094171]]),\n",
        "  'SNR': np.array([[256.53982683],\n",
        "         [  1.16677654],\n",
        "         [  2.44488894],\n",
        "         [  0.77044591]]),\n",
        "  'freq': 3.564}\n",
        "}\n",
        "\n",
        "spwstats_onaxis={\n",
        "  '2': {'IQUV': np.array([[ 3.09755385e-01],\n",
        "        [-1.39351614e-04],\n",
        "        [-1.01510414e-04],\n",
        "        [ 3.48565959e-06]]),\n",
        "  'beam': np.array([ 4.39902544,  2.97761726, -1.9803896 ]),\n",
        "  'rmsIQUV': np.array([[9.06101077e-05],\n",
        "        [6.18512027e-05],\n",
        "        [6.08855185e-05],\n",
        "        [6.16381383e-05]]),\n",
        "  'SNR': np.array([[3.41855222e+03],\n",
        "        [2.25301381e+00],\n",
        "        [1.66723411e+00],\n",
        "        [5.65503710e-02]]),\n",
        "  'freq': 2.028},\n",
        "  '8': {'IQUV': np.array([[ 3.33031625e-01],\n",
        "        [-1.70329688e-04],\n",
        "        [-5.54503786e-05],\n",
        "        [ 1.51384829e-05]]),\n",
        "  'beam': np.array([ 3.17962098,  2.23836327, -3.84393311]),\n",
        "  'rmsIQUV': np.array([[6.83661207e-05],\n",
        "        [5.41465193e-05],\n",
        "        [5.37294874e-05],\n",
        "        [5.48078784e-05]]),\n",
        "  'SNR': np.array([[4.87129621e+03],\n",
        "        [3.14571813e+00],\n",
        "        [1.03202880e+00],\n",
        "        [2.76209979e-01]]),\n",
        "  'freq': 2.796},\n",
        "  '14': {'IQUV': np.array([[ 3.26020330e-01],\n",
        "        [-1.19368524e-04],\n",
        "        [ 1.94136555e-05],\n",
        "        [-3.02872763e-06]]),\n",
        "  'beam': np.array([ 2.4293716 ,  1.61365998, -3.72186279]),\n",
        "  'rmsIQUV': np.array([[6.07943859e-05],\n",
        "        [4.44997526e-05],\n",
        "        [4.54793500e-05],\n",
        "        [4.45020873e-05]]),\n",
        "  'SNR': np.array([[5.36267166e+03],\n",
        "        [2.68245365e+00],\n",
        "        [4.26867480e-01],\n",
        "        [6.80581028e-02]]),\n",
        "  'freq': 3.564}\n",
        "}\n",
        "\n",
        "for spw in spws:\n",
        "    # (h) IQUV flux densities of all three spws:              6.1.3\n",
        "    success3, report3 = tstobj.check_fracdiff(spwstats[spw]['IQUV'], spwstats_613[spw]['IQUV'],    valname=f\"Stokes Comparison (spw {spw}), Frac Diff IQUV vs 6.1.3\")\n",
        "    # (i) IQUV flux densities of all three spws:              on-axis measurements\n",
        "    success4, report4 = tstobj.check_fracdiff(spwstats[spw]['IQUV'], spwstats_onaxis[spw]['IQUV'], valname=f\"Stokes Comparison (spw {spw}), Frac Diff IQUV vs on-axis\")\n",
        "    # (j) Beam of all three spws:                             6.1.3\n",
        "    success5, report5 = tstobj.check_fracdiff(spwstats[spw]['beam'], spwstats_613[spw]['beam'],    valname=f\"Stokes Comparison (spw {spw}), Frac Diff Beam vs 6.1.3\")\n",
        "\n",
        "report  = \"\".join([report1, report2, report3, report4, report5])\n",
        "success = success1 and success2 and success3 and success4 and success5 and th.check_final(report)\n",
        "casalog.post(f\"{report}\\nSuccess: {success}\", \"INFO\")\n",
        "\n",
        "# %% Compare Expected Values [test_j1302_mosaic_cube] end @"
      ],
      "metadata": {
        "id": "JDFK5mv7g9_y"
      },
      "execution_count": null,
      "outputs": []
    },
    {
      "cell_type": "markdown",
      "source": [
        "Has anything in the notebook changed that needs to be synced to the unittest or vice versa? (eg have the expected values changed?)\n",
        "\n",
        "Run the script \"sync_notebooks_with_unittests.py\" to update the values:\n",
        "\n",
        "1.   Download this .ipynb\n",
        "2.   Run \"python3 sync_notebooks_with_unittests.py --tonb\" or \"python3 sync_notebooks_with_unittests.py --tout\", as appropriate.\n",
        "3.   Commit\n",
        "4.   Update this notebook in google colab (or whatever)"
      ],
      "metadata": {
        "id": "O9E_o8Txibjz"
      }
    }
  ]
}