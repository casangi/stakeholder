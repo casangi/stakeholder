{
  "nbformat": 4,
  "nbformat_minor": 0,
  "metadata": {
    "colab": {
      "name": "test_j1302_ql.ipynb",
      "provenance": [],
      "collapsed_sections": []
    },
    "kernelspec": {
      "name": "python3",
      "display_name": "Python 3"
    },
    "language_info": {
      "name": "python"
    }
  },
  "cells": [
    {
      "cell_type": "markdown",
      "source": [
        "Set up the notebook"
      ],
      "metadata": {
        "id": "FVRdSBw-hLj3"
      }
    },
    {
      "cell_type": "code",
      "execution_count": null,
      "metadata": {
        "id": "CwiCaqLzfYEA"
      },
      "outputs": [],
      "source": [
        "# imports and whatever...."
      ]
    },
    {
      "cell_type": "markdown",
      "source": [
        "Set local variables\n",
        "In the unittest, the way these are set will be different."
      ],
      "metadata": {
        "id": "GI-fkZghhQwT"
      }
    },
    {
      "cell_type": "code",
      "source": [
        "tstobj = test_j1302()\n",
        "setattr(tstobj, _testMethodName, 'test_j1302_ql')\n",
        "# tstobj.setup() # is this necessary?\n"
      ],
      "metadata": {
        "id": "kIUbFEkNgaIH"
      },
      "execution_count": null,
      "outputs": []
    },
    {
      "cell_type": "markdown",
      "source": [
        "More local variables...\n",
        "These variables are common to both the notebook and the unittest."
      ],
      "metadata": {
        "id": "Y0CFbttVhePk"
      }
    },
    {
      "cell_type": "code",
      "source": [
        "# %% Set local vars [test_j1302_ql] start @\n",
        "\n",
        "#previous steps in the pipeline would have created mask files from catalogs and images that were created as an \n",
        "#intermediate pipeline step.\n",
        "tstobj.data_path_dir  = 'J1302/Stakeholder-test-mosaic-data'\n",
        "img0 = 'VLASS1.2.ql.T08t20.J1302.10.2048.v1.I.iter0'\n",
        "img1 = 'VLASS1.2.ql.T08t20.J1302.10.2048.v1.I.iter1'\n",
        "tstobj.prepData()\n",
        "rundir = \"/users/bbean/dev/CAS-12427/src/casalith/build-casalith/work/linux/test_vlass_j1302_QL_unittest\"\n",
        "# os.system(f\"mv {rundir}/run_results/VLASS* {rundir}/nosedir/test_vlass_1v2/\")\n",
        "\n",
        "# %% Set local vars [test_j1302_ql] end @\n"
      ],
      "metadata": {
        "id": "TE4ZDil_g0bi"
      },
      "execution_count": null,
      "outputs": []
    },
    {
      "cell_type": "markdown",
      "source": [
        "Run the tclean parts of the test as their own section (slow)."
      ],
      "metadata": {
        "id": "uT-4qpLYhpXa"
      }
    },
    {
      "cell_type": "code",
      "source": [
        "# %% Run tclean [test_j1302_ql] start   @\n",
        "\n",
        "def run_tclean(vis=tstobj.vis, field='',spw='', antenna='', scan='', stokes='I', intent='OBSERVE_TARGET#UNSPECIFIED', datacolumn='data',\n",
        "                imagename=None, niter=None, restoration=None, compare_tclean_pars=None,\n",
        "                phasecenter=tstobj.phasecenter, reffreq='3.0GHz', deconvolver='mtmfs',\n",
        "                cell='1.0arcsec', imsize=7290, gridder='mosaic', restoringbeam='common',\n",
        "                specmode='mfs', nchan=-1, outframe='LSRK', perchanweightdensity=False, \n",
        "                wprojplanes=1, mosweight=False, conjbeams=False, usepointing=False,\n",
        "                rotatepastep=360.0, pblimit=0.2, scales=[0], nterms=2, pbcor=False,\n",
        "                weighting='briggs', robust=1.0, npixels=0, threshold=0.0, nsigma=0,\n",
        "                cycleniter=-1, cyclefactor=1.0, interactive=0, fastnoise=True,\n",
        "                calcres=True, calcpsf=True, savemodel='none', parallel=False):\n",
        "    params = locals()\n",
        "    params = {k:params[k] for k in filter(lambda x: x not in ['tstobj'], params.keys())}\n",
        "    tstobj._run_tclean(**params)\n",
        "\n",
        "script_pars_vals_0 = None#tstobj.get_params_as_dict(vis='J1302-12fields.ms', selectdata=True, field='', spw='', timerange='', uvrange='', antenna='', scan='', observation='', intent='OBSERVE_TARGET#UNSPECIFIED', datacolumn='data', imagename='VLASS1.2.ql.T08t20.J1302.10.2048.v1.I.iter0', imsize=[7290, 7290], cell='1.0arcsec', phasecenter='13:03:13.874 -10.51.16.73', stokes='I', projection='SIN', startmodel='', specmode='mfs', reffreq='3.0GHz', nchan=-1, start='', width='', outframe='LSRK', veltype='radio', restfreq=[], interpolation='linear', perchanweightdensity=False, gridder='mosaic', facets=1, psfphasecenter='', chanchunks=1, wprojplanes=1, vptable='', mosweight=False, aterm=True, psterm=False, wbawp=True, conjbeams=False, cfcache='', usepointing=False, computepastep=360.0, rotatepastep=360.0, pointingoffsetsigdev=[], pblimit=0.2, normtype='flatnoise', deconvolver='mtmfs', scales=[0], nterms=2, smallscalebias=0.0, restoration=False, restoringbeam='common', pbcor=False, outlierfile='', weighting='briggs', robust=1.0, noise='1.0Jy', npixels=0, uvtaper=[], niter=0, gain=0.1, threshold='0.0mJy', nsigma=0.0, cycleniter=-1, cyclefactor=1.0, minpsffraction=0.05, maxpsffraction=0.8, interactive=0, usemask='user', mask='', pbmask=0.0, sidelobethreshold=3.0, noisethreshold=5.0, lownoisethreshold=1.5, negativethreshold=0.0, smoothfactor=1.0, minbeamfrac=0.3, cutthreshold=0.01, growiterations=75, dogrowprune=True, minpercentchange=-1.0, verbose=False, fastnoise=True, restart=True, savemodel='none', calcres=True, calcpsf=True, parallel=False)\n",
        "script_pars_vals_1 = None#tstobj.get_params_as_dict(vis='J1302-12fields.ms', selectdata=True, field='', spw='', timerange='', uvrange='', antenna='', scan='', observation='', intent='OBSERVE_TARGET#UNSPECIFIED', datacolumn='data', imagename='VLASS1.2.ql.T08t20.J1302.10.2048.v1.I.iter1', imsize=[7290, 7290], cell='1.0arcsec', phasecenter='13:03:13.874 -10.51.16.73', stokes='I', projection='SIN', startmodel='', specmode='mfs', reffreq='3.0GHz', nchan=-1, start='', width='', outframe='LSRK', veltype='radio', restfreq=[], interpolation='linear', perchanweightdensity=False, gridder='mosaic', facets=1, psfphasecenter='', chanchunks=1, wprojplanes=1, vptable='', mosweight=False, aterm=True, psterm=False, wbawp=True, conjbeams=False, cfcache='', usepointing=False, computepastep=360.0, rotatepastep=360.0, pointingoffsetsigdev=[], pblimit=0.2, normtype='flatnoise', deconvolver='mtmfs', scales=[0], nterms=2, smallscalebias=0.0, restoration=True, restoringbeam='common', pbcor=False, outlierfile='', weighting='briggs', robust=1.0, noise='1.0Jy', npixels=0, uvtaper=[], niter=20000, gain=0.1, threshold=0.0, nsigma=4.5, cycleniter=500, cyclefactor=2.0, minpsffraction=0.05, maxpsffraction=0.8, interactive=0, usemask='user', mask='', pbmask=0.0, sidelobethreshold=3.0, noisethreshold=5.0, lownoisethreshold=1.5, negativethreshold=0.0, smoothfactor=1.0, minbeamfrac=0.3, cutthreshold=0.01, growiterations=75, dogrowprune=True, minpercentchange=-1.0, verbose=False, fastnoise=True, restart=True, savemodel='none', calcres=False, calcpsf=False, parallel=False)\n",
        "run_tclean(imagename=img0, niter=0,     restoration=False, compare_tclean_pars=script_pars_vals_0)\n",
        "for ext in ['.weight.tt2', '.weight.tt0', '.psf.tt0', '.residual.tt0', '.weight.tt1', '.sumwt.tt2', '.psf.tt1', '.residual.tt1', '.psf.tt2', '.sumwt.tt1', '.model.tt0', '.pb.tt0', '.model.tt1', '.sumwt.tt0']:\n",
        "    shutil.copytree(src=img0+ext, dst=img1+ext)\n",
        "run_tclean(imagename=img1, niter=20000, restoration=True, nsigma=4.5, cycleniter=500, cyclefactor=2.0, calcres=False, calcpsf=False, compare_tclean_pars=script_pars_vals_1)\n",
        "\n",
        "# %% Run tclean [test_j1302_ql] end       @\n"
      ],
      "metadata": {
        "id": "lLUAnADUg5hi"
      },
      "execution_count": null,
      "outputs": []
    },
    {
      "cell_type": "markdown",
      "source": [
        "Image prep. Once these images are prepared then we can start looking at the resultant values."
      ],
      "metadata": {
        "id": "NZ0xdWC7hwwK"
      }
    },
    {
      "cell_type": "code",
      "source": [
        "# %% Prepare Images [test_j1302_ql] start @\n",
        "\n",
        "# hifv_pbcor(pipelinemode=\"automatic\")\n",
        "for fromext,toext in [('.image.tt0','.image.pbcor.tt0'), ('.residual.tt0','.image.residual.pbcor.tt0')]:\n",
        "    impbcor(imagename=img1+fromext, pbimage=img1+'.pb.tt0', outfile=img1+toext, mode='divide', cutoff=-1.0, stretch=False)\n",
        "    tstobj.check_img_exists(img1+toext)\n",
        "\n",
        "# hif_makermsimages(pipelinemode=\"automatic\")\n",
        "imdev(imagename=img1+'.image.pbcor.tt0',\n",
        "      outfile=img1+'.image.pbcor.tt0.rms',\n",
        "      overwrite=True, stretch=False, grid=[10, 10], anchor='ref',\n",
        "      xlength='60arcsec', ylength='60arcsec', interp='cubic', stattype='xmadm',\n",
        "      statalg='chauvenet', zscore=-1, maxiter=-1)\n",
        "tstobj.check_img_exists(img1+'.image.pbcor.tt0.rms')\n",
        "\n",
        "# hif_makecutoutimages(pipelinemode=\"automatic\")\n",
        "for ext in ['.image.tt0', '.residual.tt0', '.image.pbcor.tt0', '.image.pbcor.tt0.rms', '.psf.tt0', '.image.residual.pbcor.tt0', '.pb.tt0']:\n",
        "    imhead(imagename=img1+ext)\n",
        "    imsubimage(imagename=img1+ext, outfile=img1+ext+'.subim', box='1785.0,1785.0,5506.0,5506.0')\n",
        "    tstobj.check_img_exists(img1+ext+'.subim')\n",
        "\n",
        "# %% Prepare Images [test_j1302_ql] end            @\n"
      ],
      "metadata": {
        "id": "1pCFjTs2g74L"
      },
      "execution_count": null,
      "outputs": []
    },
    {
      "cell_type": "markdown",
      "source": [
        "Check that this version of CASA gets results within the expected tollerances.\n",
        "What's good enough?\n",
        "\n",
        "*   flux density: 5% goal, 10% ok\n",
        "*   spectral index: 0.1 goal, 0.2 ok\n",
        "\n",
        "From https://drive.google.com/file/d/1zw6UeDEoXoxM05oFg3rir0hrCMEJMxkH/view and https://open-confluence.nrao.edu/display/VLASS/Updated+VLASS+survey+science+requirements+and+parameters"
      ],
      "metadata": {
        "id": "UOiyl5Snh3NS"
      }
    },
    {
      "cell_type": "code",
      "source": [
        "# %% Compare Expected Values [test_j1302_ql] start @\n",
        "\n",
        "# (l) Ensure intermediate products exist, pbcor images, RMS image (made by imdev), and cutouts (.subim) from imsubimage\n",
        "success0, report0 = tstobj.get_imgs_exist_results()\n",
        "\n",
        "# (a) tt0 vs 6.1.3, on-axis\n",
        "imstat_vals       = imstat(imagename=img1+'.image.pbcor.tt0.subim',box='1860,1860,1860,1860')\n",
        "curr_stats        = np.squeeze(np.array([imstat_vals['max']]))\n",
        "onaxis_stats      = np.array([0.9509])\n",
        "success1, report1 = tstobj.check_fracdiff(curr_stats, onaxis_stats, valname=\"Frac Diff F_nu vs. on-axis\")\n",
        "casa613_stats     = np.array([0.888])\n",
        "success2, report2 = tstobj.check_fracdiff(curr_stats, casa613_stats, valname=\"Frac Diff F_nu vs. 6.1.3 image\")\n",
        "\n",
        "# (b) tt1 vs 6.1.3, on-axis\n",
        "# no tt1 images for this test, skip\n",
        "\n",
        "# (c) alpha images\n",
        "# TODO\n",
        "# success3, report3 = ...\n",
        "\n",
        "# (d) beamsize comparison vs 6.1.3\n",
        "restbeam          = imhead(img1+'.image.pbcor.tt0.subim')['restoringbeam']\n",
        "beamstats_curr    = np.array([restbeam['major']['value'], restbeam['minor']['value'], restbeam['positionangle']['value']])\n",
        "beamstats_613     = np.array([3.1565470695495605, 2.58677792549133, 11.282347679138184])\n",
        "success4, report4 = tstobj.check_fracdiff(beamstats_curr, beamstats_613, valname=\"Frac Diff Maj, Min, PA vs 6.1.3\")\n",
        "\n",
        "# (e) Confirm presence of model column in resultant MS\n",
        "success5, report5 = tstobj.check_column_exists(\"MODEL_DATA\")\n",
        "\n",
        "report  = \"\".join([report0, report1, report2, report4, report5])\n",
        "success = success1 and success2 and success4 and success5 and th.check_final(report)\n",
        "casalog.post(report, \"INFO\")\n",
        "\n",
        "# %% Compare Expected Valued [test_j1302_ql] end @"
      ],
      "metadata": {
        "id": "JDFK5mv7g9_y"
      },
      "execution_count": null,
      "outputs": []
    },
    {
      "cell_type": "markdown",
      "source": [
        "Has anything in the notebook changed that needs to be synced to the unittest or vice versa? (eg have the expected values changed?)\n",
        "\n",
        "Run the script \"sync_notebooks_with_unittests.py\" to update the values:\n",
        "\n",
        "1.   Download this .ipynb\n",
        "2.   Run \"python3 sync_notebooks_with_unittests.py --tonb\" or \"python3 sync_notebooks_with_unittests.py --tout\", as appropriate.\n",
        "3.   Commit\n",
        "4.   Update this notebook in google colab (or whatever)"
      ],
      "metadata": {
        "id": "O9E_o8Txibjz"
      }
    }
  ]
}