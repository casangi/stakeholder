{
 "cells": [
  {
   "cell_type": "markdown",
   "metadata": {},
   "source": [
    "## Certify and install required python modules."
   ]
  },
  {
   "cell_type": "code",
   "execution_count": 1,
   "metadata": {},
   "outputs": [],
   "source": [
    "import os\n",
    "import sys\n",
    "import subprocess\n",
    "import pkg_resources\n",
    "\n",
    "__require = {'casatools', 'casatasks', 'casatestutils', 'panel', 'astropy', 'matplotlib', 'numpy'}\n",
    "__installed = {pkg.key for pkg in pkg_resources.working_set}\n",
    "    \n",
    "__missing = __require - __installed\n",
    "\n",
    "\n",
    "if len(__missing) > 0:\n",
    "    subprocess.check_call([sys.executable, '-m', 'pip', 'install', *__missing], stdout=subprocess.DEVNULL)"
   ]
  },
  {
   "cell_type": "code",
   "execution_count": 2,
   "metadata": {
    "id": "VlBxKASNqblr"
   },
   "outputs": [
    {
     "name": "stdout",
     "output_type": "stream",
     "text": [
      "attempting to install/update runtime data in /users/jhoskins/.casa/data\n",
      "...........\n"
     ]
    }
   ],
   "source": [
    "!python3 -m casatools --update-user-data"
   ]
  },
  {
   "cell_type": "markdown",
   "metadata": {
    "id": "Y5_Y1wfXFMoo"
   },
   "source": [
    "## Utility Functions"
   ]
  },
  {
   "cell_type": "code",
   "execution_count": 3,
   "metadata": {
    "colab": {
     "base_uri": "https://localhost:8080/"
    },
    "id": "SsZH-VzmYs8P",
    "outputId": "1ac54b27-ed61-4818-a3d5-13c738434e77"
   },
   "outputs": [],
   "source": [
    "def clean_data():\n",
    "    import os\n",
    "    \n",
    "    os.system('rm -rf standard_cube* *.log *.png *.html')"
   ]
  },
  {
   "cell_type": "markdown",
   "metadata": {
    "id": "J88MWrnHFXZP"
   },
   "source": [
    "## Stakeholder Dataset"
   ]
  },
  {
   "cell_type": "markdown",
   "metadata": {
    "id": "qkRyVmChIil2"
   },
   "source": [
    "```\n",
    "Dataset(s) (MOUS)\n",
    "E2E6.1.00034.S (uid://A002/Xcff05c/X1ec)\n",
    "\n",
    "Test list:\n",
    "1c.  SF cube with pcwdT, weighting=briggsbwtaper - E2E6.1.00034.S\n",
    "\n",
    "Each test stores reference values in dictionaries for the metrics\n",
    "to be tested and these dictionaries are stored in a single nested dictionary\n",
    "in a json file located in the casatestdata repository. \n",
    "The path of json file is stored in the variable, \n",
    "       self.expdict_jsonfile  \n",
    "in test_tclean_base.setUp(). \n",
    "\n",
    "* NOTE for updating the tests and fiducial values in json file *\n",
    "When the json file is updated and its 'casa_version'\n",
    "could also be updated then self.refversion in the setUp() needs to be updated to\n",
    "match with the 'casa_version' as defined in the json file otherwise \n",
    "almastkteestutils.read_testcase_expdicts() print an error message.\n",
    "\n",
    "The fudicial metric values for a specific image are stored with the following keys.\n",
    " \n",
    "For the standard tests, default sets are:\n",
    "    exp_im_stats, exp_mask_stats, exp_pb_stats, exp_psf_stats,\n",
    "    exp_model_stats, exp_resid_stats, exp_sumwt_stats\n",
    "For mosaic tests, the ones above and\n",
    "    exp_wt_stats (for mosaic)\n",
    "Additionally, for cube imaging (if self.parallel=True),\n",
    "    exp_bmin_dict, exp_bmaj_dict, exp_pa_dict\n",
    "And for mtmfs\n",
    "    exp_im1_stats, exp_model1_stats, exp_resid1_stats, exp_sumwt1_stats\n",
    "```"
   ]
  },
  {
   "cell_type": "markdown",
   "metadata": {
    "id": "RfDJlKvqGFKj"
   },
   "source": [
    "## Load Stakeholder Data"
   ]
  },
  {
   "cell_type": "code",
   "execution_count": 4,
   "metadata": {
    "colab": {
     "base_uri": "https://localhost:8080/"
    },
    "id": "9vDBSCKw2a2h",
    "outputId": "72320507-413d-44ab-ce5f-6838b4646451"
   },
   "outputs": [
    {
     "name": "stdout",
     "output_type": "stream",
     "text": [
      "--2022-01-27 11:28:29--  https://www.cv.nrao.edu/~jhoskins/E2E6.1.00034.S_tclean.ms.tar\n",
      "Resolving www.cv.nrao.edu (www.cv.nrao.edu)... 192.33.115.129\n",
      "Connecting to www.cv.nrao.edu (www.cv.nrao.edu)|192.33.115.129|:443... connected.\n",
      "HTTP request sent, awaiting response... 200 OK\n",
      "Length: 195870720 (187M) [application/x-tar]\n",
      "Saving to: ‘E2E6.1.00034.S_tclean.ms.tar’\n",
      "\n",
      "E2E6.1.00034.S_tcle 100%[===================>] 186.80M   113MB/s    in 1.7s    \n",
      "\n",
      "2022-01-27 11:28:31 (113 MB/s) - ‘E2E6.1.00034.S_tclean.ms.tar’ saved [195870720/195870720]\n",
      "\n",
      "FINISHED --2022-01-27 11:28:31--\n",
      "Total wall clock time: 1.7s\n",
      "Downloaded: 1 files, 187M in 1.7s (113 MB/s)\n",
      "E2E6.1.00034.S_tclean.ms/\n",
      "E2E6.1.00034.S_tclean.ms/ANTENNA/\n",
      "E2E6.1.00034.S_tclean.ms/ANTENNA/table.dat\n",
      "E2E6.1.00034.S_tclean.ms/ANTENNA/table.f0\n",
      "E2E6.1.00034.S_tclean.ms/ANTENNA/table.info\n",
      "E2E6.1.00034.S_tclean.ms/ANTENNA/table.lock\n",
      "E2E6.1.00034.S_tclean.ms/ASDM_ANTENNA/\n",
      "E2E6.1.00034.S_tclean.ms/ASDM_ANTENNA/table.dat\n",
      "E2E6.1.00034.S_tclean.ms/ASDM_ANTENNA/table.f0\n",
      "E2E6.1.00034.S_tclean.ms/ASDM_ANTENNA/table.f0i\n",
      "E2E6.1.00034.S_tclean.ms/ASDM_ANTENNA/table.info\n",
      "E2E6.1.00034.S_tclean.ms/ASDM_ANTENNA/table.lock\n",
      "E2E6.1.00034.S_tclean.ms/ASDM_CALATMOSPHERE/\n",
      "E2E6.1.00034.S_tclean.ms/ASDM_CALATMOSPHERE/table.dat\n",
      "E2E6.1.00034.S_tclean.ms/ASDM_CALATMOSPHERE/table.f0\n",
      "E2E6.1.00034.S_tclean.ms/ASDM_CALATMOSPHERE/table.f0i\n",
      "E2E6.1.00034.S_tclean.ms/ASDM_CALATMOSPHERE/table.info\n",
      "E2E6.1.00034.S_tclean.ms/ASDM_CALATMOSPHERE/table.lock\n",
      "E2E6.1.00034.S_tclean.ms/ASDM_CALPOINTING/\n",
      "E2E6.1.00034.S_tclean.ms/ASDM_CALPOINTING/table.dat\n",
      "E2E6.1.00034.S_tclean.ms/ASDM_CALPOINTING/table.f0\n",
      "E2E6.1.00034.S_tclean.ms/ASDM_CALPOINTING/table.f0i\n",
      "E2E6.1.00034.S_tclean.ms/ASDM_CALPOINTING/table.info\n",
      "E2E6.1.00034.S_tclean.ms/ASDM_CALPOINTING/table.lock\n",
      "E2E6.1.00034.S_tclean.ms/ASDM_CALWVR/\n",
      "E2E6.1.00034.S_tclean.ms/ASDM_CALWVR/table.dat\n",
      "E2E6.1.00034.S_tclean.ms/ASDM_CALWVR/table.f0\n",
      "E2E6.1.00034.S_tclean.ms/ASDM_CALWVR/table.f0i\n",
      "E2E6.1.00034.S_tclean.ms/ASDM_CALWVR/table.info\n",
      "E2E6.1.00034.S_tclean.ms/ASDM_CALWVR/table.lock\n",
      "E2E6.1.00034.S_tclean.ms/ASDM_EXECBLOCK/\n",
      "E2E6.1.00034.S_tclean.ms/ASDM_EXECBLOCK/table.dat\n",
      "E2E6.1.00034.S_tclean.ms/ASDM_EXECBLOCK/table.f0\n",
      "E2E6.1.00034.S_tclean.ms/ASDM_EXECBLOCK/table.info\n",
      "E2E6.1.00034.S_tclean.ms/ASDM_EXECBLOCK/table.lock\n",
      "E2E6.1.00034.S_tclean.ms/ASDM_RECEIVER/\n",
      "E2E6.1.00034.S_tclean.ms/ASDM_RECEIVER/table.dat\n",
      "E2E6.1.00034.S_tclean.ms/ASDM_RECEIVER/table.f0\n",
      "E2E6.1.00034.S_tclean.ms/ASDM_RECEIVER/table.f0i\n",
      "E2E6.1.00034.S_tclean.ms/ASDM_RECEIVER/table.info\n",
      "E2E6.1.00034.S_tclean.ms/ASDM_RECEIVER/table.lock\n",
      "E2E6.1.00034.S_tclean.ms/table.dat\n",
      "E2E6.1.00034.S_tclean.ms/table.f1\n",
      "E2E6.1.00034.S_tclean.ms/table.f10\n",
      "E2E6.1.00034.S_tclean.ms/table.f11\n",
      "E2E6.1.00034.S_tclean.ms/table.f12\n",
      "E2E6.1.00034.S_tclean.ms/table.f13\n",
      "E2E6.1.00034.S_tclean.ms/table.f14\n",
      "E2E6.1.00034.S_tclean.ms/table.f15\n",
      "E2E6.1.00034.S_tclean.ms/table.f16\n",
      "E2E6.1.00034.S_tclean.ms/table.f17\n",
      "E2E6.1.00034.S_tclean.ms/table.f17_TSM1\n",
      "E2E6.1.00034.S_tclean.ms/table.f18\n",
      "E2E6.1.00034.S_tclean.ms/table.f19\n",
      "E2E6.1.00034.S_tclean.ms/table.f19_TSM0\n",
      "E2E6.1.00034.S_tclean.ms/table.f2\n",
      "E2E6.1.00034.S_tclean.ms/table.f20\n",
      "E2E6.1.00034.S_tclean.ms/table.f20_TSM1\n",
      "E2E6.1.00034.S_tclean.ms/table.f21\n",
      "E2E6.1.00034.S_tclean.ms/table.f21_TSM1\n",
      "E2E6.1.00034.S_tclean.ms/table.f22\n",
      "E2E6.1.00034.S_tclean.ms/table.f22_TSM1\n",
      "E2E6.1.00034.S_tclean.ms/table.f3\n",
      "E2E6.1.00034.S_tclean.ms/table.f4\n",
      "E2E6.1.00034.S_tclean.ms/table.f5\n",
      "E2E6.1.00034.S_tclean.ms/table.f6\n",
      "E2E6.1.00034.S_tclean.ms/table.f7\n",
      "E2E6.1.00034.S_tclean.ms/table.f8\n",
      "E2E6.1.00034.S_tclean.ms/table.f9\n",
      "E2E6.1.00034.S_tclean.ms/table.info\n",
      "E2E6.1.00034.S_tclean.ms/table.lock\n",
      "E2E6.1.00034.S_tclean.ms/ASDM_SBSUMMARY/\n",
      "E2E6.1.00034.S_tclean.ms/ASDM_SBSUMMARY/table.dat\n",
      "E2E6.1.00034.S_tclean.ms/ASDM_SBSUMMARY/table.f0\n",
      "E2E6.1.00034.S_tclean.ms/ASDM_SBSUMMARY/table.f0i\n",
      "E2E6.1.00034.S_tclean.ms/ASDM_SBSUMMARY/table.info\n",
      "E2E6.1.00034.S_tclean.ms/ASDM_SBSUMMARY/table.lock\n",
      "E2E6.1.00034.S_tclean.ms/ASDM_SOURCE/\n",
      "E2E6.1.00034.S_tclean.ms/ASDM_SOURCE/table.dat\n",
      "E2E6.1.00034.S_tclean.ms/ASDM_SOURCE/table.f0\n",
      "E2E6.1.00034.S_tclean.ms/ASDM_SOURCE/table.f0i\n",
      "E2E6.1.00034.S_tclean.ms/ASDM_SOURCE/table.info\n",
      "E2E6.1.00034.S_tclean.ms/ASDM_SOURCE/table.lock\n",
      "E2E6.1.00034.S_tclean.ms/ASDM_STATION/\n",
      "E2E6.1.00034.S_tclean.ms/ASDM_STATION/table.dat\n",
      "E2E6.1.00034.S_tclean.ms/ASDM_STATION/table.f0\n",
      "E2E6.1.00034.S_tclean.ms/ASDM_STATION/table.f0i\n",
      "E2E6.1.00034.S_tclean.ms/ASDM_STATION/table.info\n",
      "E2E6.1.00034.S_tclean.ms/ASDM_STATION/table.lock\n",
      "E2E6.1.00034.S_tclean.ms/CALDEVICE/\n",
      "E2E6.1.00034.S_tclean.ms/CALDEVICE/table.dat\n",
      "E2E6.1.00034.S_tclean.ms/CALDEVICE/table.f0\n",
      "E2E6.1.00034.S_tclean.ms/CALDEVICE/table.f0i\n",
      "E2E6.1.00034.S_tclean.ms/CALDEVICE/table.info\n",
      "E2E6.1.00034.S_tclean.ms/CALDEVICE/table.lock\n",
      "E2E6.1.00034.S_tclean.ms/DATA_DESCRIPTION/\n",
      "E2E6.1.00034.S_tclean.ms/DATA_DESCRIPTION/table.dat\n",
      "E2E6.1.00034.S_tclean.ms/DATA_DESCRIPTION/table.f0\n",
      "E2E6.1.00034.S_tclean.ms/DATA_DESCRIPTION/table.info\n",
      "E2E6.1.00034.S_tclean.ms/DATA_DESCRIPTION/table.lock\n",
      "E2E6.1.00034.S_tclean.ms/FEED/\n",
      "E2E6.1.00034.S_tclean.ms/FEED/table.dat\n",
      "E2E6.1.00034.S_tclean.ms/FEED/table.f0\n",
      "E2E6.1.00034.S_tclean.ms/FEED/table.f0i\n",
      "E2E6.1.00034.S_tclean.ms/FEED/table.info\n",
      "E2E6.1.00034.S_tclean.ms/FEED/table.lock\n",
      "E2E6.1.00034.S_tclean.ms/FIELD/\n",
      "E2E6.1.00034.S_tclean.ms/FIELD/table.dat\n",
      "E2E6.1.00034.S_tclean.ms/FIELD/table.f0\n",
      "E2E6.1.00034.S_tclean.ms/FIELD/table.f0i\n",
      "E2E6.1.00034.S_tclean.ms/FIELD/table.info\n",
      "E2E6.1.00034.S_tclean.ms/FIELD/table.lock\n",
      "E2E6.1.00034.S_tclean.ms/FLAG_CMD/\n",
      "E2E6.1.00034.S_tclean.ms/FLAG_CMD/table.dat\n",
      "E2E6.1.00034.S_tclean.ms/FLAG_CMD/table.f0\n",
      "E2E6.1.00034.S_tclean.ms/FLAG_CMD/table.info\n",
      "E2E6.1.00034.S_tclean.ms/FLAG_CMD/table.lock\n",
      "E2E6.1.00034.S_tclean.ms/HISTORY/\n",
      "E2E6.1.00034.S_tclean.ms/HISTORY/table.dat\n",
      "E2E6.1.00034.S_tclean.ms/HISTORY/table.f0\n",
      "E2E6.1.00034.S_tclean.ms/HISTORY/table.info\n",
      "E2E6.1.00034.S_tclean.ms/HISTORY/table.lock\n",
      "E2E6.1.00034.S_tclean.ms/OBSERVATION/\n",
      "E2E6.1.00034.S_tclean.ms/OBSERVATION/table.dat\n",
      "E2E6.1.00034.S_tclean.ms/OBSERVATION/table.f0\n",
      "E2E6.1.00034.S_tclean.ms/OBSERVATION/table.info\n",
      "E2E6.1.00034.S_tclean.ms/OBSERVATION/table.lock\n",
      "E2E6.1.00034.S_tclean.ms/POINTING/\n",
      "E2E6.1.00034.S_tclean.ms/POINTING/table.dat\n",
      "E2E6.1.00034.S_tclean.ms/POINTING/table.f0\n",
      "E2E6.1.00034.S_tclean.ms/POINTING/table.f0i\n",
      "E2E6.1.00034.S_tclean.ms/POINTING/table.info\n",
      "E2E6.1.00034.S_tclean.ms/POINTING/table.lock\n",
      "E2E6.1.00034.S_tclean.ms/POLARIZATION/\n",
      "E2E6.1.00034.S_tclean.ms/POLARIZATION/table.dat\n",
      "E2E6.1.00034.S_tclean.ms/POLARIZATION/table.f0\n",
      "E2E6.1.00034.S_tclean.ms/POLARIZATION/table.f0i\n",
      "E2E6.1.00034.S_tclean.ms/POLARIZATION/table.info\n",
      "E2E6.1.00034.S_tclean.ms/POLARIZATION/table.lock\n",
      "E2E6.1.00034.S_tclean.ms/PROCESSOR/\n",
      "E2E6.1.00034.S_tclean.ms/PROCESSOR/table.dat\n",
      "E2E6.1.00034.S_tclean.ms/PROCESSOR/table.f0\n",
      "E2E6.1.00034.S_tclean.ms/PROCESSOR/table.info\n",
      "E2E6.1.00034.S_tclean.ms/PROCESSOR/table.lock\n",
      "E2E6.1.00034.S_tclean.ms/SOURCE/\n",
      "E2E6.1.00034.S_tclean.ms/SOURCE/table.dat\n",
      "E2E6.1.00034.S_tclean.ms/SOURCE/table.f0\n",
      "E2E6.1.00034.S_tclean.ms/SOURCE/table.f0i\n",
      "E2E6.1.00034.S_tclean.ms/SOURCE/table.info\n",
      "E2E6.1.00034.S_tclean.ms/SOURCE/table.lock\n",
      "E2E6.1.00034.S_tclean.ms/SPECTRAL_WINDOW/\n",
      "E2E6.1.00034.S_tclean.ms/SPECTRAL_WINDOW/table.dat\n",
      "E2E6.1.00034.S_tclean.ms/SPECTRAL_WINDOW/table.f0\n",
      "E2E6.1.00034.S_tclean.ms/SPECTRAL_WINDOW/table.f0i\n",
      "E2E6.1.00034.S_tclean.ms/SPECTRAL_WINDOW/table.info\n",
      "E2E6.1.00034.S_tclean.ms/SPECTRAL_WINDOW/table.lock\n",
      "E2E6.1.00034.S_tclean.ms/STATE/\n",
      "E2E6.1.00034.S_tclean.ms/STATE/table.dat\n",
      "E2E6.1.00034.S_tclean.ms/STATE/table.f0\n",
      "E2E6.1.00034.S_tclean.ms/STATE/table.info\n",
      "E2E6.1.00034.S_tclean.ms/STATE/table.lock\n",
      "E2E6.1.00034.S_tclean.ms/SYSCAL/\n",
      "E2E6.1.00034.S_tclean.ms/SYSCAL/table.dat\n",
      "E2E6.1.00034.S_tclean.ms/SYSCAL/table.f0\n",
      "E2E6.1.00034.S_tclean.ms/SYSCAL/table.f0i\n",
      "E2E6.1.00034.S_tclean.ms/SYSCAL/table.info\n",
      "E2E6.1.00034.S_tclean.ms/SYSCAL/table.lock\n",
      "E2E6.1.00034.S_tclean.ms/SYSPOWER/\n",
      "E2E6.1.00034.S_tclean.ms/SYSPOWER/table.dat\n",
      "E2E6.1.00034.S_tclean.ms/SYSPOWER/table.f0\n",
      "E2E6.1.00034.S_tclean.ms/SYSPOWER/table.f0i\n",
      "E2E6.1.00034.S_tclean.ms/SYSPOWER/table.info\n",
      "E2E6.1.00034.S_tclean.ms/SYSPOWER/table.lock\n",
      "E2E6.1.00034.S_tclean.ms/WEATHER/\n",
      "E2E6.1.00034.S_tclean.ms/WEATHER/table.dat\n",
      "E2E6.1.00034.S_tclean.ms/WEATHER/table.f0\n",
      "E2E6.1.00034.S_tclean.ms/WEATHER/table.info\n",
      "E2E6.1.00034.S_tclean.ms/WEATHER/table.lock\n"
     ]
    },
    {
     "name": "stdout",
     "output_type": "stream",
     "text": [
      "--2022-01-27 11:28:31--  https://www.cv.nrao.edu/~jhoskins/test_stk_alma_pipeline_imaging_exp_dicts.json\n",
      "Resolving www.cv.nrao.edu (www.cv.nrao.edu)... 192.33.115.129\n",
      "Connecting to www.cv.nrao.edu (www.cv.nrao.edu)|192.33.115.129|:443... connected.\n",
      "HTTP request sent, awaiting response... 200 OK\n",
      "Length: 726297 (709K) [application/json]\n",
      "Saving to: ‘test_stk_alma_pipeline_imaging_exp_dicts.json’\n",
      "\n",
      "test_stk_alma_pipel 100%[===================>] 709.27K  --.-KB/s    in 0.006s  \n",
      "\n",
      "2022-01-27 11:28:31 (110 MB/s) - ‘test_stk_alma_pipeline_imaging_exp_dicts.json’ saved [726297/726297]\n",
      "\n",
      "FINISHED --2022-01-27 11:28:31--\n",
      "Total wall clock time: 0.06s\n",
      "Downloaded: 1 files, 709K in 0.006s (110 MB/s)\n"
     ]
    },
    {
     "data": {
      "text/plain": [
       "0"
      ]
     },
     "execution_count": 4,
     "metadata": {},
     "output_type": "execute_result"
    }
   ],
   "source": [
    "!wget -r -np -nH --cut-dirs=4 --reject \"index.html*\" https://www.cv.nrao.edu/~jhoskins/E2E6.1.00034.S_tclean.ms.tar\n",
    "!tar -xvf E2E6.1.00034.S_tclean.ms.tar\n",
    "os.system('mv E2E6.1.00034.S_tclean.ms data/')\n",
    "\n",
    "!wget -r -np -nH --cut-dirs=4 --reject \"index.html*\" https://www.cv.nrao.edu/~jhoskins/test_stk_alma_pipeline_imaging_exp_dicts.json\n",
    "os.system('cp test_stk_alma_pipeline_imaging_exp_dicts.json ./data/')    "
   ]
  },
  {
   "cell_type": "markdown",
   "metadata": {},
   "source": [
    "## Enable mpi"
   ]
  },
  {
   "cell_type": "code",
   "execution_count": 5,
   "metadata": {},
   "outputs": [],
   "source": [
    "parallel = False"
   ]
  },
  {
   "cell_type": "markdown",
   "metadata": {
    "id": "rcdI_4s_Fusc"
   },
   "source": [
    "## Import Required Dependencies"
   ]
  },
  {
   "cell_type": "code",
   "execution_count": 6,
   "metadata": {
    "colab": {
     "base_uri": "https://localhost:8080/",
     "height": 34
    },
    "id": "BZv81A02X5DX",
    "outputId": "701e9c11-c24d-487c-9c9d-b7f6f7855211"
   },
   "outputs": [],
   "source": [
    "import casatasks\n",
    "import casatools\n",
    "import panel as pn\n",
    "\n",
    "from astropy.io import fits\n",
    "from astropy.wcs import WCS\n",
    "\n",
    "import pylab as pl\n",
    "import numpy as np\n",
    "\n",
    "import scripts.test_standard_cube_briggsbwtaper as stk"
   ]
  },
  {
   "cell_type": "markdown",
   "metadata": {
    "id": "tzhuhki9F6ds"
   },
   "source": [
    "## User Stakeholder Test\n",
    "\n",
    "The unit test script is broken into **three** core parts within the notebook.\n",
    "\n",
    "- Setup\n",
    "- Modifiable Tests\n",
    "- Metric Checks and Reporting\n",
    "\n",
    "### Setup \n",
    "The setup section handles setting up the untit test and general class instantiation. In general the user shouldn't have to change this. For those that are developing their own stakeholder test, the setup section would include all the functions required to run the unit tests along with any user defined utility functions specific to their tests.\n",
    "\n",
    "### Testing\n",
    "The testing section makes the stakeholder test code available to the user such that they can modify parameters, check their diagnostic and rerun the tests. The tests in the notebook are presented as they are defined in the unit testing script including their default values. **It is recommended that the user restart the kernel and run all after each change**\n",
    "\n",
    "### Metric Checks and Testing\n",
    "This section runs the unit tests built in metric code as well as allowing the user to write their won diagnostics code. In addition, the user can access and tweak the values in the 'expected metrics' JSON using the setter/getter functionality.\n",
    "\n",
    "**Getting**\n",
    "`new_dict = standard.exp_dict`\n",
    "\n",
    "**Modifying**\n",
    "`new_dict['exp_im_stats']['im_rms'][1] = <new value>`\n",
    "\n",
    "**Setting**\n",
    "`standard.exp_dict = new_dict`\n",
    "\n",
    "The user can now rerun the metric test functions and the new dictionay will be used. This will not be the case if the kernel or the testing class is reinstantiated."
   ]
  },
  {
   "cell_type": "markdown",
   "metadata": {},
   "source": [
    "## Setup"
   ]
  },
  {
   "cell_type": "code",
   "execution_count": 7,
   "metadata": {
    "id": "z2Stn3MBcYfE"
   },
   "outputs": [
    {
     "name": "stdout",
     "output_type": "stream",
     "text": [
      "Setting data_path: /export/home/fornax/jhoskins/Development/environments/notebook/stakeholder/data/\n"
     ]
    }
   ],
   "source": [
    "standard = stk.Test_standard()\n",
    "\n",
    "standard.set_file_path(path=os.getcwd()+\"/data/\")\n",
    "\n",
    "standard.setUp()\n",
    "standard.test_standard_cube_briggsbwtaper()"
   ]
  },
  {
   "cell_type": "markdown",
   "metadata": {},
   "source": [
    "## Testing\n",
    "\n",
    "The head(footer) are used with `nbsyc.py` which allows the user to sync change either from `notebook` --> `scipt` or `script` --> `notebook`. The formatting of the headers(footers) is important. There must be a single whitespace after the header and before the footer. Any changes made between the header(footer) will be sync with `nbsync.py`."
   ]
  },
  {
   "cell_type": "code",
   "execution_count": 8,
   "metadata": {
    "colab": {
     "base_uri": "https://localhost:8080/"
    },
    "id": "PijniNbycfPc",
    "outputId": "8e9b4a7b-91ad-4781-a618-30e8ff29c52f"
   },
   "outputs": [
    {
     "data": {
      "text/plain": [
       "{}"
      ]
     },
     "execution_count": 8,
     "metadata": {},
     "output_type": "execute_result"
    }
   ],
   "source": [
    "msfile = standard.data_path + 'E2E6.1.00034.S_tclean.ms'\n",
    "file_name = standard.file_name\n",
    "\n",
    "# %% test_standard_cube_briggsbwtaper_tclean_1 start @\n",
    "\n",
    "casatasks.tclean(vis=msfile, \n",
    "                 imagename=file_name+'0', \n",
    "                 field='1',\n",
    "                 spw=['0'], \n",
    "                 imsize=[80, 80], \n",
    "                 antenna=['0,1,2,3,4,5,6,7,8'], \n",
    "                 scan=['8,12,16'], \n",
    "                 intent='OBSERVE_TARGET#ON_SOURCE',\n",
    "                 datacolumn='data', \n",
    "                 cell=['1.1arcsec'], \n",
    "                 phasecenter='ICRS 00:45:54.3836 -073.15.29.413', \n",
    "                 stokes='I', \n",
    "                 specmode='cube',\n",
    "                 nchan=508, \n",
    "                 start='220.2526743594GHz', \n",
    "                 width='0.2441741MHz',\n",
    "                 outframe='LSRK', \n",
    "                 pblimit=0.2, \n",
    "                 perchanweightdensity=True,\n",
    "                 gridder='standard', \n",
    "                 mosweight=False,\n",
    "                 deconvolver='hogbom', \n",
    "                 usepointing=False, \n",
    "                 restoration=False,\n",
    "                 pbcor=False, \n",
    "                 weighting='briggsbwtaper', \n",
    "                 restoringbeam='common',\n",
    "                 robust=0.5, npixels=0, \n",
    "                 niter=0, \n",
    "                 threshold='0.0mJy', \n",
    "                 nsigma=0.0,\n",
    "                 interactive=0, \n",
    "                 usemask='auto-multithresh',\n",
    "                 sidelobethreshold=1.25, \n",
    "                 noisethreshold=5.0,\n",
    "                 lownoisethreshold=2.0, \n",
    "                 negativethreshold=0.0, \n",
    "                 minbeamfrac=0.1,\n",
    "                 growiterations=75, \n",
    "                 dogrowprune=True, \n",
    "                 minpercentchange=1.0,\n",
    "                 fastnoise=False, \n",
    "                 savemodel='none', \n",
    "                 parallel=parallel,\n",
    "                 verbose=True)\n",
    "\n",
    "# %% test_standard_cube_briggsbwtaper_tclean_1 end @\n"
   ]
  },
  {
   "cell_type": "code",
   "execution_count": 9,
   "metadata": {
    "colab": {
     "base_uri": "https://localhost:8080/"
    },
    "id": "s8EX0CndzHQM",
    "outputId": "a14a7aaa-9c33-4ff0-bd80-3fc4dfc470fc"
   },
   "outputs": [
    {
     "name": "stdout",
     "output_type": "stream",
     "text": [
      "Copying iter0 files to iter1\n"
     ]
    },
    {
     "data": {
      "text/plain": [
       "{'blc': array([0, 0, 0, 0]),\n",
       " 'blcf': '00:46:04.574, -73.16.13.397, I, 2.202527e+11Hz',\n",
       " 'max': array([1.]),\n",
       " 'maxpos': array([40, 40,  0,  0]),\n",
       " 'maxposf': '00:45:54.384, -73.15.29.413, I, 2.202527e+11Hz',\n",
       " 'mean': array([0.00213068]),\n",
       " 'medabsdevmed': array([0.06809951]),\n",
       " 'median': array([-0.03720173]),\n",
       " 'min': array([-0.20378327]),\n",
       " 'minpos': array([  7,  13,   0, 473]),\n",
       " 'minposf': '00:46:02.789, -73.15.59.102, I, 2.203682e+11Hz',\n",
       " 'npts': array([3251200.]),\n",
       " 'q1': array([-0.09263814]),\n",
       " 'q3': array([0.06073105]),\n",
       " 'quartile': array([0.15336919]),\n",
       " 'rms': array([0.13685789]),\n",
       " 'sigma': array([0.13684132]),\n",
       " 'sum': array([6927.26572989]),\n",
       " 'sumsq': array([60895.2410615]),\n",
       " 'trc': array([ 79,  79,   0, 507]),\n",
       " 'trcf': '00:45:44.462, -73.14.46.498, I, 2.203765e+11Hz'}"
      ]
     },
     "execution_count": 9,
     "metadata": {},
     "output_type": "execute_result"
    }
   ],
   "source": [
    "print('Copying iter0 files to iter1')\n",
    "standard.copy_products(file_name+'0', file_name+'1')\n",
    "\n",
    "casatasks.imstat(standard.file_name + '0.psf')"
   ]
  },
  {
   "cell_type": "code",
   "execution_count": 10,
   "metadata": {
    "colab": {
     "base_uri": "https://localhost:8080/"
    },
    "id": "Pv_7DKiQcd90",
    "outputId": "644d185c-e17d-4a5b-e9aa-2104d04634cf"
   },
   "outputs": [
    {
     "data": {
      "text/plain": [
       "{'cleanstate': 'running',\n",
       " 'cyclefactor': 1.0,\n",
       " 'cycleiterdone': 0,\n",
       " 'cycleniter': 20000,\n",
       " 'cyclethreshold': 0.1810014843940735,\n",
       " 'interactiveiterdone': 19,\n",
       " 'interactivemode': False,\n",
       " 'interactiveniter': 0,\n",
       " 'interactivethreshold': 0.0,\n",
       " 'iterdone': 32,\n",
       " 'loopgain': 0.10000000149011612,\n",
       " 'maxpsffraction': 0.800000011920929,\n",
       " 'maxpsfsidelobe': 0.509247362613678,\n",
       " 'minpsffraction': 0.05000000074505806,\n",
       " 'niter': 20000,\n",
       " 'nmajordone': 2,\n",
       " 'nsigma': 0.0,\n",
       " 'stopcode': 2,\n",
       " 'summarymajor': array([15, 32]),\n",
       " 'summaryminor': array([[  9.        ,  24.        ,  25.        ,  42.        ],\n",
       "        [  0.51566607,   0.49087879,   0.35147971,   0.35124114],\n",
       "        [  0.65050554,   0.43279624,   1.6620127 ,   1.08244705],\n",
       "        [  0.51891911,   0.51891911,   0.354     ,   0.354     ],\n",
       "        [  0.        ,   0.        ,   0.        ,   0.        ],\n",
       "        [254.        , 256.        , 254.        , 256.        ]]),\n",
       " 'threshold': 0.3540000021457672}"
      ]
     },
     "execution_count": 10,
     "metadata": {},
     "output_type": "execute_result"
    }
   ],
   "source": [
    "# %% test_standard_cube_briggsbwtaper_tclean_2 start @\n",
    "\n",
    "casatasks.tclean(vis=msfile, \n",
    "                 imagename=file_name+'1', \n",
    "                 field='1',\n",
    "                 spw=['0'], \n",
    "                 imsize=[80, 80], \n",
    "                 antenna=['0,1,2,3,4,5,6,7,8'],\n",
    "                 scan=['8,12,16'], \n",
    "                 intent='OBSERVE_TARGET#ON_SOURCE',\n",
    "                 datacolumn='data', \n",
    "                 cell=['1.1arcsec'], \n",
    "                 phasecenter='ICRS 00:45:54.3836 -073.15.29.413', \n",
    "                 stokes='I', \n",
    "                 specmode='cube',\n",
    "                 nchan=508, \n",
    "                 start='220.2526743594GHz', \n",
    "                 width='0.2441741MHz',\n",
    "                 outframe='LSRK', \n",
    "                 perchanweightdensity=True,\n",
    "                 usepointing=False, \n",
    "                 pblimit=0.2, \n",
    "                 nsigma=0.0,\n",
    "                 gridder='standard', \n",
    "                 mosweight=False, \n",
    "                 deconvolver='hogbom', \n",
    "                 restoration=True, \n",
    "                 restoringbeam='common', \n",
    "                 pbcor=True, \n",
    "                 weighting='briggsbwtaper', \n",
    "                 robust=0.5, \n",
    "                 npixels=0, \n",
    "                 niter=20000,\n",
    "                 threshold='0.354Jy', \n",
    "                 interactive=0, \n",
    "                 usemask='auto-multithresh', \n",
    "                 sidelobethreshold=1.25, \n",
    "                 noisethreshold=5.0, \n",
    "                 lownoisethreshold=2.0, \n",
    "                 negativethreshold=0.0,\n",
    "                 minbeamfrac=0.08, \n",
    "                 growiterations=75, \n",
    "                 dogrowprune=True,\n",
    "                 minpercentchange=1.0, \n",
    "                 fastnoise=False, \n",
    "                 restart=True, \n",
    "                 calcres=False, \n",
    "                 calcpsf=False, \n",
    "                 savemodel='none',\n",
    "                 parallel=parallel, \n",
    "                 verbose=True)\n",
    "\n",
    "# %% test_standard_cube_briggsbwtaper_tclean_2 end @"
   ]
  },
  {
   "cell_type": "markdown",
   "metadata": {
    "id": "6t2vW9TAGOnf"
   },
   "source": [
    "## Produce Standard Cube Report"
   ]
  },
  {
   "cell_type": "markdown",
   "metadata": {
    "id": "OyXwWoMYRILb"
   },
   "source": [
    "\n"
   ]
  },
  {
   "cell_type": "code",
   "execution_count": 11,
   "metadata": {
    "id": "dfM5kNB7ckkN",
    "scrolled": false
   },
   "outputs": [
    {
     "name": "stdout",
     "output_type": "stream",
     "text": [
      "pstr after checkims = [ check_ims ] Image made : ['/export/home/fornax/jhoskins/Development/environments/notebook/stakeholder/standard_cube_briggsbwtaper.iter1.psf', '/export/home/fornax/jhoskins/Development/environments/notebook/stakeholder/standard_cube_briggsbwtaper.iter1.residual', '/export/home/fornax/jhoskins/Development/environments/notebook/stakeholder/standard_cube_briggsbwtaper.iter1.image', '/export/home/fornax/jhoskins/Development/environments/notebook/stakeholder/standard_cube_briggsbwtaper.iter1.image.pbcor', '/export/home/fornax/jhoskins/Development/environments/notebook/stakeholder/standard_cube_briggsbwtaper.iter1.mask', '/export/home/fornax/jhoskins/Development/environments/notebook/stakeholder/standard_cube_briggsbwtaper.iter1.pb', '/export/home/fornax/jhoskins/Development/environments/notebook/stakeholder/standard_cube_briggsbwtaper.iter1.model', '/export/home/fornax/jhoskins/Development/environments/notebook/stakeholder/standard_cube_briggsbwtaper.iter1.sumwt'] =  [True, True, True, True, True, True, True, True] ( Pass : should all be True )\n",
      "\n",
      "pstr after check_keywords = [ check_ims ] Image made : ['/export/home/fornax/jhoskins/Development/environments/notebook/stakeholder/standard_cube_briggsbwtaper.iter1.psf', '/export/home/fornax/jhoskins/Development/environments/notebook/stakeholder/standard_cube_briggsbwtaper.iter1.residual', '/export/home/fornax/jhoskins/Development/environments/notebook/stakeholder/standard_cube_briggsbwtaper.iter1.image', '/export/home/fornax/jhoskins/Development/environments/notebook/stakeholder/standard_cube_briggsbwtaper.iter1.image.pbcor', '/export/home/fornax/jhoskins/Development/environments/notebook/stakeholder/standard_cube_briggsbwtaper.iter1.mask', '/export/home/fornax/jhoskins/Development/environments/notebook/stakeholder/standard_cube_briggsbwtaper.iter1.pb', '/export/home/fornax/jhoskins/Development/environments/notebook/stakeholder/standard_cube_briggsbwtaper.iter1.model', '/export/home/fornax/jhoskins/Development/environments/notebook/stakeholder/standard_cube_briggsbwtaper.iter1.sumwt'] =  [True, True, True, True, True, True, True, True] ( Pass : should all be True )\n",
      "All expected keywords in imageinfo, miscinfo, and coords found. (check_keywords)\n",
      "\n",
      "pstr after check_history = [ check_ims ] Image made : ['/export/home/fornax/jhoskins/Development/environments/notebook/stakeholder/standard_cube_briggsbwtaper.iter1.psf', '/export/home/fornax/jhoskins/Development/environments/notebook/stakeholder/standard_cube_briggsbwtaper.iter1.residual', '/export/home/fornax/jhoskins/Development/environments/notebook/stakeholder/standard_cube_briggsbwtaper.iter1.image', '/export/home/fornax/jhoskins/Development/environments/notebook/stakeholder/standard_cube_briggsbwtaper.iter1.image.pbcor', '/export/home/fornax/jhoskins/Development/environments/notebook/stakeholder/standard_cube_briggsbwtaper.iter1.mask', '/export/home/fornax/jhoskins/Development/environments/notebook/stakeholder/standard_cube_briggsbwtaper.iter1.pb', '/export/home/fornax/jhoskins/Development/environments/notebook/stakeholder/standard_cube_briggsbwtaper.iter1.model', '/export/home/fornax/jhoskins/Development/environments/notebook/stakeholder/standard_cube_briggsbwtaper.iter1.sumwt'] =  [True, True, True, True, True, True, True, True] ( Pass : should all be True )\n",
      "All expected keywords in imageinfo, miscinfo, and coords found. (check_keywords)\n",
      "[check_history] All expected history entries found. (Pass)\n",
      "\n",
      "Saving %s dictionaries 10\n",
      "Setting test dictionary value.\n",
      "---> Tear it down.\n",
      "Closing ia tool\n"
     ]
    },
    {
     "data": {
      "image/png": "[encoded data removed]",
      "text/plain": [
       "<Figure size 432x288 with 1 Axes>"
      ]
     },
     "metadata": {
      "needs_background": "light"
     },
     "output_type": "display_data"
    }
   ],
   "source": [
    "standard.standard_cube_report()"
   ]
  },
  {
   "cell_type": "markdown",
   "metadata": {},
   "source": [
    "## Clean Data\n",
    "Uncomment this if you want to clean the working files out of the directory."
   ]
  },
  {
   "cell_type": "code",
   "execution_count": null,
   "metadata": {},
   "outputs": [],
   "source": [
    "#clean_data()"
   ]
  },
  {
   "cell_type": "markdown",
   "metadata": {},
   "source": [
    "## Example: Modifying Expected Metrics JSON"
   ]
  },
  {
   "cell_type": "code",
   "execution_count": null,
   "metadata": {},
   "outputs": [],
   "source": [
    "# Getting expected values JSON\n",
    "\n",
    "import json\n",
    "\n",
    "new_dict = standard.exp_dict\n",
    "new_dict_pretty = json.dumps(new_dict, indent=4)\n",
    "\n",
    "print(new_dict_pretty)"
   ]
  },
  {
   "cell_type": "code",
   "execution_count": null,
   "metadata": {},
   "outputs": [],
   "source": [
    "# Modifying expected values JSON\n",
    "\n",
    "new_dict['exp_im_stats']['com_bmin'][1] = 6.203"
   ]
  },
  {
   "cell_type": "code",
   "execution_count": null,
   "metadata": {},
   "outputs": [],
   "source": [
    "# Setting expected values JSON\n",
    "\n",
    "standard.exp_dict = new_dict\n",
    "\n",
    "exp_dict_pretty = json.dumps(standard.exp_dict, indent=4)\n",
    "\n",
    "print(exp_dict_pretty)"
   ]
  }
 ],
 "metadata": {
  "colab": {
   "collapsed_sections": [
    "J88MWrnHFXZP",
    "5omVbUilFTK6"
   ],
   "name": "stakeholder.ipynb",
   "provenance": []
  },
  "kernelspec": {
   "display_name": "Python 3",
   "language": "python",
   "name": "python3"
  },
  "language_info": {
   "codemirror_mode": {
    "name": "ipython",
    "version": 3
   },
   "file_extension": ".py",
   "mimetype": "text/x-python",
   "name": "python",
   "nbconvert_exporter": "python",
   "pygments_lexer": "ipython3",
   "version": "3.6.8"
  }
 },
 "nbformat": 4,
 "nbformat_minor": 1
}
